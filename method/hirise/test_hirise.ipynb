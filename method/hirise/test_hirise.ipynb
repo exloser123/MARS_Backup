{
 "cells": [
  {
   "cell_type": "markdown",
   "source": [
    "## 更新HiRise数据\n",
    "### HiRise_Update代码原型"
   ],
   "metadata": {
    "collapsed": false
   },
   "id": "5599094a7dff3dcf"
  },
  {
   "cell_type": "code",
   "execution_count": 1,
   "id": "initial_id",
   "metadata": {
    "collapsed": true,
    "ExecuteTime": {
     "end_time": "2023-10-26T14:28:16.479654500Z",
     "start_time": "2023-10-26T14:28:15.742427200Z"
    }
   },
   "outputs": [],
   "source": [
    "import pdr\n",
    "import numpy as np\n",
    "import pandas as pd\n",
    "import requests\n",
    "from bs4 import BeautifulSoup\n",
    "import re\n",
    "import time\n",
    "import os\n",
    "\n",
    "img_url = \"https://www.uahirise.org/PDS/DTM/ESP/ORB_045300_045399/ESP_045318_2680_ESP_045346_2680/DTEPC_045318_2680_045346_2680_A01.IMG\""
   ]
  },
  {
   "cell_type": "code",
   "execution_count": 2,
   "outputs": [],
   "source": [
    "# os.system(r'\"\"C:\\Program Files (x86)\\Thunder Network\\Thunder\\Program\\ThunderStart.exe\"\" {url}'.format(url=url))"
   ],
   "metadata": {
    "collapsed": false,
    "ExecuteTime": {
     "end_time": "2023-10-26T14:28:16.485655400Z",
     "start_time": "2023-10-26T14:28:16.480654500Z"
    }
   },
   "id": "fc71f81e8c81d150"
  },
  {
   "cell_type": "code",
   "execution_count": 3,
   "outputs": [],
   "source": [
    "def check_start(file_name):#判断文件是否开始下载\n",
    "    tmp=file_name+'.xltd.cfg'\n",
    "    return os.path.exists(tmp)\n",
    "\n",
    "def check_end(fiename):#检查文件是否下载成功\n",
    "    return os.path.exists(fiename)\n",
    "\n",
    "def download(url,sava_path):#下载文件\n",
    "    os.system(r'\"\"C:\\Program Files (x86)\\Thunder Network\\Thunder\\Program\\ThunderStart.exe\"\" {url}'.format(url=url))#迅雷ThunderStart.exe的路径\n",
    "    time.sleep(10)\n",
    "    print(\"正在下载 {}\".format(sava_path.split('/')[-1]))\n",
    "    if check_start(sava_path):\n",
    "        while True:\n",
    "            time.sleep(2)\n",
    "            if check_end(sava_path):\n",
    "                return True\n",
    "    else:\n",
    "        return False"
   ],
   "metadata": {
    "collapsed": false,
    "ExecuteTime": {
     "end_time": "2023-10-26T14:28:16.492656900Z",
     "start_time": "2023-10-26T14:28:16.485655400Z"
    }
   },
   "id": "8751a7b422fdd56d"
  },
  {
   "cell_type": "code",
   "execution_count": 4,
   "outputs": [],
   "source": [
    "from tqdm import tqdm\n",
    "\n",
    "\n",
    "def duan_download(url, file_name):\n",
    "    r = requests.get(url, stream=True)\n",
    "    # 获取文件大小\n",
    "    file_size = int(r.headers['content-length'])\n",
    "    # 如果文件存在获取文件大小，否在从 0 开始下载，\n",
    "    first_byte = 0\n",
    "    if os.path.exists(file_name):\n",
    "        first_byte = os.path.getsize(file_name)\n",
    "\n",
    "    # 判断是否已经下载完成\n",
    "    if first_byte >= file_size:\n",
    "        return\n",
    "    # Range 加入请求头\n",
    "    header = {\"Range\": f\"bytes={first_byte}-{file_size}\"}\n",
    "    # 加了一个 initial 参数\n",
    "    with tqdm(total=file_size, unit='B', initial=first_byte, unit_scale=True, unit_divisor=1024, ascii=True,\n",
    "              desc=file_name) as bar:\n",
    "        # 加 headers 参数\n",
    "        with requests.get(url, headers=header, stream=True) as r:\n",
    "            with open(file_name, 'ab') as fp:\n",
    "                for chunk in r.iter_content(chunk_size=512):\n",
    "                    if chunk:\n",
    "                        fp.write(chunk)\n",
    "                        bar.update(len(chunk))"
   ],
   "metadata": {
    "collapsed": false,
    "ExecuteTime": {
     "end_time": "2023-10-26T14:28:16.512661800Z",
     "start_time": "2023-10-26T14:28:16.493657Z"
    }
   },
   "id": "1baae370c2368433"
  },
  {
   "cell_type": "code",
   "execution_count": 5,
   "outputs": [
    {
     "name": "stdout",
     "output_type": "stream",
     "text": [
      "代理可用\n"
     ]
    }
   ],
   "source": [
    "lbl_url = \"https://www.uahirise.org/PDS/INDEX/DTMCUMINDEX.LBL\"\n",
    "tab_url = \"https://www.uahirise.org/PDS/INDEX/DTMCUMINDEX.TAB\"\n",
    "lbl_path = \"data/DTMCUMINDEX.LBL\"\n",
    "tab_path = \"data/DTMCUMINDEX.TAB\"\n",
    "proxy = {'http': 'http://127.0.0.1:9078'}\n",
    "# 用www.google.com测试代理是否可用\n",
    "r = requests.get('http://www.google.com', proxies=proxy)\n",
    "if r.status_code == 200:\n",
    "    print('代理可用')\n",
    "else:\n",
    "    print('代理不可用')"
   ],
   "metadata": {
    "collapsed": false,
    "ExecuteTime": {
     "end_time": "2023-10-26T14:28:17.409560200Z",
     "start_time": "2023-10-26T14:28:16.506660500Z"
    }
   },
   "id": "c297ddb49ada3c67"
  },
  {
   "cell_type": "code",
   "execution_count": 6,
   "outputs": [],
   "source": [
    "# # 获取lbl_url和tab_url的文件大小\n",
    "# r = requests.get(lbl_url, proxies=proxy)\n",
    "# lbl_size = int(r.headers['content-length'])\n",
    "# r = requests.get(tab_url, proxies=proxy)\n",
    "# tab_size = int(r.headers['content-length'])"
   ],
   "metadata": {
    "collapsed": false,
    "ExecuteTime": {
     "end_time": "2023-10-26T14:28:17.409560200Z",
     "start_time": "2023-10-26T14:28:17.405557700Z"
    }
   },
   "id": "149f26f5033d0f03"
  },
  {
   "cell_type": "code",
   "execution_count": 7,
   "outputs": [],
   "source": [
    "# # 如果文件存在且大小相等，不下载\n",
    "# if os.path.exists(lbl_path) and os.path.exists(tab_path) and os.path.getsize(lbl_path) == lbl_size and os.path.getsize(\n",
    "#         tab_path) == tab_size:\n",
    "#     print(\"文件已存在\")\n",
    "# else:\n",
    "#     # 下载文件\n",
    "#     duan_download(lbl_url, lbl_path)\n",
    "#     duan_download(tab_url, tab_path)"
   ],
   "metadata": {
    "collapsed": false,
    "ExecuteTime": {
     "end_time": "2023-10-26T14:28:17.415561400Z",
     "start_time": "2023-10-26T14:28:17.409560200Z"
    }
   },
   "id": "34c4cdd8737ca0bb"
  },
  {
   "cell_type": "code",
   "execution_count": 8,
   "outputs": [
    {
     "data": {
      "text/plain": "pdr.Data(E:\\PycharmProjects\\mars_sim_web\\method\\hirise\\data\\DTMCUMINDEX.LBL)\nkeys=['LABEL', 'RDR_INDEX_TABLE']\nnot yet loaded: ('LABEL', 'RDR_INDEX_TABLE')"
     },
     "execution_count": 8,
     "metadata": {},
     "output_type": "execute_result"
    }
   ],
   "source": [
    "index_tab = pdr.read(lbl_path)\n",
    "index_tab"
   ],
   "metadata": {
    "collapsed": false,
    "ExecuteTime": {
     "end_time": "2023-10-26T14:28:17.428093300Z",
     "start_time": "2023-10-26T14:28:17.413561400Z"
    }
   },
   "id": "ff5f662a20455f25"
  },
  {
   "cell_type": "code",
   "execution_count": 9,
   "outputs": [
    {
     "data": {
      "text/plain": "       VOLUME_ID                            FILE_NAME_SPECIFICATION  \\\n0     MROHR_0001  DTM/PSP/ORB_001300_001399/PSP_001336_1560_PSP_...   \n1     MROHR_0001  DTM/PSP/ORB_001300_001399/PSP_001336_1560_PSP_...   \n2     MROHR_0001  DTM/PSP/ORB_001300_001399/PSP_001336_1560_PSP_...   \n3     MROHR_0001  DTM/PSP/ORB_001300_001399/PSP_001336_1560_PSP_...   \n4     MROHR_0001  DTM/PSP/ORB_001300_001399/PSP_001336_1560_PSP_...   \n...          ...                                                ...   \n9880  MROHR_0001  DTM/ESP/ORB_076500_076599/ESP_076532_0920_ESP_...   \n9881  MROHR_0001  DTM/ESP/ORB_076500_076599/ESP_076532_0920_ESP_...   \n9882  MROHR_0001  DTM/ESP/ORB_076500_076599/ESP_076532_0920_ESP_...   \n9883  MROHR_0001  DTM/ESP/ORB_076500_076599/ESP_076532_0920_ESP_...   \n9884  MROHR_0001  DTM/ESP/ORB_076500_076599/ESP_076532_0920_ESP_...   \n\n     INSTRUMENT_HOST_ID INSTRUMENT_ID                         PRODUCT_ID  \\\n0                   MRO        HIRISE  PSP_001336_1560_RED_C_01_ORTHO      \n1                   MRO        HIRISE  DTEEC_001336_1560_001534_1560_U01   \n2                   MRO        HIRISE  PSP_001336_1560_RED_A_01_ORTHO      \n3                   MRO        HIRISE  PSP_001534_1560_RED_A_01_ORTHO      \n4                   MRO        HIRISE  PSP_001534_1560_RED_C_01_ORTHO      \n...                 ...           ...                                ...   \n9880                MRO        HIRISE  DTEPD_076532_0920_076203_0920_A01   \n9881                MRO        HIRISE  ESP_076532_0920_IRB_B_01_ORTHO      \n9882                MRO        HIRISE  ESP_076532_0920_IRB_D_01_ORTHO      \n9883                MRO        HIRISE  ESP_076532_0920_RED_B_01_ORTHO      \n9884                MRO        HIRISE  ESP_076532_0920_RED_D_01_ORTHO      \n\n      PRODUCT_VERSION_ID                       TARGET_NAME  \\\n0                      1  MARS                               \n1                      1  MARS                               \n2                      1  MARS                               \n3                      1  MARS                               \n4                      1  MARS                               \n...                  ...                               ...   \n9880                   1  MARS                               \n9881                   1  MARS                               \n9882                   1  MARS                               \n9883                   1  MARS                               \n9884                   1  MARS                               \n\n                                         RATIONALE_DESC LEFT_OBSERVATION_ID  \\\n0     Fan/deltaic landform in west Eberswalde Crater...     PSP_001336_1560   \n1     Fan/deltaic landform in west Eberswalde Crater...     PSP_001336_1560   \n2     Fan/deltaic landform in west Eberswalde Crater...     PSP_001336_1560   \n3     Fan/deltaic landform in west Eberswalde Crater...     PSP_001534_1560   \n4     Fan/deltaic landform in west Eberswalde Crater...     PSP_001534_1560   \n...                                                 ...                 ...   \n9880  South polar residual cap                      ...     ESP_076532_0920   \n9881  South polar residual cap                      ...     ESP_076532_0920   \n9882  South polar residual cap                      ...     ESP_076532_0920   \n9883  South polar residual cap                      ...     ESP_076532_0920   \n9884  South polar residual cap                      ...     ESP_076532_0920   \n\n     RIGHT_OBSERVATION_ID  ... LINE_PROJECTION_OFFSET  \\\n0         NA               ...             -1393080.0   \n1         PSP_001534_1560  ...             -1393080.0   \n2         NA               ...             -5572330.0   \n3         NA               ...             -5572330.0   \n4         NA               ...             -1393080.0   \n...                   ...  ...                    ...   \n9880      ESP_076203_0920  ...               -23070.0   \n9881      NA               ...               -92278.5   \n9882      NA               ...               -23070.0   \n9883      NA               ...               -92278.5   \n9884      NA               ...               -23070.0   \n\n     SAMPLE_PROJECTION_OFFSET  CORNER1_LATITUDE  CORNER1_LONGITUDE  \\\n0                      3143.5          -23.7216           326.3240   \n1                      3143.5          -23.7216           326.3240   \n2                     12571.5          -23.7216           326.3240   \n3                     12571.5          -23.7216           326.3240   \n4                      3143.5          -23.7216           326.3240   \n...                       ...               ...                ...   \n9880                  57261.0          -87.8860           243.2798   \n9881                 229045.5          -87.8860           243.2798   \n9882                  57261.0          -87.8860           243.2798   \n9883                 229045.5          -87.8860           243.2798   \n9884                  57261.0          -87.8860           243.2798   \n\n      CORNER2_LATITUDE  CORNER2_LONGITUDE  CORNER3_LATITUDE  \\\n0              -23.712           326.4130          -23.9584   \n1              -23.712           326.4130          -23.9584   \n2              -23.712           326.4130          -23.9584   \n3              -23.712           326.4130          -23.9584   \n4              -23.712           326.4130          -23.9584   \n...                ...                ...               ...   \n9880           -87.842           243.8538          -87.9248   \n9881           -87.842           243.8538          -87.9248   \n9882           -87.842           243.8538          -87.9248   \n9883           -87.842           243.8538          -87.9248   \n9884           -87.842           243.8538          -87.9248   \n\n      CORNER3_LONGITUDE  CORNER4_LATITUDE  CORNER4_LONGITUDE  \n0               326.445          -23.9696           326.3570  \n1               326.445          -23.9696           326.3570  \n2               326.445          -23.9696           326.3570  \n3               326.445          -23.9696           326.3570  \n4               326.445          -23.9696           326.3570  \n...                 ...               ...                ...  \n9880            247.786          -87.9724           247.2666  \n9881            247.786          -87.9724           247.2666  \n9882            247.786          -87.9724           247.2666  \n9883            247.786          -87.9724           247.2666  \n9884            247.786          -87.9724           247.2666  \n\n[9885 rows x 34 columns]",
      "text/html": "<div>\n<style scoped>\n    .dataframe tbody tr th:only-of-type {\n        vertical-align: middle;\n    }\n\n    .dataframe tbody tr th {\n        vertical-align: top;\n    }\n\n    .dataframe thead th {\n        text-align: right;\n    }\n</style>\n<table border=\"1\" class=\"dataframe\">\n  <thead>\n    <tr style=\"text-align: right;\">\n      <th></th>\n      <th>VOLUME_ID</th>\n      <th>FILE_NAME_SPECIFICATION</th>\n      <th>INSTRUMENT_HOST_ID</th>\n      <th>INSTRUMENT_ID</th>\n      <th>PRODUCT_ID</th>\n      <th>PRODUCT_VERSION_ID</th>\n      <th>TARGET_NAME</th>\n      <th>RATIONALE_DESC</th>\n      <th>LEFT_OBSERVATION_ID</th>\n      <th>RIGHT_OBSERVATION_ID</th>\n      <th>...</th>\n      <th>LINE_PROJECTION_OFFSET</th>\n      <th>SAMPLE_PROJECTION_OFFSET</th>\n      <th>CORNER1_LATITUDE</th>\n      <th>CORNER1_LONGITUDE</th>\n      <th>CORNER2_LATITUDE</th>\n      <th>CORNER2_LONGITUDE</th>\n      <th>CORNER3_LATITUDE</th>\n      <th>CORNER3_LONGITUDE</th>\n      <th>CORNER4_LATITUDE</th>\n      <th>CORNER4_LONGITUDE</th>\n    </tr>\n  </thead>\n  <tbody>\n    <tr>\n      <th>0</th>\n      <td>MROHR_0001</td>\n      <td>DTM/PSP/ORB_001300_001399/PSP_001336_1560_PSP_...</td>\n      <td>MRO</td>\n      <td>HIRISE</td>\n      <td>PSP_001336_1560_RED_C_01_ORTHO</td>\n      <td>1</td>\n      <td>MARS</td>\n      <td>Fan/deltaic landform in west Eberswalde Crater...</td>\n      <td>PSP_001336_1560</td>\n      <td>NA</td>\n      <td>...</td>\n      <td>-1393080.0</td>\n      <td>3143.5</td>\n      <td>-23.7216</td>\n      <td>326.3240</td>\n      <td>-23.712</td>\n      <td>326.4130</td>\n      <td>-23.9584</td>\n      <td>326.445</td>\n      <td>-23.9696</td>\n      <td>326.3570</td>\n    </tr>\n    <tr>\n      <th>1</th>\n      <td>MROHR_0001</td>\n      <td>DTM/PSP/ORB_001300_001399/PSP_001336_1560_PSP_...</td>\n      <td>MRO</td>\n      <td>HIRISE</td>\n      <td>DTEEC_001336_1560_001534_1560_U01</td>\n      <td>1</td>\n      <td>MARS</td>\n      <td>Fan/deltaic landform in west Eberswalde Crater...</td>\n      <td>PSP_001336_1560</td>\n      <td>PSP_001534_1560</td>\n      <td>...</td>\n      <td>-1393080.0</td>\n      <td>3143.5</td>\n      <td>-23.7216</td>\n      <td>326.3240</td>\n      <td>-23.712</td>\n      <td>326.4130</td>\n      <td>-23.9584</td>\n      <td>326.445</td>\n      <td>-23.9696</td>\n      <td>326.3570</td>\n    </tr>\n    <tr>\n      <th>2</th>\n      <td>MROHR_0001</td>\n      <td>DTM/PSP/ORB_001300_001399/PSP_001336_1560_PSP_...</td>\n      <td>MRO</td>\n      <td>HIRISE</td>\n      <td>PSP_001336_1560_RED_A_01_ORTHO</td>\n      <td>1</td>\n      <td>MARS</td>\n      <td>Fan/deltaic landform in west Eberswalde Crater...</td>\n      <td>PSP_001336_1560</td>\n      <td>NA</td>\n      <td>...</td>\n      <td>-5572330.0</td>\n      <td>12571.5</td>\n      <td>-23.7216</td>\n      <td>326.3240</td>\n      <td>-23.712</td>\n      <td>326.4130</td>\n      <td>-23.9584</td>\n      <td>326.445</td>\n      <td>-23.9696</td>\n      <td>326.3570</td>\n    </tr>\n    <tr>\n      <th>3</th>\n      <td>MROHR_0001</td>\n      <td>DTM/PSP/ORB_001300_001399/PSP_001336_1560_PSP_...</td>\n      <td>MRO</td>\n      <td>HIRISE</td>\n      <td>PSP_001534_1560_RED_A_01_ORTHO</td>\n      <td>1</td>\n      <td>MARS</td>\n      <td>Fan/deltaic landform in west Eberswalde Crater...</td>\n      <td>PSP_001534_1560</td>\n      <td>NA</td>\n      <td>...</td>\n      <td>-5572330.0</td>\n      <td>12571.5</td>\n      <td>-23.7216</td>\n      <td>326.3240</td>\n      <td>-23.712</td>\n      <td>326.4130</td>\n      <td>-23.9584</td>\n      <td>326.445</td>\n      <td>-23.9696</td>\n      <td>326.3570</td>\n    </tr>\n    <tr>\n      <th>4</th>\n      <td>MROHR_0001</td>\n      <td>DTM/PSP/ORB_001300_001399/PSP_001336_1560_PSP_...</td>\n      <td>MRO</td>\n      <td>HIRISE</td>\n      <td>PSP_001534_1560_RED_C_01_ORTHO</td>\n      <td>1</td>\n      <td>MARS</td>\n      <td>Fan/deltaic landform in west Eberswalde Crater...</td>\n      <td>PSP_001534_1560</td>\n      <td>NA</td>\n      <td>...</td>\n      <td>-1393080.0</td>\n      <td>3143.5</td>\n      <td>-23.7216</td>\n      <td>326.3240</td>\n      <td>-23.712</td>\n      <td>326.4130</td>\n      <td>-23.9584</td>\n      <td>326.445</td>\n      <td>-23.9696</td>\n      <td>326.3570</td>\n    </tr>\n    <tr>\n      <th>...</th>\n      <td>...</td>\n      <td>...</td>\n      <td>...</td>\n      <td>...</td>\n      <td>...</td>\n      <td>...</td>\n      <td>...</td>\n      <td>...</td>\n      <td>...</td>\n      <td>...</td>\n      <td>...</td>\n      <td>...</td>\n      <td>...</td>\n      <td>...</td>\n      <td>...</td>\n      <td>...</td>\n      <td>...</td>\n      <td>...</td>\n      <td>...</td>\n      <td>...</td>\n      <td>...</td>\n    </tr>\n    <tr>\n      <th>9880</th>\n      <td>MROHR_0001</td>\n      <td>DTM/ESP/ORB_076500_076599/ESP_076532_0920_ESP_...</td>\n      <td>MRO</td>\n      <td>HIRISE</td>\n      <td>DTEPD_076532_0920_076203_0920_A01</td>\n      <td>1</td>\n      <td>MARS</td>\n      <td>South polar residual cap                      ...</td>\n      <td>ESP_076532_0920</td>\n      <td>ESP_076203_0920</td>\n      <td>...</td>\n      <td>-23070.0</td>\n      <td>57261.0</td>\n      <td>-87.8860</td>\n      <td>243.2798</td>\n      <td>-87.842</td>\n      <td>243.8538</td>\n      <td>-87.9248</td>\n      <td>247.786</td>\n      <td>-87.9724</td>\n      <td>247.2666</td>\n    </tr>\n    <tr>\n      <th>9881</th>\n      <td>MROHR_0001</td>\n      <td>DTM/ESP/ORB_076500_076599/ESP_076532_0920_ESP_...</td>\n      <td>MRO</td>\n      <td>HIRISE</td>\n      <td>ESP_076532_0920_IRB_B_01_ORTHO</td>\n      <td>1</td>\n      <td>MARS</td>\n      <td>South polar residual cap                      ...</td>\n      <td>ESP_076532_0920</td>\n      <td>NA</td>\n      <td>...</td>\n      <td>-92278.5</td>\n      <td>229045.5</td>\n      <td>-87.8860</td>\n      <td>243.2798</td>\n      <td>-87.842</td>\n      <td>243.8538</td>\n      <td>-87.9248</td>\n      <td>247.786</td>\n      <td>-87.9724</td>\n      <td>247.2666</td>\n    </tr>\n    <tr>\n      <th>9882</th>\n      <td>MROHR_0001</td>\n      <td>DTM/ESP/ORB_076500_076599/ESP_076532_0920_ESP_...</td>\n      <td>MRO</td>\n      <td>HIRISE</td>\n      <td>ESP_076532_0920_IRB_D_01_ORTHO</td>\n      <td>1</td>\n      <td>MARS</td>\n      <td>South polar residual cap                      ...</td>\n      <td>ESP_076532_0920</td>\n      <td>NA</td>\n      <td>...</td>\n      <td>-23070.0</td>\n      <td>57261.0</td>\n      <td>-87.8860</td>\n      <td>243.2798</td>\n      <td>-87.842</td>\n      <td>243.8538</td>\n      <td>-87.9248</td>\n      <td>247.786</td>\n      <td>-87.9724</td>\n      <td>247.2666</td>\n    </tr>\n    <tr>\n      <th>9883</th>\n      <td>MROHR_0001</td>\n      <td>DTM/ESP/ORB_076500_076599/ESP_076532_0920_ESP_...</td>\n      <td>MRO</td>\n      <td>HIRISE</td>\n      <td>ESP_076532_0920_RED_B_01_ORTHO</td>\n      <td>1</td>\n      <td>MARS</td>\n      <td>South polar residual cap                      ...</td>\n      <td>ESP_076532_0920</td>\n      <td>NA</td>\n      <td>...</td>\n      <td>-92278.5</td>\n      <td>229045.5</td>\n      <td>-87.8860</td>\n      <td>243.2798</td>\n      <td>-87.842</td>\n      <td>243.8538</td>\n      <td>-87.9248</td>\n      <td>247.786</td>\n      <td>-87.9724</td>\n      <td>247.2666</td>\n    </tr>\n    <tr>\n      <th>9884</th>\n      <td>MROHR_0001</td>\n      <td>DTM/ESP/ORB_076500_076599/ESP_076532_0920_ESP_...</td>\n      <td>MRO</td>\n      <td>HIRISE</td>\n      <td>ESP_076532_0920_RED_D_01_ORTHO</td>\n      <td>1</td>\n      <td>MARS</td>\n      <td>South polar residual cap                      ...</td>\n      <td>ESP_076532_0920</td>\n      <td>NA</td>\n      <td>...</td>\n      <td>-23070.0</td>\n      <td>57261.0</td>\n      <td>-87.8860</td>\n      <td>243.2798</td>\n      <td>-87.842</td>\n      <td>243.8538</td>\n      <td>-87.9248</td>\n      <td>247.786</td>\n      <td>-87.9724</td>\n      <td>247.2666</td>\n    </tr>\n  </tbody>\n</table>\n<p>9885 rows × 34 columns</p>\n</div>"
     },
     "execution_count": 9,
     "metadata": {},
     "output_type": "execute_result"
    }
   ],
   "source": [
    "index_tab = index_tab['RDR_INDEX_TABLE']\n",
    "index_tab"
   ],
   "metadata": {
    "collapsed": false,
    "ExecuteTime": {
     "end_time": "2023-10-26T14:28:17.539223600Z",
     "start_time": "2023-10-26T14:28:17.425092200Z"
    }
   },
   "id": "f7c0bf3816c9ef17"
  },
  {
   "cell_type": "code",
   "execution_count": 10,
   "outputs": [
    {
     "data": {
      "text/plain": "       VOLUME_ID                            FILE_NAME_SPECIFICATION  \\\n1     MROHR_0001  DTM/PSP/ORB_001300_001399/PSP_001336_1560_PSP_...   \n7     MROHR_0001  DTM/PSP/ORB_001400_001499/PSP_001414_1780_PSP_...   \n12    MROHR_0001  DTM/PSP/ORB_001400_001499/PSP_001432_2015_PSP_...   \n15    MROHR_0001  DTM/PSP/ORB_001400_001499/PSP_001462_2015_PSP_...   \n26    MROHR_0001  DTM/PSP/ORB_001400_001499/PSP_001481_1875_PSP_...   \n...          ...                                                ...   \n9840  MROHR_0001  DTM/ESP/ORB_049900_049999/ESP_049945_0930_ESP_...   \n9849  MROHR_0001  DTM/ESP/ORB_063300_063399/ESP_063381_2485_ESP_...   \n9858  MROHR_0001  DTM/ESP/ORB_063300_063399/ESP_063394_2485_ESP_...   \n9867  MROHR_0001  DTM/ESP/ORB_073100_073199/ESP_073183_0995_ESP_...   \n9880  MROHR_0001  DTM/ESP/ORB_076500_076599/ESP_076532_0920_ESP_...   \n\n     INSTRUMENT_HOST_ID INSTRUMENT_ID                         PRODUCT_ID  \\\n1                   MRO        HIRISE  DTEEC_001336_1560_001534_1560_U01   \n7                   MRO        HIRISE  DTEEC_001414_1780_001612_1780_U01   \n12                  MRO        HIRISE  DTEEC_001432_2015_001630_2015_U01   \n15                  MRO        HIRISE  DTEEC_001462_2015_001792_2015_A01   \n26                  MRO        HIRISE  DTEEC_001481_1875_002167_1880_U01   \n...                 ...           ...                                ...   \n9840                MRO        HIRISE  DTEPD_049945_0930_049972_0930_A01   \n9849                MRO        HIRISE  DTEPD_063381_2485_063513_2485_A01   \n9858                MRO        HIRISE  DTEPD_063394_2485_063526_2485_A01   \n9867                MRO        HIRISE  DTEPD_073183_0995_073184_0995_A01   \n9880                MRO        HIRISE  DTEPD_076532_0920_076203_0920_A01   \n\n      PRODUCT_VERSION_ID                       TARGET_NAME  \\\n1                      1  MARS                               \n7                      1  MARS                               \n12                     1  MARS                               \n15                     1  MARS                               \n26                     1  MARS                               \n...                  ...                               ...   \n9840                   1  MARS                               \n9849                   1  MARS                               \n9858                   1  MARS                               \n9867                   1  MARS                               \n9880                   1  MARS                               \n\n                                         RATIONALE_DESC LEFT_OBSERVATION_ID  \\\n1     Fan/deltaic landform in west Eberswalde Crater...     PSP_001336_1560   \n7     Possibily Opportunity Rover landing site      ...     PSP_001414_1780   \n12    Layers in Olympus Mons basal scarp            ...     PSP_001432_2015   \n15    Cratered cones near Hephaestus Fossae         ...     PSP_001462_2015   \n26    Dissected wall of Mojave Crater               ...     PSP_001481_1875   \n...                                                 ...                 ...   \n9840  Possible pit at edge of south polar residual c...     ESP_049945_0930   \n9849  Small crater near Phoenix landing site        ...     ESP_063381_2485   \n9858  Pedestal crater                               ...     ESP_063394_2485   \n9867  Variety of araneiform terrain                 ...     ESP_073183_0995   \n9880  South polar residual cap                      ...     ESP_076532_0920   \n\n     RIGHT_OBSERVATION_ID  ... LINE_PROJECTION_OFFSET  \\\n1         PSP_001534_1560  ...             -1393080.0   \n7         PSP_001612_1780  ...              -119284.0   \n12        PSP_001630_2015  ...              1267620.0   \n15        PSP_001792_2015  ...              1260631.5   \n26        PSP_002167_1880  ...               466260.0   \n...                   ...  ...                    ...   \n9840      ESP_049972_0930  ...                -6940.0   \n9849      ESP_063513_2485  ...               402200.5   \n9858      ESP_063526_2485  ...               387983.5   \n9867      ESP_073184_0995  ...              -269901.0   \n9880      ESP_076203_0920  ...               -23070.0   \n\n     SAMPLE_PROJECTION_OFFSET  CORNER1_LATITUDE  CORNER1_LONGITUDE  \\\n1                      3143.5          -23.7216           326.3240   \n7                       396.5           -2.0369           354.4930   \n12                     3429.5           21.5773           222.2980   \n15                     3308.5           21.4586           123.2702   \n26                     4046.5            7.9462           326.5610   \n...                       ...               ...                ...   \n9840                  85019.0          -87.1311           262.0184   \n9849                 516726.5           68.4526           231.9902   \n9858                 533120.5           68.3059           233.8489   \n9867                  45937.0          -80.4637           188.8443   \n9880                  57261.0          -87.8860           243.2798   \n\n      CORNER2_LATITUDE  CORNER2_LONGITUDE  CORNER3_LATITUDE  \\\n1             -23.7120           326.4130          -23.9584   \n7              -2.0368           354.5120           -2.0647   \n12             21.5872           222.3950           21.4577   \n15             21.4684           123.3698           21.2591   \n26              7.9568           326.6520            7.6027   \n...                ...                ...               ...   \n9840          -87.0898           262.4278          -87.1720   \n9849           68.4684           232.2249           68.3179   \n9858           68.3193           234.0905           68.1752   \n9867          -80.4572           189.0912          -80.7223   \n9880          -87.8420           243.8538          -87.9248   \n\n      CORNER3_LONGITUDE  CORNER4_LATITUDE  CORNER4_LONGITUDE  \n1              326.4450          -23.9696           326.3570  \n7              354.5150           -2.0651           354.4970  \n12             222.4120           21.4469           222.3150  \n15             123.3962           21.2481           123.2981  \n26             326.6950            7.5914           326.6040  \n...                 ...               ...                ...  \n9840           265.2193          -87.2188           264.3801  \n9849           232.2928           68.3033           232.0468  \n9858           234.1542           68.1552           233.9143  \n9867           189.5666          -80.7336           189.4047  \n9880           247.7860          -87.9724           247.2666  \n\n[1016 rows x 34 columns]",
      "text/html": "<div>\n<style scoped>\n    .dataframe tbody tr th:only-of-type {\n        vertical-align: middle;\n    }\n\n    .dataframe tbody tr th {\n        vertical-align: top;\n    }\n\n    .dataframe thead th {\n        text-align: right;\n    }\n</style>\n<table border=\"1\" class=\"dataframe\">\n  <thead>\n    <tr style=\"text-align: right;\">\n      <th></th>\n      <th>VOLUME_ID</th>\n      <th>FILE_NAME_SPECIFICATION</th>\n      <th>INSTRUMENT_HOST_ID</th>\n      <th>INSTRUMENT_ID</th>\n      <th>PRODUCT_ID</th>\n      <th>PRODUCT_VERSION_ID</th>\n      <th>TARGET_NAME</th>\n      <th>RATIONALE_DESC</th>\n      <th>LEFT_OBSERVATION_ID</th>\n      <th>RIGHT_OBSERVATION_ID</th>\n      <th>...</th>\n      <th>LINE_PROJECTION_OFFSET</th>\n      <th>SAMPLE_PROJECTION_OFFSET</th>\n      <th>CORNER1_LATITUDE</th>\n      <th>CORNER1_LONGITUDE</th>\n      <th>CORNER2_LATITUDE</th>\n      <th>CORNER2_LONGITUDE</th>\n      <th>CORNER3_LATITUDE</th>\n      <th>CORNER3_LONGITUDE</th>\n      <th>CORNER4_LATITUDE</th>\n      <th>CORNER4_LONGITUDE</th>\n    </tr>\n  </thead>\n  <tbody>\n    <tr>\n      <th>1</th>\n      <td>MROHR_0001</td>\n      <td>DTM/PSP/ORB_001300_001399/PSP_001336_1560_PSP_...</td>\n      <td>MRO</td>\n      <td>HIRISE</td>\n      <td>DTEEC_001336_1560_001534_1560_U01</td>\n      <td>1</td>\n      <td>MARS</td>\n      <td>Fan/deltaic landform in west Eberswalde Crater...</td>\n      <td>PSP_001336_1560</td>\n      <td>PSP_001534_1560</td>\n      <td>...</td>\n      <td>-1393080.0</td>\n      <td>3143.5</td>\n      <td>-23.7216</td>\n      <td>326.3240</td>\n      <td>-23.7120</td>\n      <td>326.4130</td>\n      <td>-23.9584</td>\n      <td>326.4450</td>\n      <td>-23.9696</td>\n      <td>326.3570</td>\n    </tr>\n    <tr>\n      <th>7</th>\n      <td>MROHR_0001</td>\n      <td>DTM/PSP/ORB_001400_001499/PSP_001414_1780_PSP_...</td>\n      <td>MRO</td>\n      <td>HIRISE</td>\n      <td>DTEEC_001414_1780_001612_1780_U01</td>\n      <td>1</td>\n      <td>MARS</td>\n      <td>Possibily Opportunity Rover landing site      ...</td>\n      <td>PSP_001414_1780</td>\n      <td>PSP_001612_1780</td>\n      <td>...</td>\n      <td>-119284.0</td>\n      <td>396.5</td>\n      <td>-2.0369</td>\n      <td>354.4930</td>\n      <td>-2.0368</td>\n      <td>354.5120</td>\n      <td>-2.0647</td>\n      <td>354.5150</td>\n      <td>-2.0651</td>\n      <td>354.4970</td>\n    </tr>\n    <tr>\n      <th>12</th>\n      <td>MROHR_0001</td>\n      <td>DTM/PSP/ORB_001400_001499/PSP_001432_2015_PSP_...</td>\n      <td>MRO</td>\n      <td>HIRISE</td>\n      <td>DTEEC_001432_2015_001630_2015_U01</td>\n      <td>1</td>\n      <td>MARS</td>\n      <td>Layers in Olympus Mons basal scarp            ...</td>\n      <td>PSP_001432_2015</td>\n      <td>PSP_001630_2015</td>\n      <td>...</td>\n      <td>1267620.0</td>\n      <td>3429.5</td>\n      <td>21.5773</td>\n      <td>222.2980</td>\n      <td>21.5872</td>\n      <td>222.3950</td>\n      <td>21.4577</td>\n      <td>222.4120</td>\n      <td>21.4469</td>\n      <td>222.3150</td>\n    </tr>\n    <tr>\n      <th>15</th>\n      <td>MROHR_0001</td>\n      <td>DTM/PSP/ORB_001400_001499/PSP_001462_2015_PSP_...</td>\n      <td>MRO</td>\n      <td>HIRISE</td>\n      <td>DTEEC_001462_2015_001792_2015_A01</td>\n      <td>1</td>\n      <td>MARS</td>\n      <td>Cratered cones near Hephaestus Fossae         ...</td>\n      <td>PSP_001462_2015</td>\n      <td>PSP_001792_2015</td>\n      <td>...</td>\n      <td>1260631.5</td>\n      <td>3308.5</td>\n      <td>21.4586</td>\n      <td>123.2702</td>\n      <td>21.4684</td>\n      <td>123.3698</td>\n      <td>21.2591</td>\n      <td>123.3962</td>\n      <td>21.2481</td>\n      <td>123.2981</td>\n    </tr>\n    <tr>\n      <th>26</th>\n      <td>MROHR_0001</td>\n      <td>DTM/PSP/ORB_001400_001499/PSP_001481_1875_PSP_...</td>\n      <td>MRO</td>\n      <td>HIRISE</td>\n      <td>DTEEC_001481_1875_002167_1880_U01</td>\n      <td>1</td>\n      <td>MARS</td>\n      <td>Dissected wall of Mojave Crater               ...</td>\n      <td>PSP_001481_1875</td>\n      <td>PSP_002167_1880</td>\n      <td>...</td>\n      <td>466260.0</td>\n      <td>4046.5</td>\n      <td>7.9462</td>\n      <td>326.5610</td>\n      <td>7.9568</td>\n      <td>326.6520</td>\n      <td>7.6027</td>\n      <td>326.6950</td>\n      <td>7.5914</td>\n      <td>326.6040</td>\n    </tr>\n    <tr>\n      <th>...</th>\n      <td>...</td>\n      <td>...</td>\n      <td>...</td>\n      <td>...</td>\n      <td>...</td>\n      <td>...</td>\n      <td>...</td>\n      <td>...</td>\n      <td>...</td>\n      <td>...</td>\n      <td>...</td>\n      <td>...</td>\n      <td>...</td>\n      <td>...</td>\n      <td>...</td>\n      <td>...</td>\n      <td>...</td>\n      <td>...</td>\n      <td>...</td>\n      <td>...</td>\n      <td>...</td>\n    </tr>\n    <tr>\n      <th>9840</th>\n      <td>MROHR_0001</td>\n      <td>DTM/ESP/ORB_049900_049999/ESP_049945_0930_ESP_...</td>\n      <td>MRO</td>\n      <td>HIRISE</td>\n      <td>DTEPD_049945_0930_049972_0930_A01</td>\n      <td>1</td>\n      <td>MARS</td>\n      <td>Possible pit at edge of south polar residual c...</td>\n      <td>ESP_049945_0930</td>\n      <td>ESP_049972_0930</td>\n      <td>...</td>\n      <td>-6940.0</td>\n      <td>85019.0</td>\n      <td>-87.1311</td>\n      <td>262.0184</td>\n      <td>-87.0898</td>\n      <td>262.4278</td>\n      <td>-87.1720</td>\n      <td>265.2193</td>\n      <td>-87.2188</td>\n      <td>264.3801</td>\n    </tr>\n    <tr>\n      <th>9849</th>\n      <td>MROHR_0001</td>\n      <td>DTM/ESP/ORB_063300_063399/ESP_063381_2485_ESP_...</td>\n      <td>MRO</td>\n      <td>HIRISE</td>\n      <td>DTEPD_063381_2485_063513_2485_A01</td>\n      <td>1</td>\n      <td>MARS</td>\n      <td>Small crater near Phoenix landing site        ...</td>\n      <td>ESP_063381_2485</td>\n      <td>ESP_063513_2485</td>\n      <td>...</td>\n      <td>402200.5</td>\n      <td>516726.5</td>\n      <td>68.4526</td>\n      <td>231.9902</td>\n      <td>68.4684</td>\n      <td>232.2249</td>\n      <td>68.3179</td>\n      <td>232.2928</td>\n      <td>68.3033</td>\n      <td>232.0468</td>\n    </tr>\n    <tr>\n      <th>9858</th>\n      <td>MROHR_0001</td>\n      <td>DTM/ESP/ORB_063300_063399/ESP_063394_2485_ESP_...</td>\n      <td>MRO</td>\n      <td>HIRISE</td>\n      <td>DTEPD_063394_2485_063526_2485_A01</td>\n      <td>1</td>\n      <td>MARS</td>\n      <td>Pedestal crater                               ...</td>\n      <td>ESP_063394_2485</td>\n      <td>ESP_063526_2485</td>\n      <td>...</td>\n      <td>387983.5</td>\n      <td>533120.5</td>\n      <td>68.3059</td>\n      <td>233.8489</td>\n      <td>68.3193</td>\n      <td>234.0905</td>\n      <td>68.1752</td>\n      <td>234.1542</td>\n      <td>68.1552</td>\n      <td>233.9143</td>\n    </tr>\n    <tr>\n      <th>9867</th>\n      <td>MROHR_0001</td>\n      <td>DTM/ESP/ORB_073100_073199/ESP_073183_0995_ESP_...</td>\n      <td>MRO</td>\n      <td>HIRISE</td>\n      <td>DTEPD_073183_0995_073184_0995_A01</td>\n      <td>1</td>\n      <td>MARS</td>\n      <td>Variety of araneiform terrain                 ...</td>\n      <td>ESP_073183_0995</td>\n      <td>ESP_073184_0995</td>\n      <td>...</td>\n      <td>-269901.0</td>\n      <td>45937.0</td>\n      <td>-80.4637</td>\n      <td>188.8443</td>\n      <td>-80.4572</td>\n      <td>189.0912</td>\n      <td>-80.7223</td>\n      <td>189.5666</td>\n      <td>-80.7336</td>\n      <td>189.4047</td>\n    </tr>\n    <tr>\n      <th>9880</th>\n      <td>MROHR_0001</td>\n      <td>DTM/ESP/ORB_076500_076599/ESP_076532_0920_ESP_...</td>\n      <td>MRO</td>\n      <td>HIRISE</td>\n      <td>DTEPD_076532_0920_076203_0920_A01</td>\n      <td>1</td>\n      <td>MARS</td>\n      <td>South polar residual cap                      ...</td>\n      <td>ESP_076532_0920</td>\n      <td>ESP_076203_0920</td>\n      <td>...</td>\n      <td>-23070.0</td>\n      <td>57261.0</td>\n      <td>-87.8860</td>\n      <td>243.2798</td>\n      <td>-87.8420</td>\n      <td>243.8538</td>\n      <td>-87.9248</td>\n      <td>247.7860</td>\n      <td>-87.9724</td>\n      <td>247.2666</td>\n    </tr>\n  </tbody>\n</table>\n<p>1016 rows × 34 columns</p>\n</div>"
     },
     "execution_count": 10,
     "metadata": {},
     "output_type": "execute_result"
    }
   ],
   "source": [
    "# index_tab['DATA_TYPE'] 去除空格等于DTM的行\n",
    "index_tab = index_tab[index_tab['DATA_TYPE'].str.strip() == 'DTM']\n",
    "index_tab"
   ],
   "metadata": {
    "collapsed": false,
    "ExecuteTime": {
     "end_time": "2023-10-26T14:28:17.565229100Z",
     "start_time": "2023-10-26T14:28:17.533222500Z"
    }
   },
   "id": "2e5927498193191e"
  },
  {
   "cell_type": "code",
   "execution_count": 11,
   "outputs": [
    {
     "data": {
      "text/plain": "                                FILE_NAME_SPECIFICATION  \\\n0     DTM/PSP/ORB_001300_001399/PSP_001336_1560_PSP_...   \n1     DTM/PSP/ORB_001400_001499/PSP_001414_1780_PSP_...   \n2     DTM/PSP/ORB_001400_001499/PSP_001432_2015_PSP_...   \n3     DTM/PSP/ORB_001400_001499/PSP_001462_2015_PSP_...   \n4     DTM/PSP/ORB_001400_001499/PSP_001481_1875_PSP_...   \n...                                                 ...   \n1011  DTM/ESP/ORB_049900_049999/ESP_049945_0930_ESP_...   \n1012  DTM/ESP/ORB_063300_063399/ESP_063381_2485_ESP_...   \n1013  DTM/ESP/ORB_063300_063399/ESP_063394_2485_ESP_...   \n1014  DTM/ESP/ORB_073100_073199/ESP_073183_0995_ESP_...   \n1015  DTM/ESP/ORB_076500_076599/ESP_076532_0920_ESP_...   \n\n                             PRODUCT_ID  PRODUCT_VERSION_ID  \\\n0     DTEEC_001336_1560_001534_1560_U01                   1   \n1     DTEEC_001414_1780_001612_1780_U01                   1   \n2     DTEEC_001432_2015_001630_2015_U01                   1   \n3     DTEEC_001462_2015_001792_2015_A01                   1   \n4     DTEEC_001481_1875_002167_1880_U01                   1   \n...                                 ...                 ...   \n1011  DTEPD_049945_0930_049972_0930_A01                   1   \n1012  DTEPD_063381_2485_063513_2485_A01                   1   \n1013  DTEPD_063394_2485_063526_2485_A01                   1   \n1014  DTEPD_073183_0995_073184_0995_A01                   1   \n1015  DTEPD_076532_0920_076203_0920_A01                   1   \n\n                                         RATIONALE_DESC LEFT_OBSERVATION_ID  \\\n0     Fan/deltaic landform in west Eberswalde Crater...     PSP_001336_1560   \n1     Possibily Opportunity Rover landing site      ...     PSP_001414_1780   \n2     Layers in Olympus Mons basal scarp            ...     PSP_001432_2015   \n3     Cratered cones near Hephaestus Fossae         ...     PSP_001462_2015   \n4     Dissected wall of Mojave Crater               ...     PSP_001481_1875   \n...                                                 ...                 ...   \n1011  Possible pit at edge of south polar residual c...     ESP_049945_0930   \n1012  Small crater near Phoenix landing site        ...     ESP_063381_2485   \n1013  Pedestal crater                               ...     ESP_063394_2485   \n1014  Variety of araneiform terrain                 ...     ESP_073183_0995   \n1015  South polar residual cap                      ...     ESP_076532_0920   \n\n     RIGHT_OBSERVATION_ID  IMAGE_LINES  LINE_SAMPLES  NORTH_AZIMUTH  \\\n0         PSP_001534_1560        15166          6789       270.0000   \n1         PSP_001612_1780         1694          1279       270.0000   \n2         PSP_001630_2015         8239          6319       270.0000   \n3         PSP_001792_2015        12965          6976       270.0000   \n4         PSP_002167_1880        21419          7823       270.0000   \n...                   ...          ...           ...            ...   \n1011      ESP_049972_0930         4801          3458       173.6200   \n1012      ESP_063513_2485         5840          6130        37.8590   \n1013      ESP_063526_2485         5800          6147        35.9985   \n1014      ESP_073184_0995         8457          2923        99.2055   \n1015      ESP_076203_0920         4969          2287       155.4925   \n\n      MINIMUM_LATITUDE  ...  LINE_PROJECTION_OFFSET  SAMPLE_PROJECTION_OFFSET  \\\n0             -23.9697  ...              -1393080.0                    3143.5   \n1              -2.0652  ...               -119284.0                     396.5   \n2              21.4469  ...               1267620.0                    3429.5   \n3              21.2481  ...               1260631.5                    3308.5   \n4               7.5914  ...                466260.0                    4046.5   \n...                ...  ...                     ...                       ...   \n1011          -87.2189  ...                 -6940.0                   85019.0   \n1012           68.3033  ...                402200.5                  516726.5   \n1013           68.1552  ...                387983.5                  533120.5   \n1014          -80.7334  ...               -269901.0                   45937.0   \n1015          -87.9712  ...                -23070.0                   57261.0   \n\n      CORNER1_LATITUDE  CORNER1_LONGITUDE  CORNER2_LATITUDE CORNER2_LONGITUDE  \\\n0             -23.7216           326.3240          -23.7120          326.4130   \n1              -2.0369           354.4930           -2.0368          354.5120   \n2              21.5773           222.2980           21.5872          222.3950   \n3              21.4586           123.2702           21.4684          123.3698   \n4               7.9462           326.5610            7.9568          326.6520   \n...                ...                ...               ...               ...   \n1011          -87.1311           262.0184          -87.0898          262.4278   \n1012           68.4526           231.9902           68.4684          232.2249   \n1013           68.3059           233.8489           68.3193          234.0905   \n1014          -80.4637           188.8443          -80.4572          189.0912   \n1015          -87.8860           243.2798          -87.8420          243.8538   \n\n      CORNER3_LATITUDE  CORNER3_LONGITUDE  CORNER4_LATITUDE  CORNER4_LONGITUDE  \n0             -23.9584           326.4450          -23.9696           326.3570  \n1              -2.0647           354.5150           -2.0651           354.4970  \n2              21.4577           222.4120           21.4469           222.3150  \n3              21.2591           123.3962           21.2481           123.2981  \n4               7.6027           326.6950            7.5914           326.6040  \n...                ...                ...               ...                ...  \n1011          -87.1720           265.2193          -87.2188           264.3801  \n1012           68.3179           232.2928           68.3033           232.0468  \n1013           68.1752           234.1542           68.1552           233.9143  \n1014          -80.7223           189.5666          -80.7336           189.4047  \n1015          -87.9248           247.7860          -87.9724           247.2666  \n\n[1016 rows x 28 columns]",
      "text/html": "<div>\n<style scoped>\n    .dataframe tbody tr th:only-of-type {\n        vertical-align: middle;\n    }\n\n    .dataframe tbody tr th {\n        vertical-align: top;\n    }\n\n    .dataframe thead th {\n        text-align: right;\n    }\n</style>\n<table border=\"1\" class=\"dataframe\">\n  <thead>\n    <tr style=\"text-align: right;\">\n      <th></th>\n      <th>FILE_NAME_SPECIFICATION</th>\n      <th>PRODUCT_ID</th>\n      <th>PRODUCT_VERSION_ID</th>\n      <th>RATIONALE_DESC</th>\n      <th>LEFT_OBSERVATION_ID</th>\n      <th>RIGHT_OBSERVATION_ID</th>\n      <th>IMAGE_LINES</th>\n      <th>LINE_SAMPLES</th>\n      <th>NORTH_AZIMUTH</th>\n      <th>MINIMUM_LATITUDE</th>\n      <th>...</th>\n      <th>LINE_PROJECTION_OFFSET</th>\n      <th>SAMPLE_PROJECTION_OFFSET</th>\n      <th>CORNER1_LATITUDE</th>\n      <th>CORNER1_LONGITUDE</th>\n      <th>CORNER2_LATITUDE</th>\n      <th>CORNER2_LONGITUDE</th>\n      <th>CORNER3_LATITUDE</th>\n      <th>CORNER3_LONGITUDE</th>\n      <th>CORNER4_LATITUDE</th>\n      <th>CORNER4_LONGITUDE</th>\n    </tr>\n  </thead>\n  <tbody>\n    <tr>\n      <th>0</th>\n      <td>DTM/PSP/ORB_001300_001399/PSP_001336_1560_PSP_...</td>\n      <td>DTEEC_001336_1560_001534_1560_U01</td>\n      <td>1</td>\n      <td>Fan/deltaic landform in west Eberswalde Crater...</td>\n      <td>PSP_001336_1560</td>\n      <td>PSP_001534_1560</td>\n      <td>15166</td>\n      <td>6789</td>\n      <td>270.0000</td>\n      <td>-23.9697</td>\n      <td>...</td>\n      <td>-1393080.0</td>\n      <td>3143.5</td>\n      <td>-23.7216</td>\n      <td>326.3240</td>\n      <td>-23.7120</td>\n      <td>326.4130</td>\n      <td>-23.9584</td>\n      <td>326.4450</td>\n      <td>-23.9696</td>\n      <td>326.3570</td>\n    </tr>\n    <tr>\n      <th>1</th>\n      <td>DTM/PSP/ORB_001400_001499/PSP_001414_1780_PSP_...</td>\n      <td>DTEEC_001414_1780_001612_1780_U01</td>\n      <td>1</td>\n      <td>Possibily Opportunity Rover landing site      ...</td>\n      <td>PSP_001414_1780</td>\n      <td>PSP_001612_1780</td>\n      <td>1694</td>\n      <td>1279</td>\n      <td>270.0000</td>\n      <td>-2.0652</td>\n      <td>...</td>\n      <td>-119284.0</td>\n      <td>396.5</td>\n      <td>-2.0369</td>\n      <td>354.4930</td>\n      <td>-2.0368</td>\n      <td>354.5120</td>\n      <td>-2.0647</td>\n      <td>354.5150</td>\n      <td>-2.0651</td>\n      <td>354.4970</td>\n    </tr>\n    <tr>\n      <th>2</th>\n      <td>DTM/PSP/ORB_001400_001499/PSP_001432_2015_PSP_...</td>\n      <td>DTEEC_001432_2015_001630_2015_U01</td>\n      <td>1</td>\n      <td>Layers in Olympus Mons basal scarp            ...</td>\n      <td>PSP_001432_2015</td>\n      <td>PSP_001630_2015</td>\n      <td>8239</td>\n      <td>6319</td>\n      <td>270.0000</td>\n      <td>21.4469</td>\n      <td>...</td>\n      <td>1267620.0</td>\n      <td>3429.5</td>\n      <td>21.5773</td>\n      <td>222.2980</td>\n      <td>21.5872</td>\n      <td>222.3950</td>\n      <td>21.4577</td>\n      <td>222.4120</td>\n      <td>21.4469</td>\n      <td>222.3150</td>\n    </tr>\n    <tr>\n      <th>3</th>\n      <td>DTM/PSP/ORB_001400_001499/PSP_001462_2015_PSP_...</td>\n      <td>DTEEC_001462_2015_001792_2015_A01</td>\n      <td>1</td>\n      <td>Cratered cones near Hephaestus Fossae         ...</td>\n      <td>PSP_001462_2015</td>\n      <td>PSP_001792_2015</td>\n      <td>12965</td>\n      <td>6976</td>\n      <td>270.0000</td>\n      <td>21.2481</td>\n      <td>...</td>\n      <td>1260631.5</td>\n      <td>3308.5</td>\n      <td>21.4586</td>\n      <td>123.2702</td>\n      <td>21.4684</td>\n      <td>123.3698</td>\n      <td>21.2591</td>\n      <td>123.3962</td>\n      <td>21.2481</td>\n      <td>123.2981</td>\n    </tr>\n    <tr>\n      <th>4</th>\n      <td>DTM/PSP/ORB_001400_001499/PSP_001481_1875_PSP_...</td>\n      <td>DTEEC_001481_1875_002167_1880_U01</td>\n      <td>1</td>\n      <td>Dissected wall of Mojave Crater               ...</td>\n      <td>PSP_001481_1875</td>\n      <td>PSP_002167_1880</td>\n      <td>21419</td>\n      <td>7823</td>\n      <td>270.0000</td>\n      <td>7.5914</td>\n      <td>...</td>\n      <td>466260.0</td>\n      <td>4046.5</td>\n      <td>7.9462</td>\n      <td>326.5610</td>\n      <td>7.9568</td>\n      <td>326.6520</td>\n      <td>7.6027</td>\n      <td>326.6950</td>\n      <td>7.5914</td>\n      <td>326.6040</td>\n    </tr>\n    <tr>\n      <th>...</th>\n      <td>...</td>\n      <td>...</td>\n      <td>...</td>\n      <td>...</td>\n      <td>...</td>\n      <td>...</td>\n      <td>...</td>\n      <td>...</td>\n      <td>...</td>\n      <td>...</td>\n      <td>...</td>\n      <td>...</td>\n      <td>...</td>\n      <td>...</td>\n      <td>...</td>\n      <td>...</td>\n      <td>...</td>\n      <td>...</td>\n      <td>...</td>\n      <td>...</td>\n      <td>...</td>\n    </tr>\n    <tr>\n      <th>1011</th>\n      <td>DTM/ESP/ORB_049900_049999/ESP_049945_0930_ESP_...</td>\n      <td>DTEPD_049945_0930_049972_0930_A01</td>\n      <td>1</td>\n      <td>Possible pit at edge of south polar residual c...</td>\n      <td>ESP_049945_0930</td>\n      <td>ESP_049972_0930</td>\n      <td>4801</td>\n      <td>3458</td>\n      <td>173.6200</td>\n      <td>-87.2189</td>\n      <td>...</td>\n      <td>-6940.0</td>\n      <td>85019.0</td>\n      <td>-87.1311</td>\n      <td>262.0184</td>\n      <td>-87.0898</td>\n      <td>262.4278</td>\n      <td>-87.1720</td>\n      <td>265.2193</td>\n      <td>-87.2188</td>\n      <td>264.3801</td>\n    </tr>\n    <tr>\n      <th>1012</th>\n      <td>DTM/ESP/ORB_063300_063399/ESP_063381_2485_ESP_...</td>\n      <td>DTEPD_063381_2485_063513_2485_A01</td>\n      <td>1</td>\n      <td>Small crater near Phoenix landing site        ...</td>\n      <td>ESP_063381_2485</td>\n      <td>ESP_063513_2485</td>\n      <td>5840</td>\n      <td>6130</td>\n      <td>37.8590</td>\n      <td>68.3033</td>\n      <td>...</td>\n      <td>402200.5</td>\n      <td>516726.5</td>\n      <td>68.4526</td>\n      <td>231.9902</td>\n      <td>68.4684</td>\n      <td>232.2249</td>\n      <td>68.3179</td>\n      <td>232.2928</td>\n      <td>68.3033</td>\n      <td>232.0468</td>\n    </tr>\n    <tr>\n      <th>1013</th>\n      <td>DTM/ESP/ORB_063300_063399/ESP_063394_2485_ESP_...</td>\n      <td>DTEPD_063394_2485_063526_2485_A01</td>\n      <td>1</td>\n      <td>Pedestal crater                               ...</td>\n      <td>ESP_063394_2485</td>\n      <td>ESP_063526_2485</td>\n      <td>5800</td>\n      <td>6147</td>\n      <td>35.9985</td>\n      <td>68.1552</td>\n      <td>...</td>\n      <td>387983.5</td>\n      <td>533120.5</td>\n      <td>68.3059</td>\n      <td>233.8489</td>\n      <td>68.3193</td>\n      <td>234.0905</td>\n      <td>68.1752</td>\n      <td>234.1542</td>\n      <td>68.1552</td>\n      <td>233.9143</td>\n    </tr>\n    <tr>\n      <th>1014</th>\n      <td>DTM/ESP/ORB_073100_073199/ESP_073183_0995_ESP_...</td>\n      <td>DTEPD_073183_0995_073184_0995_A01</td>\n      <td>1</td>\n      <td>Variety of araneiform terrain                 ...</td>\n      <td>ESP_073183_0995</td>\n      <td>ESP_073184_0995</td>\n      <td>8457</td>\n      <td>2923</td>\n      <td>99.2055</td>\n      <td>-80.7334</td>\n      <td>...</td>\n      <td>-269901.0</td>\n      <td>45937.0</td>\n      <td>-80.4637</td>\n      <td>188.8443</td>\n      <td>-80.4572</td>\n      <td>189.0912</td>\n      <td>-80.7223</td>\n      <td>189.5666</td>\n      <td>-80.7336</td>\n      <td>189.4047</td>\n    </tr>\n    <tr>\n      <th>1015</th>\n      <td>DTM/ESP/ORB_076500_076599/ESP_076532_0920_ESP_...</td>\n      <td>DTEPD_076532_0920_076203_0920_A01</td>\n      <td>1</td>\n      <td>South polar residual cap                      ...</td>\n      <td>ESP_076532_0920</td>\n      <td>ESP_076203_0920</td>\n      <td>4969</td>\n      <td>2287</td>\n      <td>155.4925</td>\n      <td>-87.9712</td>\n      <td>...</td>\n      <td>-23070.0</td>\n      <td>57261.0</td>\n      <td>-87.8860</td>\n      <td>243.2798</td>\n      <td>-87.8420</td>\n      <td>243.8538</td>\n      <td>-87.9248</td>\n      <td>247.7860</td>\n      <td>-87.9724</td>\n      <td>247.2666</td>\n    </tr>\n  </tbody>\n</table>\n<p>1016 rows × 28 columns</p>\n</div>"
     },
     "execution_count": 11,
     "metadata": {},
     "output_type": "execute_result"
    }
   ],
   "source": [
    "# 去掉unique()的长度为1的列，即只有一个值的列\n",
    "index_tab = index_tab.loc[:, index_tab.apply(pd.Series.nunique) != 1]\n",
    "# 重置index\n",
    "index_tab = index_tab.reset_index(drop=True)\n",
    "index_tab"
   ],
   "metadata": {
    "collapsed": false,
    "ExecuteTime": {
     "end_time": "2023-10-26T14:28:17.650248700Z",
     "start_time": "2023-10-26T14:28:17.555226900Z"
    }
   },
   "id": "61d8336d35af7e7"
  },
  {
   "cell_type": "code",
   "execution_count": 12,
   "outputs": [],
   "source": [
    "# MINIMUM_LATITUDE 和 MAXIMUM_LATITUDE 的mean\n",
    "mean_lat = index_tab[['MINIMUM_LATITUDE', 'MAXIMUM_LATITUDE']].mean(axis=1)\n",
    "# MINIMUM_LONGITUDE 和 MAXIMUM_LONGITUDE 的mean\n",
    "mean_lon = index_tab[['MINIMUM_LONGITUDE', 'MAXIMUM_LONGITUDE']].mean(axis=1)\n",
    "# CORNER1_LATITUDE 和 CORNER2_LATITUDE 和 CORNER3_LATITUDE 和 CORNER4_LATITUDE 的mean\n",
    "mean_lat1 = index_tab[['CORNER1_LATITUDE', 'CORNER2_LATITUDE', 'CORNER3_LATITUDE', 'CORNER4_LATITUDE']].mean(axis=1)\n",
    "# CORNER1_LONGITUDE 和 CORNER2_LONGITUDE 和 CORNER3_LONGITUDE 和 CORNER4_LONGITUDE 的mean\n",
    "mean_lon1 = index_tab[['CORNER1_LONGITUDE', 'CORNER2_LONGITUDE', 'CORNER3_LONGITUDE', 'CORNER4_LONGITUDE']].mean(\n",
    "    axis=1)"
   ],
   "metadata": {
    "collapsed": false,
    "ExecuteTime": {
     "end_time": "2023-10-26T14:28:17.678255200Z",
     "start_time": "2023-10-26T14:28:17.581232100Z"
    }
   },
   "id": "f1ba535e7f4fef14"
  },
  {
   "cell_type": "code",
   "execution_count": 13,
   "outputs": [
    {
     "data": {
      "text/plain": "                                FILE_NAME_SPECIFICATION  \\\n0     DTM/PSP/ORB_001300_001399/PSP_001336_1560_PSP_...   \n1     DTM/PSP/ORB_001400_001499/PSP_001414_1780_PSP_...   \n2     DTM/PSP/ORB_001400_001499/PSP_001432_2015_PSP_...   \n3     DTM/PSP/ORB_001400_001499/PSP_001462_2015_PSP_...   \n4     DTM/PSP/ORB_001400_001499/PSP_001481_1875_PSP_...   \n...                                                 ...   \n1011  DTM/ESP/ORB_049900_049999/ESP_049945_0930_ESP_...   \n1012  DTM/ESP/ORB_063300_063399/ESP_063381_2485_ESP_...   \n1013  DTM/ESP/ORB_063300_063399/ESP_063394_2485_ESP_...   \n1014  DTM/ESP/ORB_073100_073199/ESP_073183_0995_ESP_...   \n1015  DTM/ESP/ORB_076500_076599/ESP_076532_0920_ESP_...   \n\n                             PRODUCT_ID  PRODUCT_VERSION_ID  \\\n0     DTEEC_001336_1560_001534_1560_U01                   1   \n1     DTEEC_001414_1780_001612_1780_U01                   1   \n2     DTEEC_001432_2015_001630_2015_U01                   1   \n3     DTEEC_001462_2015_001792_2015_A01                   1   \n4     DTEEC_001481_1875_002167_1880_U01                   1   \n...                                 ...                 ...   \n1011  DTEPD_049945_0930_049972_0930_A01                   1   \n1012  DTEPD_063381_2485_063513_2485_A01                   1   \n1013  DTEPD_063394_2485_063526_2485_A01                   1   \n1014  DTEPD_073183_0995_073184_0995_A01                   1   \n1015  DTEPD_076532_0920_076203_0920_A01                   1   \n\n                                         RATIONALE_DESC LEFT_OBSERVATION_ID  \\\n0     Fan/deltaic landform in west Eberswalde Crater...     PSP_001336_1560   \n1     Possibily Opportunity Rover landing site      ...     PSP_001414_1780   \n2     Layers in Olympus Mons basal scarp            ...     PSP_001432_2015   \n3     Cratered cones near Hephaestus Fossae         ...     PSP_001462_2015   \n4     Dissected wall of Mojave Crater               ...     PSP_001481_1875   \n...                                                 ...                 ...   \n1011  Possible pit at edge of south polar residual c...     ESP_049945_0930   \n1012  Small crater near Phoenix landing site        ...     ESP_063381_2485   \n1013  Pedestal crater                               ...     ESP_063394_2485   \n1014  Variety of araneiform terrain                 ...     ESP_073183_0995   \n1015  South polar residual cap                      ...     ESP_076532_0920   \n\n     RIGHT_OBSERVATION_ID  IMAGE_LINES  LINE_SAMPLES  NORTH_AZIMUTH  \\\n0         PSP_001534_1560        15166          6789       270.0000   \n1         PSP_001612_1780         1694          1279       270.0000   \n2         PSP_001630_2015         8239          6319       270.0000   \n3         PSP_001792_2015        12965          6976       270.0000   \n4         PSP_002167_1880        21419          7823       270.0000   \n...                   ...          ...           ...            ...   \n1011      ESP_049972_0930         4801          3458       173.6200   \n1012      ESP_063513_2485         5840          6130        37.8590   \n1013      ESP_063526_2485         5800          6147        35.9985   \n1014      ESP_073184_0995         8457          2923        99.2055   \n1015      ESP_076203_0920         4969          2287       155.4925   \n\n      MINIMUM_LATITUDE  ...  LINE_PROJECTION_OFFSET  SAMPLE_PROJECTION_OFFSET  \\\n0             -23.9697  ...              -1393080.0                    3143.5   \n1              -2.0652  ...               -119284.0                     396.5   \n2              21.4469  ...               1267620.0                    3429.5   \n3              21.2481  ...               1260631.5                    3308.5   \n4               7.5914  ...                466260.0                    4046.5   \n...                ...  ...                     ...                       ...   \n1011          -87.2189  ...                 -6940.0                   85019.0   \n1012           68.3033  ...                402200.5                  516726.5   \n1013           68.1552  ...                387983.5                  533120.5   \n1014          -80.7334  ...               -269901.0                   45937.0   \n1015          -87.9712  ...                -23070.0                   57261.0   \n\n      CORNER1_LATITUDE  CORNER1_LONGITUDE  CORNER2_LATITUDE CORNER2_LONGITUDE  \\\n0             -23.7216           326.3240          -23.7120          326.4130   \n1              -2.0369           354.4930           -2.0368          354.5120   \n2              21.5773           222.2980           21.5872          222.3950   \n3              21.4586           123.2702           21.4684          123.3698   \n4               7.9462           326.5610            7.9568          326.6520   \n...                ...                ...               ...               ...   \n1011          -87.1311           262.0184          -87.0898          262.4278   \n1012           68.4526           231.9902           68.4684          232.2249   \n1013           68.3059           233.8489           68.3193          234.0905   \n1014          -80.4637           188.8443          -80.4572          189.0912   \n1015          -87.8860           243.2798          -87.8420          243.8538   \n\n      CORNER3_LATITUDE  CORNER3_LONGITUDE  CORNER4_LATITUDE  CORNER4_LONGITUDE  \n0             -23.9584           326.4450          -23.9696           326.3570  \n1              -2.0647           354.5150           -2.0651           354.4970  \n2              21.4577           222.4120           21.4469           222.3150  \n3              21.2591           123.3962           21.2481           123.2981  \n4               7.6027           326.6950            7.5914           326.6040  \n...                ...                ...               ...                ...  \n1011          -87.1720           265.2193          -87.2188           264.3801  \n1012           68.3179           232.2928           68.3033           232.0468  \n1013           68.1752           234.1542           68.1552           233.9143  \n1014          -80.7223           189.5666          -80.7336           189.4047  \n1015          -87.9248           247.7860          -87.9724           247.2666  \n\n[1015 rows x 28 columns]",
      "text/html": "<div>\n<style scoped>\n    .dataframe tbody tr th:only-of-type {\n        vertical-align: middle;\n    }\n\n    .dataframe tbody tr th {\n        vertical-align: top;\n    }\n\n    .dataframe thead th {\n        text-align: right;\n    }\n</style>\n<table border=\"1\" class=\"dataframe\">\n  <thead>\n    <tr style=\"text-align: right;\">\n      <th></th>\n      <th>FILE_NAME_SPECIFICATION</th>\n      <th>PRODUCT_ID</th>\n      <th>PRODUCT_VERSION_ID</th>\n      <th>RATIONALE_DESC</th>\n      <th>LEFT_OBSERVATION_ID</th>\n      <th>RIGHT_OBSERVATION_ID</th>\n      <th>IMAGE_LINES</th>\n      <th>LINE_SAMPLES</th>\n      <th>NORTH_AZIMUTH</th>\n      <th>MINIMUM_LATITUDE</th>\n      <th>...</th>\n      <th>LINE_PROJECTION_OFFSET</th>\n      <th>SAMPLE_PROJECTION_OFFSET</th>\n      <th>CORNER1_LATITUDE</th>\n      <th>CORNER1_LONGITUDE</th>\n      <th>CORNER2_LATITUDE</th>\n      <th>CORNER2_LONGITUDE</th>\n      <th>CORNER3_LATITUDE</th>\n      <th>CORNER3_LONGITUDE</th>\n      <th>CORNER4_LATITUDE</th>\n      <th>CORNER4_LONGITUDE</th>\n    </tr>\n  </thead>\n  <tbody>\n    <tr>\n      <th>0</th>\n      <td>DTM/PSP/ORB_001300_001399/PSP_001336_1560_PSP_...</td>\n      <td>DTEEC_001336_1560_001534_1560_U01</td>\n      <td>1</td>\n      <td>Fan/deltaic landform in west Eberswalde Crater...</td>\n      <td>PSP_001336_1560</td>\n      <td>PSP_001534_1560</td>\n      <td>15166</td>\n      <td>6789</td>\n      <td>270.0000</td>\n      <td>-23.9697</td>\n      <td>...</td>\n      <td>-1393080.0</td>\n      <td>3143.5</td>\n      <td>-23.7216</td>\n      <td>326.3240</td>\n      <td>-23.7120</td>\n      <td>326.4130</td>\n      <td>-23.9584</td>\n      <td>326.4450</td>\n      <td>-23.9696</td>\n      <td>326.3570</td>\n    </tr>\n    <tr>\n      <th>1</th>\n      <td>DTM/PSP/ORB_001400_001499/PSP_001414_1780_PSP_...</td>\n      <td>DTEEC_001414_1780_001612_1780_U01</td>\n      <td>1</td>\n      <td>Possibily Opportunity Rover landing site      ...</td>\n      <td>PSP_001414_1780</td>\n      <td>PSP_001612_1780</td>\n      <td>1694</td>\n      <td>1279</td>\n      <td>270.0000</td>\n      <td>-2.0652</td>\n      <td>...</td>\n      <td>-119284.0</td>\n      <td>396.5</td>\n      <td>-2.0369</td>\n      <td>354.4930</td>\n      <td>-2.0368</td>\n      <td>354.5120</td>\n      <td>-2.0647</td>\n      <td>354.5150</td>\n      <td>-2.0651</td>\n      <td>354.4970</td>\n    </tr>\n    <tr>\n      <th>2</th>\n      <td>DTM/PSP/ORB_001400_001499/PSP_001432_2015_PSP_...</td>\n      <td>DTEEC_001432_2015_001630_2015_U01</td>\n      <td>1</td>\n      <td>Layers in Olympus Mons basal scarp            ...</td>\n      <td>PSP_001432_2015</td>\n      <td>PSP_001630_2015</td>\n      <td>8239</td>\n      <td>6319</td>\n      <td>270.0000</td>\n      <td>21.4469</td>\n      <td>...</td>\n      <td>1267620.0</td>\n      <td>3429.5</td>\n      <td>21.5773</td>\n      <td>222.2980</td>\n      <td>21.5872</td>\n      <td>222.3950</td>\n      <td>21.4577</td>\n      <td>222.4120</td>\n      <td>21.4469</td>\n      <td>222.3150</td>\n    </tr>\n    <tr>\n      <th>3</th>\n      <td>DTM/PSP/ORB_001400_001499/PSP_001462_2015_PSP_...</td>\n      <td>DTEEC_001462_2015_001792_2015_A01</td>\n      <td>1</td>\n      <td>Cratered cones near Hephaestus Fossae         ...</td>\n      <td>PSP_001462_2015</td>\n      <td>PSP_001792_2015</td>\n      <td>12965</td>\n      <td>6976</td>\n      <td>270.0000</td>\n      <td>21.2481</td>\n      <td>...</td>\n      <td>1260631.5</td>\n      <td>3308.5</td>\n      <td>21.4586</td>\n      <td>123.2702</td>\n      <td>21.4684</td>\n      <td>123.3698</td>\n      <td>21.2591</td>\n      <td>123.3962</td>\n      <td>21.2481</td>\n      <td>123.2981</td>\n    </tr>\n    <tr>\n      <th>4</th>\n      <td>DTM/PSP/ORB_001400_001499/PSP_001481_1875_PSP_...</td>\n      <td>DTEEC_001481_1875_002167_1880_U01</td>\n      <td>1</td>\n      <td>Dissected wall of Mojave Crater               ...</td>\n      <td>PSP_001481_1875</td>\n      <td>PSP_002167_1880</td>\n      <td>21419</td>\n      <td>7823</td>\n      <td>270.0000</td>\n      <td>7.5914</td>\n      <td>...</td>\n      <td>466260.0</td>\n      <td>4046.5</td>\n      <td>7.9462</td>\n      <td>326.5610</td>\n      <td>7.9568</td>\n      <td>326.6520</td>\n      <td>7.6027</td>\n      <td>326.6950</td>\n      <td>7.5914</td>\n      <td>326.6040</td>\n    </tr>\n    <tr>\n      <th>...</th>\n      <td>...</td>\n      <td>...</td>\n      <td>...</td>\n      <td>...</td>\n      <td>...</td>\n      <td>...</td>\n      <td>...</td>\n      <td>...</td>\n      <td>...</td>\n      <td>...</td>\n      <td>...</td>\n      <td>...</td>\n      <td>...</td>\n      <td>...</td>\n      <td>...</td>\n      <td>...</td>\n      <td>...</td>\n      <td>...</td>\n      <td>...</td>\n      <td>...</td>\n      <td>...</td>\n    </tr>\n    <tr>\n      <th>1011</th>\n      <td>DTM/ESP/ORB_049900_049999/ESP_049945_0930_ESP_...</td>\n      <td>DTEPD_049945_0930_049972_0930_A01</td>\n      <td>1</td>\n      <td>Possible pit at edge of south polar residual c...</td>\n      <td>ESP_049945_0930</td>\n      <td>ESP_049972_0930</td>\n      <td>4801</td>\n      <td>3458</td>\n      <td>173.6200</td>\n      <td>-87.2189</td>\n      <td>...</td>\n      <td>-6940.0</td>\n      <td>85019.0</td>\n      <td>-87.1311</td>\n      <td>262.0184</td>\n      <td>-87.0898</td>\n      <td>262.4278</td>\n      <td>-87.1720</td>\n      <td>265.2193</td>\n      <td>-87.2188</td>\n      <td>264.3801</td>\n    </tr>\n    <tr>\n      <th>1012</th>\n      <td>DTM/ESP/ORB_063300_063399/ESP_063381_2485_ESP_...</td>\n      <td>DTEPD_063381_2485_063513_2485_A01</td>\n      <td>1</td>\n      <td>Small crater near Phoenix landing site        ...</td>\n      <td>ESP_063381_2485</td>\n      <td>ESP_063513_2485</td>\n      <td>5840</td>\n      <td>6130</td>\n      <td>37.8590</td>\n      <td>68.3033</td>\n      <td>...</td>\n      <td>402200.5</td>\n      <td>516726.5</td>\n      <td>68.4526</td>\n      <td>231.9902</td>\n      <td>68.4684</td>\n      <td>232.2249</td>\n      <td>68.3179</td>\n      <td>232.2928</td>\n      <td>68.3033</td>\n      <td>232.0468</td>\n    </tr>\n    <tr>\n      <th>1013</th>\n      <td>DTM/ESP/ORB_063300_063399/ESP_063394_2485_ESP_...</td>\n      <td>DTEPD_063394_2485_063526_2485_A01</td>\n      <td>1</td>\n      <td>Pedestal crater                               ...</td>\n      <td>ESP_063394_2485</td>\n      <td>ESP_063526_2485</td>\n      <td>5800</td>\n      <td>6147</td>\n      <td>35.9985</td>\n      <td>68.1552</td>\n      <td>...</td>\n      <td>387983.5</td>\n      <td>533120.5</td>\n      <td>68.3059</td>\n      <td>233.8489</td>\n      <td>68.3193</td>\n      <td>234.0905</td>\n      <td>68.1752</td>\n      <td>234.1542</td>\n      <td>68.1552</td>\n      <td>233.9143</td>\n    </tr>\n    <tr>\n      <th>1014</th>\n      <td>DTM/ESP/ORB_073100_073199/ESP_073183_0995_ESP_...</td>\n      <td>DTEPD_073183_0995_073184_0995_A01</td>\n      <td>1</td>\n      <td>Variety of araneiform terrain                 ...</td>\n      <td>ESP_073183_0995</td>\n      <td>ESP_073184_0995</td>\n      <td>8457</td>\n      <td>2923</td>\n      <td>99.2055</td>\n      <td>-80.7334</td>\n      <td>...</td>\n      <td>-269901.0</td>\n      <td>45937.0</td>\n      <td>-80.4637</td>\n      <td>188.8443</td>\n      <td>-80.4572</td>\n      <td>189.0912</td>\n      <td>-80.7223</td>\n      <td>189.5666</td>\n      <td>-80.7336</td>\n      <td>189.4047</td>\n    </tr>\n    <tr>\n      <th>1015</th>\n      <td>DTM/ESP/ORB_076500_076599/ESP_076532_0920_ESP_...</td>\n      <td>DTEPD_076532_0920_076203_0920_A01</td>\n      <td>1</td>\n      <td>South polar residual cap                      ...</td>\n      <td>ESP_076532_0920</td>\n      <td>ESP_076203_0920</td>\n      <td>4969</td>\n      <td>2287</td>\n      <td>155.4925</td>\n      <td>-87.9712</td>\n      <td>...</td>\n      <td>-23070.0</td>\n      <td>57261.0</td>\n      <td>-87.8860</td>\n      <td>243.2798</td>\n      <td>-87.8420</td>\n      <td>243.8538</td>\n      <td>-87.9248</td>\n      <td>247.7860</td>\n      <td>-87.9724</td>\n      <td>247.2666</td>\n    </tr>\n  </tbody>\n</table>\n<p>1015 rows × 28 columns</p>\n</div>"
     },
     "execution_count": 13,
     "metadata": {},
     "output_type": "execute_result"
    }
   ],
   "source": [
    "# 找到abs(mean_lat - mean_lat1) >1 且 abs(mean_lon - mean_lon1) >1 的行,并且去掉这些行\n",
    "index_tab = index_tab[~((abs(mean_lat - mean_lat1) > 1) & (abs(mean_lon - mean_lon1) > 1))]\n",
    "index_tab"
   ],
   "metadata": {
    "collapsed": false,
    "ExecuteTime": {
     "end_time": "2023-10-26T14:28:17.679255100Z",
     "start_time": "2023-10-26T14:28:17.589234700Z"
    }
   },
   "id": "f37c8f1d8687a213"
  },
  {
   "cell_type": "code",
   "execution_count": 14,
   "outputs": [],
   "source": [
    "# # 下载所有的DTM\n",
    "# img_url_prefix = \"https://www.uahirise.org/PDS/\"\n",
    "# # http://hirise-pds.lpl.arizona.edu/PDS/EXTRAS/DTM/ESP/ORB_045300_045399/ESP_045318_2680_ESP_045346_2680/DTEPC_045318_2680_045346_2680_A01.ca.jpg\n",
    "# jpg_url_prefix = \"http://hirise-pds.lpl.arizona.edu/PDS/EXTRAS/\"\n",
    "# img_save_path = \"data/DTM/\"\n",
    "# jpg_save_path = \"data/JPG/\"\n",
    "# for i in range(index_tab.shape[0]):\n",
    "#     img_url = img_url_prefix + index_tab.iloc[i]['FILE_NAME_SPECIFICATION']\n",
    "#     img_file_name = img_save_path + index_tab.iloc[i]['FILE_NAME_SPECIFICATION'].split('/')[-1]\n",
    "#     duan_download(img_url, img_file_name)\n",
    "#     # 下载jpg\n",
    "#     jpg_url = jpg_url_prefix + index_tab.iloc[i]['FILE_NAME_SPECIFICATION'][:-4] + '.ca.jpg'\n",
    "#     jpg_file_name = jpg_save_path + index_tab.iloc[i]['FILE_NAME_SPECIFICATION'].split('/')[-1][:-4] + '.jpg'\n",
    "#     duan_download(jpg_url, jpg_file_name)\n",
    "#     print('第' + str(i) + '个，下载完成：', img_file_name.split('/')[-1], jpg_file_name.split('/')[-1])"
   ],
   "metadata": {
    "collapsed": false,
    "ExecuteTime": {
     "end_time": "2023-10-26T14:28:17.679255100Z",
     "start_time": "2023-10-26T14:28:17.611239900Z"
    }
   },
   "id": "f35fb602dc93ac4e"
  },
  {
   "cell_type": "code",
   "execution_count": 15,
   "outputs": [],
   "source": [
    "# # 下载所有的DTM\n",
    "# img_url_prefix = \"https://www.uahirise.org/PDS/\"\n",
    "# http://hirise-pds.lpl.arizona.edu/PDS/EXTRAS/DTM/ESP/ORB_045300_045399/ESP_045318_2680_ESP_045346_2680/DTEPC_045318_2680_045346_2680_A01.ca.jpg\n",
    "# jpg_url_prefix = \"http://hirise-pds.lpl.arizona.edu/PDS/EXTRAS/\"\n",
    "# img_save_path = \"data/DTM/\"\n",
    "# jpg_save_path = \"data/JPG/\"\n",
    "# for i in range(index_tab.shape[0]):\n",
    "#     img_url = img_url_prefix + index_tab.iloc[i]['FILE_NAME_SPECIFICATION']\n",
    "#     img_file_name = img_save_path + index_tab.iloc[i]['FILE_NAME_SPECIFICATION'].split('/')[-1]\n",
    "#     # 等待download()返回True\n",
    "#     while not download(img_url, img_file_name):\n",
    "#         print(\"下载失败，重新下载\")\n",
    "#     # 下载jpg\n",
    "#     jpg_url = jpg_url_prefix + index_tab.iloc[i]['FILE_NAME_SPECIFICATION'][:-4] + '.ca.jpg'\n",
    "#     jpg_file_name = jpg_save_path + index_tab.iloc[i]['FILE_NAME_SPECIFICATION'].split('/')[-1][:-4] + '.ca.jpg'\n",
    "#     duan_download(jpg_url, jpg_file_name)\n",
    "#     print('第' + str(i) + '个，下载完成：', img_file_name.split('/')[-1], jpg_file_name.split('/')[-1])"
   ],
   "metadata": {
    "collapsed": false,
    "ExecuteTime": {
     "end_time": "2023-10-26T14:28:17.679255100Z",
     "start_time": "2023-10-26T14:28:17.615240500Z"
    }
   },
   "id": "557a53bdc8f4c3a0"
  },
  {
   "cell_type": "code",
   "execution_count": 16,
   "outputs": [],
   "source": [
    "import os\n",
    "import time\n",
    "\n",
    "def download_with_thunder(urls, save_paths):\n",
    "    # urls 和 save_paths 组成一个元组的列表\n",
    "    mission = list(zip(urls, save_paths))\n",
    "    nums = 40\n",
    "    \n",
    "    # 如果任务小于10个，则全部加入mission_to_download，否则只加入10个\n",
    "    if len(mission) <= nums:\n",
    "        mission_to_download = mission\n",
    "        mission = []\n",
    "    else:\n",
    "        mission_to_download = mission[:nums]\n",
    "        mission = mission[nums:]\n",
    "    \n",
    "    # 已经启动的任务集合\n",
    "    started_tasks = set()\n",
    "    \n",
    "    while mission_to_download or (mission and any((url, save_path) not in started_tasks for url, save_path in mission)):\n",
    "        # 检查文件是否已经存在\n",
    "        to_remove = []\n",
    "        for url, save_path in mission_to_download:\n",
    "            if os.path.exists(save_path):\n",
    "                print(save_path.split('/')[-1] + \"已经存在\")\n",
    "                to_remove.append((url, save_path))\n",
    "            elif (url, save_path) not in started_tasks:\n",
    "                os.system(r'\"\"C:\\Program Files (x86)\\Thunder Network\\Thunder\\Program\\ThunderStart.exe\"\" {url}'.format(url=url))\n",
    "                started_tasks.add((url, save_path))\n",
    "                time.sleep(3) # 等待5秒再启动下一个任务\n",
    "                \n",
    "        # 从mission_to_download中移除已存在的文件\n",
    "        for item in to_remove:\n",
    "            mission_to_download.remove(item)\n",
    "        \n",
    "        # 从mission中补充任务到mission_to_download，确保mission_to_download中有10个任务\n",
    "        while len(mission_to_download) < nums and mission:\n",
    "            mission_to_download.append(mission.pop(0))\n",
    "        \n",
    "        # 每3秒检查一次\n",
    "        time.sleep(1)"
   ],
   "metadata": {
    "collapsed": false,
    "ExecuteTime": {
     "end_time": "2023-10-26T14:28:17.679255100Z",
     "start_time": "2023-10-26T14:28:17.619241700Z"
    }
   },
   "id": "3ade55576dfa4e50"
  },
  {
   "cell_type": "code",
   "execution_count": 17,
   "outputs": [
    {
     "data": {
      "text/plain": "0       https://www.uahirise.org/PDS/DTM/PSP/ORB_00130...\n1       https://www.uahirise.org/PDS/DTM/PSP/ORB_00140...\n2       https://www.uahirise.org/PDS/DTM/PSP/ORB_00140...\n3       https://www.uahirise.org/PDS/DTM/PSP/ORB_00140...\n4       https://www.uahirise.org/PDS/DTM/PSP/ORB_00140...\n                              ...                        \n1011    https://www.uahirise.org/PDS/DTM/ESP/ORB_04990...\n1012    https://www.uahirise.org/PDS/DTM/ESP/ORB_06330...\n1013    https://www.uahirise.org/PDS/DTM/ESP/ORB_06330...\n1014    https://www.uahirise.org/PDS/DTM/ESP/ORB_07310...\n1015    https://www.uahirise.org/PDS/DTM/ESP/ORB_07650...\nName: FILE_NAME_SPECIFICATION, Length: 1015, dtype: object"
     },
     "execution_count": 17,
     "metadata": {},
     "output_type": "execute_result"
    }
   ],
   "source": [
    "# 下载所有的DTM\n",
    "img_url_prefix = \"https://www.uahirise.org/PDS/\"\n",
    "# http://hirise-pds.lpl.arizona.edu/PDS/EXTRAS/DTM/ESP/ORB_045300_045399/ESP_045318_2680_ESP_045346_2680/DTEPC_045318_2680_045346_2680_A01.ca.jpg\n",
    "jpg_url_prefix = \"http://hirise-pds.lpl.arizona.edu/PDS/EXTRAS/\"\n",
    "img_save_path = \"data/DTM/\"\n",
    "jpg_save_path = \"E:/PycharmProjects/mars_sim_web/method/hirise/data/JPG/\"\n",
    "img_urls = img_url_prefix + index_tab['FILE_NAME_SPECIFICATION']\n",
    "img_urls"
   ],
   "metadata": {
    "collapsed": false,
    "ExecuteTime": {
     "end_time": "2023-10-26T14:28:17.679255100Z",
     "start_time": "2023-10-26T14:28:17.627242600Z"
    }
   },
   "id": "7ccee54333c55a7f"
  },
  {
   "cell_type": "code",
   "execution_count": 18,
   "outputs": [
    {
     "data": {
      "text/plain": "0       data/DTM/DTEEC_001336_1560_001534_1560_U01.IMG\n1       data/DTM/DTEEC_001414_1780_001612_1780_U01.IMG\n2       data/DTM/DTEEC_001432_2015_001630_2015_U01.IMG\n3       data/DTM/DTEEC_001462_2015_001792_2015_A01.IMG\n4       data/DTM/DTEEC_001481_1875_002167_1880_U01.IMG\n                             ...                      \n1011    data/DTM/DTEPD_049945_0930_049972_0930_A01.IMG\n1012    data/DTM/DTEPD_063381_2485_063513_2485_A01.IMG\n1013    data/DTM/DTEPD_063394_2485_063526_2485_A01.IMG\n1014    data/DTM/DTEPD_073183_0995_073184_0995_A01.IMG\n1015    data/DTM/DTEPD_076532_0920_076203_0920_A01.IMG\nName: FILE_NAME_SPECIFICATION, Length: 1015, dtype: object"
     },
     "execution_count": 18,
     "metadata": {},
     "output_type": "execute_result"
    }
   ],
   "source": [
    "img_save_paths = img_save_path + index_tab['FILE_NAME_SPECIFICATION'].str.split('/').str[-1]\n",
    "img_save_paths"
   ],
   "metadata": {
    "collapsed": false,
    "ExecuteTime": {
     "end_time": "2023-10-26T14:28:17.679255100Z",
     "start_time": "2023-10-26T14:28:17.633244500Z"
    }
   },
   "id": "74973cb3d0a53d23"
  },
  {
   "cell_type": "code",
   "execution_count": 19,
   "outputs": [],
   "source": [
    "# download_with_thunder(img_urls, img_save_paths)"
   ],
   "metadata": {
    "collapsed": false,
    "ExecuteTime": {
     "end_time": "2023-10-26T14:28:17.679255100Z",
     "start_time": "2023-10-26T14:28:17.643245900Z"
    }
   },
   "id": "f4d809636ce83615"
  },
  {
   "cell_type": "code",
   "execution_count": 20,
   "outputs": [
    {
     "data": {
      "text/plain": "                                FILE_NAME_SPECIFICATION  \\\n0     DTM/PSP/ORB_001300_001399/PSP_001336_1560_PSP_...   \n1     DTM/PSP/ORB_001400_001499/PSP_001414_1780_PSP_...   \n2     DTM/PSP/ORB_001400_001499/PSP_001432_2015_PSP_...   \n3     DTM/PSP/ORB_001400_001499/PSP_001462_2015_PSP_...   \n4     DTM/PSP/ORB_001400_001499/PSP_001481_1875_PSP_...   \n...                                                 ...   \n1011  DTM/ESP/ORB_049900_049999/ESP_049945_0930_ESP_...   \n1012  DTM/ESP/ORB_063300_063399/ESP_063381_2485_ESP_...   \n1013  DTM/ESP/ORB_063300_063399/ESP_063394_2485_ESP_...   \n1014  DTM/ESP/ORB_073100_073199/ESP_073183_0995_ESP_...   \n1015  DTM/ESP/ORB_076500_076599/ESP_076532_0920_ESP_...   \n\n                             PRODUCT_ID  PRODUCT_VERSION_ID  \\\n0     DTEEC_001336_1560_001534_1560_U01                   1   \n1     DTEEC_001414_1780_001612_1780_U01                   1   \n2     DTEEC_001432_2015_001630_2015_U01                   1   \n3     DTEEC_001462_2015_001792_2015_A01                   1   \n4     DTEEC_001481_1875_002167_1880_U01                   1   \n...                                 ...                 ...   \n1011  DTEPD_049945_0930_049972_0930_A01                   1   \n1012  DTEPD_063381_2485_063513_2485_A01                   1   \n1013  DTEPD_063394_2485_063526_2485_A01                   1   \n1014  DTEPD_073183_0995_073184_0995_A01                   1   \n1015  DTEPD_076532_0920_076203_0920_A01                   1   \n\n                                         RATIONALE_DESC LEFT_OBSERVATION_ID  \\\n0     Fan/deltaic landform in west Eberswalde Crater...     PSP_001336_1560   \n1     Possibily Opportunity Rover landing site      ...     PSP_001414_1780   \n2     Layers in Olympus Mons basal scarp            ...     PSP_001432_2015   \n3     Cratered cones near Hephaestus Fossae         ...     PSP_001462_2015   \n4     Dissected wall of Mojave Crater               ...     PSP_001481_1875   \n...                                                 ...                 ...   \n1011  Possible pit at edge of south polar residual c...     ESP_049945_0930   \n1012  Small crater near Phoenix landing site        ...     ESP_063381_2485   \n1013  Pedestal crater                               ...     ESP_063394_2485   \n1014  Variety of araneiform terrain                 ...     ESP_073183_0995   \n1015  South polar residual cap                      ...     ESP_076532_0920   \n\n     RIGHT_OBSERVATION_ID  IMAGE_LINES  LINE_SAMPLES  NORTH_AZIMUTH  \\\n0         PSP_001534_1560        15166          6789       270.0000   \n1         PSP_001612_1780         1694          1279       270.0000   \n2         PSP_001630_2015         8239          6319       270.0000   \n3         PSP_001792_2015        12965          6976       270.0000   \n4         PSP_002167_1880        21419          7823       270.0000   \n...                   ...          ...           ...            ...   \n1011      ESP_049972_0930         4801          3458       173.6200   \n1012      ESP_063513_2485         5840          6130        37.8590   \n1013      ESP_063526_2485         5800          6147        35.9985   \n1014      ESP_073184_0995         8457          2923        99.2055   \n1015      ESP_076203_0920         4969          2287       155.4925   \n\n      MINIMUM_LATITUDE  ...  LINE_PROJECTION_OFFSET  SAMPLE_PROJECTION_OFFSET  \\\n0             -23.9697  ...              -1393080.0                    3143.5   \n1              -2.0652  ...               -119284.0                     396.5   \n2              21.4469  ...               1267620.0                    3429.5   \n3              21.2481  ...               1260631.5                    3308.5   \n4               7.5914  ...                466260.0                    4046.5   \n...                ...  ...                     ...                       ...   \n1011          -87.2189  ...                 -6940.0                   85019.0   \n1012           68.3033  ...                402200.5                  516726.5   \n1013           68.1552  ...                387983.5                  533120.5   \n1014          -80.7334  ...               -269901.0                   45937.0   \n1015          -87.9712  ...                -23070.0                   57261.0   \n\n      CORNER1_LATITUDE  CORNER1_LONGITUDE  CORNER2_LATITUDE CORNER2_LONGITUDE  \\\n0             -23.7216           326.3240          -23.7120          326.4130   \n1              -2.0369           354.4930           -2.0368          354.5120   \n2              21.5773           222.2980           21.5872          222.3950   \n3              21.4586           123.2702           21.4684          123.3698   \n4               7.9462           326.5610            7.9568          326.6520   \n...                ...                ...               ...               ...   \n1011          -87.1311           262.0184          -87.0898          262.4278   \n1012           68.4526           231.9902           68.4684          232.2249   \n1013           68.3059           233.8489           68.3193          234.0905   \n1014          -80.4637           188.8443          -80.4572          189.0912   \n1015          -87.8860           243.2798          -87.8420          243.8538   \n\n      CORNER3_LATITUDE  CORNER3_LONGITUDE  CORNER4_LATITUDE  CORNER4_LONGITUDE  \n0             -23.9584           326.4450          -23.9696           326.3570  \n1              -2.0647           354.5150           -2.0651           354.4970  \n2              21.4577           222.4120           21.4469           222.3150  \n3              21.2591           123.3962           21.2481           123.2981  \n4               7.6027           326.6950            7.5914           326.6040  \n...                ...                ...               ...                ...  \n1011          -87.1720           265.2193          -87.2188           264.3801  \n1012           68.3179           232.2928           68.3033           232.0468  \n1013           68.1752           234.1542           68.1552           233.9143  \n1014          -80.7223           189.5666          -80.7336           189.4047  \n1015          -87.9248           247.7860          -87.9724           247.2666  \n\n[1015 rows x 28 columns]",
      "text/html": "<div>\n<style scoped>\n    .dataframe tbody tr th:only-of-type {\n        vertical-align: middle;\n    }\n\n    .dataframe tbody tr th {\n        vertical-align: top;\n    }\n\n    .dataframe thead th {\n        text-align: right;\n    }\n</style>\n<table border=\"1\" class=\"dataframe\">\n  <thead>\n    <tr style=\"text-align: right;\">\n      <th></th>\n      <th>FILE_NAME_SPECIFICATION</th>\n      <th>PRODUCT_ID</th>\n      <th>PRODUCT_VERSION_ID</th>\n      <th>RATIONALE_DESC</th>\n      <th>LEFT_OBSERVATION_ID</th>\n      <th>RIGHT_OBSERVATION_ID</th>\n      <th>IMAGE_LINES</th>\n      <th>LINE_SAMPLES</th>\n      <th>NORTH_AZIMUTH</th>\n      <th>MINIMUM_LATITUDE</th>\n      <th>...</th>\n      <th>LINE_PROJECTION_OFFSET</th>\n      <th>SAMPLE_PROJECTION_OFFSET</th>\n      <th>CORNER1_LATITUDE</th>\n      <th>CORNER1_LONGITUDE</th>\n      <th>CORNER2_LATITUDE</th>\n      <th>CORNER2_LONGITUDE</th>\n      <th>CORNER3_LATITUDE</th>\n      <th>CORNER3_LONGITUDE</th>\n      <th>CORNER4_LATITUDE</th>\n      <th>CORNER4_LONGITUDE</th>\n    </tr>\n  </thead>\n  <tbody>\n    <tr>\n      <th>0</th>\n      <td>DTM/PSP/ORB_001300_001399/PSP_001336_1560_PSP_...</td>\n      <td>DTEEC_001336_1560_001534_1560_U01</td>\n      <td>1</td>\n      <td>Fan/deltaic landform in west Eberswalde Crater...</td>\n      <td>PSP_001336_1560</td>\n      <td>PSP_001534_1560</td>\n      <td>15166</td>\n      <td>6789</td>\n      <td>270.0000</td>\n      <td>-23.9697</td>\n      <td>...</td>\n      <td>-1393080.0</td>\n      <td>3143.5</td>\n      <td>-23.7216</td>\n      <td>326.3240</td>\n      <td>-23.7120</td>\n      <td>326.4130</td>\n      <td>-23.9584</td>\n      <td>326.4450</td>\n      <td>-23.9696</td>\n      <td>326.3570</td>\n    </tr>\n    <tr>\n      <th>1</th>\n      <td>DTM/PSP/ORB_001400_001499/PSP_001414_1780_PSP_...</td>\n      <td>DTEEC_001414_1780_001612_1780_U01</td>\n      <td>1</td>\n      <td>Possibily Opportunity Rover landing site      ...</td>\n      <td>PSP_001414_1780</td>\n      <td>PSP_001612_1780</td>\n      <td>1694</td>\n      <td>1279</td>\n      <td>270.0000</td>\n      <td>-2.0652</td>\n      <td>...</td>\n      <td>-119284.0</td>\n      <td>396.5</td>\n      <td>-2.0369</td>\n      <td>354.4930</td>\n      <td>-2.0368</td>\n      <td>354.5120</td>\n      <td>-2.0647</td>\n      <td>354.5150</td>\n      <td>-2.0651</td>\n      <td>354.4970</td>\n    </tr>\n    <tr>\n      <th>2</th>\n      <td>DTM/PSP/ORB_001400_001499/PSP_001432_2015_PSP_...</td>\n      <td>DTEEC_001432_2015_001630_2015_U01</td>\n      <td>1</td>\n      <td>Layers in Olympus Mons basal scarp            ...</td>\n      <td>PSP_001432_2015</td>\n      <td>PSP_001630_2015</td>\n      <td>8239</td>\n      <td>6319</td>\n      <td>270.0000</td>\n      <td>21.4469</td>\n      <td>...</td>\n      <td>1267620.0</td>\n      <td>3429.5</td>\n      <td>21.5773</td>\n      <td>222.2980</td>\n      <td>21.5872</td>\n      <td>222.3950</td>\n      <td>21.4577</td>\n      <td>222.4120</td>\n      <td>21.4469</td>\n      <td>222.3150</td>\n    </tr>\n    <tr>\n      <th>3</th>\n      <td>DTM/PSP/ORB_001400_001499/PSP_001462_2015_PSP_...</td>\n      <td>DTEEC_001462_2015_001792_2015_A01</td>\n      <td>1</td>\n      <td>Cratered cones near Hephaestus Fossae         ...</td>\n      <td>PSP_001462_2015</td>\n      <td>PSP_001792_2015</td>\n      <td>12965</td>\n      <td>6976</td>\n      <td>270.0000</td>\n      <td>21.2481</td>\n      <td>...</td>\n      <td>1260631.5</td>\n      <td>3308.5</td>\n      <td>21.4586</td>\n      <td>123.2702</td>\n      <td>21.4684</td>\n      <td>123.3698</td>\n      <td>21.2591</td>\n      <td>123.3962</td>\n      <td>21.2481</td>\n      <td>123.2981</td>\n    </tr>\n    <tr>\n      <th>4</th>\n      <td>DTM/PSP/ORB_001400_001499/PSP_001481_1875_PSP_...</td>\n      <td>DTEEC_001481_1875_002167_1880_U01</td>\n      <td>1</td>\n      <td>Dissected wall of Mojave Crater               ...</td>\n      <td>PSP_001481_1875</td>\n      <td>PSP_002167_1880</td>\n      <td>21419</td>\n      <td>7823</td>\n      <td>270.0000</td>\n      <td>7.5914</td>\n      <td>...</td>\n      <td>466260.0</td>\n      <td>4046.5</td>\n      <td>7.9462</td>\n      <td>326.5610</td>\n      <td>7.9568</td>\n      <td>326.6520</td>\n      <td>7.6027</td>\n      <td>326.6950</td>\n      <td>7.5914</td>\n      <td>326.6040</td>\n    </tr>\n    <tr>\n      <th>...</th>\n      <td>...</td>\n      <td>...</td>\n      <td>...</td>\n      <td>...</td>\n      <td>...</td>\n      <td>...</td>\n      <td>...</td>\n      <td>...</td>\n      <td>...</td>\n      <td>...</td>\n      <td>...</td>\n      <td>...</td>\n      <td>...</td>\n      <td>...</td>\n      <td>...</td>\n      <td>...</td>\n      <td>...</td>\n      <td>...</td>\n      <td>...</td>\n      <td>...</td>\n      <td>...</td>\n    </tr>\n    <tr>\n      <th>1011</th>\n      <td>DTM/ESP/ORB_049900_049999/ESP_049945_0930_ESP_...</td>\n      <td>DTEPD_049945_0930_049972_0930_A01</td>\n      <td>1</td>\n      <td>Possible pit at edge of south polar residual c...</td>\n      <td>ESP_049945_0930</td>\n      <td>ESP_049972_0930</td>\n      <td>4801</td>\n      <td>3458</td>\n      <td>173.6200</td>\n      <td>-87.2189</td>\n      <td>...</td>\n      <td>-6940.0</td>\n      <td>85019.0</td>\n      <td>-87.1311</td>\n      <td>262.0184</td>\n      <td>-87.0898</td>\n      <td>262.4278</td>\n      <td>-87.1720</td>\n      <td>265.2193</td>\n      <td>-87.2188</td>\n      <td>264.3801</td>\n    </tr>\n    <tr>\n      <th>1012</th>\n      <td>DTM/ESP/ORB_063300_063399/ESP_063381_2485_ESP_...</td>\n      <td>DTEPD_063381_2485_063513_2485_A01</td>\n      <td>1</td>\n      <td>Small crater near Phoenix landing site        ...</td>\n      <td>ESP_063381_2485</td>\n      <td>ESP_063513_2485</td>\n      <td>5840</td>\n      <td>6130</td>\n      <td>37.8590</td>\n      <td>68.3033</td>\n      <td>...</td>\n      <td>402200.5</td>\n      <td>516726.5</td>\n      <td>68.4526</td>\n      <td>231.9902</td>\n      <td>68.4684</td>\n      <td>232.2249</td>\n      <td>68.3179</td>\n      <td>232.2928</td>\n      <td>68.3033</td>\n      <td>232.0468</td>\n    </tr>\n    <tr>\n      <th>1013</th>\n      <td>DTM/ESP/ORB_063300_063399/ESP_063394_2485_ESP_...</td>\n      <td>DTEPD_063394_2485_063526_2485_A01</td>\n      <td>1</td>\n      <td>Pedestal crater                               ...</td>\n      <td>ESP_063394_2485</td>\n      <td>ESP_063526_2485</td>\n      <td>5800</td>\n      <td>6147</td>\n      <td>35.9985</td>\n      <td>68.1552</td>\n      <td>...</td>\n      <td>387983.5</td>\n      <td>533120.5</td>\n      <td>68.3059</td>\n      <td>233.8489</td>\n      <td>68.3193</td>\n      <td>234.0905</td>\n      <td>68.1752</td>\n      <td>234.1542</td>\n      <td>68.1552</td>\n      <td>233.9143</td>\n    </tr>\n    <tr>\n      <th>1014</th>\n      <td>DTM/ESP/ORB_073100_073199/ESP_073183_0995_ESP_...</td>\n      <td>DTEPD_073183_0995_073184_0995_A01</td>\n      <td>1</td>\n      <td>Variety of araneiform terrain                 ...</td>\n      <td>ESP_073183_0995</td>\n      <td>ESP_073184_0995</td>\n      <td>8457</td>\n      <td>2923</td>\n      <td>99.2055</td>\n      <td>-80.7334</td>\n      <td>...</td>\n      <td>-269901.0</td>\n      <td>45937.0</td>\n      <td>-80.4637</td>\n      <td>188.8443</td>\n      <td>-80.4572</td>\n      <td>189.0912</td>\n      <td>-80.7223</td>\n      <td>189.5666</td>\n      <td>-80.7336</td>\n      <td>189.4047</td>\n    </tr>\n    <tr>\n      <th>1015</th>\n      <td>DTM/ESP/ORB_076500_076599/ESP_076532_0920_ESP_...</td>\n      <td>DTEPD_076532_0920_076203_0920_A01</td>\n      <td>1</td>\n      <td>South polar residual cap                      ...</td>\n      <td>ESP_076532_0920</td>\n      <td>ESP_076203_0920</td>\n      <td>4969</td>\n      <td>2287</td>\n      <td>155.4925</td>\n      <td>-87.9712</td>\n      <td>...</td>\n      <td>-23070.0</td>\n      <td>57261.0</td>\n      <td>-87.8860</td>\n      <td>243.2798</td>\n      <td>-87.8420</td>\n      <td>243.8538</td>\n      <td>-87.9248</td>\n      <td>247.7860</td>\n      <td>-87.9724</td>\n      <td>247.2666</td>\n    </tr>\n  </tbody>\n</table>\n<p>1015 rows × 28 columns</p>\n</div>"
     },
     "execution_count": 20,
     "metadata": {},
     "output_type": "execute_result"
    }
   ],
   "source": [
    "index_tab"
   ],
   "metadata": {
    "collapsed": false,
    "ExecuteTime": {
     "end_time": "2023-10-26T14:28:17.681255500Z",
     "start_time": "2023-10-26T14:28:17.646247600Z"
    }
   },
   "id": "12f8002f954a565c"
  },
  {
   "cell_type": "code",
   "execution_count": 22,
   "outputs": [
    {
     "name": "stdout",
     "output_type": "stream",
     "text": [
      "迅雷关闭成功。\n",
      "所有文件已经存在。\n"
     ]
    }
   ],
   "source": [
    "import method.download_method as dm\n",
    "file_names = index_tab['FILE_NAME_SPECIFICATION'].str.split('/').str[-1]\n",
    "img_save_path = \"E:/PycharmProjects/mars_sim_web/method/hirise/data/DTM/\"\n",
    "dm.download_with_thunder(img_urls, file_names, img_save_path)"
   ],
   "metadata": {
    "collapsed": false,
    "ExecuteTime": {
     "end_time": "2023-10-26T14:31:42.212792700Z",
     "start_time": "2023-10-26T14:31:39.932820400Z"
    }
   },
   "id": "ee8856d59192421"
  },
  {
   "cell_type": "code",
   "execution_count": 23,
   "outputs": [
    {
     "data": {
      "text/plain": "0       http://hirise-pds.lpl.arizona.edu/PDS/EXTRAS/D...\n1       http://hirise-pds.lpl.arizona.edu/PDS/EXTRAS/D...\n2       http://hirise-pds.lpl.arizona.edu/PDS/EXTRAS/D...\n3       http://hirise-pds.lpl.arizona.edu/PDS/EXTRAS/D...\n4       http://hirise-pds.lpl.arizona.edu/PDS/EXTRAS/D...\n                              ...                        \n1011    http://hirise-pds.lpl.arizona.edu/PDS/EXTRAS/D...\n1012    http://hirise-pds.lpl.arizona.edu/PDS/EXTRAS/D...\n1013    http://hirise-pds.lpl.arizona.edu/PDS/EXTRAS/D...\n1014    http://hirise-pds.lpl.arizona.edu/PDS/EXTRAS/D...\n1015    http://hirise-pds.lpl.arizona.edu/PDS/EXTRAS/D...\nName: FILE_NAME_SPECIFICATION, Length: 1015, dtype: object"
     },
     "execution_count": 23,
     "metadata": {},
     "output_type": "execute_result"
    }
   ],
   "source": [
    "jpg_url = jpg_url_prefix + index_tab['FILE_NAME_SPECIFICATION'].str.replace('.IMG', '.ca.jpg')\n",
    "jpg_url"
   ],
   "metadata": {
    "collapsed": false,
    "ExecuteTime": {
     "end_time": "2023-10-26T14:31:47.147905700Z",
     "start_time": "2023-10-26T14:31:47.135903800Z"
    }
   },
   "id": "906ee97742135976"
  },
  {
   "cell_type": "code",
   "execution_count": 28,
   "outputs": [
    {
     "name": "stdout",
     "output_type": "stream",
     "text": [
      "关闭迅雷失败。\n",
      "所有文件已经存在。\n"
     ]
    }
   ],
   "source": [
    "file_names = index_tab['FILE_NAME_SPECIFICATION'].str.split('/').str[-1].str.replace('.IMG', '.ca.jpg')\n",
    "jpg_save_path = \"E:/PycharmProjects/mars_sim_web/method/hirise/data/JPG/\"\n",
    "dm.download_with_thunder(jpg_url, file_names, jpg_save_path)"
   ],
   "metadata": {
    "collapsed": false,
    "ExecuteTime": {
     "end_time": "2023-10-26T14:37:49.195686200Z",
     "start_time": "2023-10-26T14:37:46.930123Z"
    }
   },
   "id": "be912a2e16dfa072"
  },
  {
   "cell_type": "code",
   "execution_count": 41,
   "outputs": [
    {
     "data": {
      "text/plain": "0       E:/PycharmProjects/mars_sim_web/method/hirise/...\n1       E:/PycharmProjects/mars_sim_web/method/hirise/...\n2       E:/PycharmProjects/mars_sim_web/method/hirise/...\n3       E:/PycharmProjects/mars_sim_web/method/hirise/...\n4       E:/PycharmProjects/mars_sim_web/method/hirise/...\n                              ...                        \n1011    E:/PycharmProjects/mars_sim_web/method/hirise/...\n1012    E:/PycharmProjects/mars_sim_web/method/hirise/...\n1013    E:/PycharmProjects/mars_sim_web/method/hirise/...\n1014    E:/PycharmProjects/mars_sim_web/method/hirise/...\n1015    E:/PycharmProjects/mars_sim_web/method/hirise/...\nName: PRODUCT_ID, Length: 1015, dtype: object"
     },
     "execution_count": 41,
     "metadata": {},
     "output_type": "execute_result"
    }
   ],
   "source": [
    "jpg_save_paths = jpg_save_path + index_tab['PRODUCT_ID'] + '.ca.jpg'\n",
    "jpg_save_paths"
   ],
   "metadata": {
    "collapsed": false,
    "ExecuteTime": {
     "end_time": "2023-10-26T11:46:59.934248200Z",
     "start_time": "2023-10-26T11:46:59.920245800Z"
    }
   },
   "id": "a601377b6a8aac4b"
  },
  {
   "cell_type": "code",
   "execution_count": 22,
   "outputs": [
    {
     "name": "stdout",
     "output_type": "stream",
     "text": [
      "Failed to close Thunder.\n",
      "Thunder is closed, continue with the rest of the code.\n"
     ]
    }
   ],
   "source": [
    "import json\n",
    "import subprocess\n",
    "import time\n",
    "# 文件路径使用原始字符串\n",
    "thunder_config_path = r\"C:\\Program Files (x86)\\Thunder Network\\Thunder\\Profiles\\config.json\"\n",
    "\n",
    "# 关闭迅雷程序\n",
    "result = subprocess.run([\"taskkill\", \"/F\", \"/IM\", \"Thunder.exe\"], stdout=subprocess.PIPE, stderr=subprocess.PIPE)\n",
    "if result.returncode == 0:\n",
    "    print(\"Thunder is closed successfully.\")\n",
    "else:\n",
    "    print(\"Failed to close Thunder.\")\n",
    "\n",
    "time.sleep(2)\n",
    "\n",
    "try:\n",
    "    # 打开json文件，修改下载路径\n",
    "    with open(thunder_config_path, 'r', encoding='utf-8') as f:\n",
    "        config = json.load(f)\n",
    "    config['PathAndCategory']['LastUsedPath'] = jpg_save_path[:-1].replace('/', '\\\\')\n",
    "\n",
    "    # 保存修改后的配置\n",
    "    with open(thunder_config_path, 'w', encoding='utf-8') as f:\n",
    "        json.dump(config, f)\n",
    "except FileNotFoundError:\n",
    "    print(\"File not found:\", thunder_config_path)\n",
    "except json.JSONDecodeError:\n",
    "    print(\"JSON decode error\")\n",
    "\n",
    "# 启动迅雷程序，并等待它完成\n",
    "try:\n",
    "    # 启动迅雷程序，不等待其关闭\n",
    "    subprocess.run([r'C:\\Program Files (x86)\\Thunder Network\\Thunder\\Program\\Thunder.exe'],check=False)\n",
    "except FileNotFoundError:\n",
    "    print(\"Thunder.exe not found\")\n",
    "\n",
    "# 迅雷程序已经关闭并完成，可以继续执行后续代码\n",
    "print(\"Thunder is closed, continue with the rest of the code.\")"
   ],
   "metadata": {
    "collapsed": false,
    "ExecuteTime": {
     "end_time": "2023-10-26T11:38:39.979240700Z",
     "start_time": "2023-10-26T11:38:15.305866800Z"
    }
   },
   "id": "444b07ad172c579b"
  },
  {
   "cell_type": "code",
   "execution_count": 42,
   "outputs": [
    {
     "name": "stdout",
     "output_type": "stream",
     "text": [
      "DTEEC_001336_1560_001534_1560_U01.ca.jpg已经存在\n",
      "DTEEC_001414_1780_001612_1780_U01.ca.jpg已经存在\n",
      "DTEEC_001432_2015_001630_2015_U01.ca.jpg已经存在\n",
      "DTEEC_001462_2015_001792_2015_A01.ca.jpg已经存在\n",
      "DTEEC_001481_1875_002167_1880_U01.ca.jpg已经存在\n",
      "DTEEC_001488_1750_001752_1750_U02.ca.jpg已经存在\n",
      "DTEEC_001513_1655_001777_1650_U01.ca.jpg已经存在\n",
      "DTEEC_001521_2025_001719_2025_U01.ca.jpg已经存在\n",
      "DTEEC_001546_2015_001955_2015_U01.ca.jpg已经存在\n",
      "DTEEC_001606_1900_002226_1900_A01.ca.jpg已经存在\n",
      "DTEEC_001714_1415_001846_1415_U01.ca.jpg已经存在\n",
      "DTEEC_001871_1965_024419_1965_A01.ca.jpg已经存在\n",
      "DTEEC_001918_1735_001984_1735_U01.ca.jpg已经存在\n",
      "DTEEC_001938_2265_002439_2265_U01.ca.jpg已经存在\n",
      "DTEEC_001981_1825_002258_1825_H01.ca.jpg已经存在\n",
      "DTEEC_002047_1890_001902_1890_U01.ca.jpg已经存在\n",
      "DTEEC_002055_2280_001976_2280_A01.ca.jpg已经存在\n",
      "DTEEC_002063_1735_001641_1735_U01.ca.jpg已经存在\n",
      "DTEEC_002074_2025_002140_2025_U01.ca.jpg已经存在\n",
      "DTEEC_002088_1530_002154_1530_U01.ca.jpg已经存在\n",
      "DTEEC_002118_1510_003608_1510_A01.ca.jpg已经存在\n",
      "DTEEC_002175_2210_001410_2210_A01.ca.jpg已经存在\n",
      "DTEEC_002289_1725_002922_1725_A01.ca.jpg已经存在\n",
      "DTEEC_002315_2030_002592_2030_A01.ca.jpg已经存在\n",
      "DTEEC_002353_1585_003408_1585_A01.ca.jpg已经存在\n",
      "DTEEC_002353_1585_003408_1585_A02.ca.jpg已经存在\n",
      "DTEEC_002387_1985_003798_1985_A01.ca.jpg已经存在\n",
      "DTEEC_002431_1835_001930_1835_A01.ca.jpg已经存在\n",
      "DTEEC_002437_1875_001593_1875_U01.ca.jpg已经存在\n",
      "DTEEC_002446_1700_001602_1700_U01.ca.jpg已经存在\n",
      "DTEEC_002459_1715_003092_1715_A01.ca.jpg已经存在\n",
      "DTEEC_002478_1365_003678_1365_U01.ca.jpg已经存在\n",
      "DTEEC_002486_1860_001985_1860_U01.ca.jpg已经存在\n",
      "DTEEC_002620_1410_002686_1410_A01.ca.jpg已经存在\n",
      "DTEEC_002634_1725_001645_1725_P01.ca.jpg已经存在\n",
      "DTEEC_002659_1420_002514_1420_U01.ca.jpg已经存在\n",
      "DTEEC_002661_1895_003294_1895_U01.ca.jpg已经存在\n",
      "DTEEC_002671_1790_011413_1790_U01.ca.jpg已经存在\n",
      "DTEEC_002756_1830_002822_1830_A01.ca.jpg已经存在\n",
      "DTEEC_002814_2055_003513_2055_U01.ca.jpg已经存在\n",
      "DTEEC_002860_1650_003572_1650_U01.ca.jpg已经存在\n",
      "DTEEC_002878_1880_002733_1880_U01.ca.jpg已经存在\n",
      "DTEEC_002682_1510_011635_1510_A01.ca.jpg已经存在\n",
      "DTEEC_002888_2025_002176_2025_A01.ca.jpg已经存在\n",
      "DTEEC_003543_1910_003398_1910_A01.ca.jpg已经存在\n",
      "DTEEC_004151_1810_020963_1810_U01.ca.jpg已经存在\n",
      "DTEEC_003104_1655_002036_1655_A01.ca.jpg已经存在\n",
      "DTEEC_005201_1640_005913_1640_A01.ca.jpg已经存在\n",
      "DTEEC_005731_1425_005586_1425_A01.ca.jpg已经存在\n",
      "DTEEC_005161_1720_016237_1720_A01.ca.jpg已经存在\n",
      "DTEEC_005811_1470_006668_1470_A01.ca.jpg已经存在\n",
      "DTEEC_003910_1685_005400_1685_U01.ca.jpg已经存在\n",
      "DTEEC_005819_2050_006742_2050_A01.ca.jpg已经存在\n",
      "DTEEC_003542_2035_005599_2035_U01.ca.jpg已经存在\n",
      "DTEEC_003460_2015_003605_2015_U01.ca.jpg已经存在\n",
      "DTEEC_005429_1510_005851_1510_A01.ca.jpg已经存在\n",
      "DTEEC_004044_1640_004110_1640_A01.ca.jpg已经存在\n",
      "DTEEC_005533_1975_005388_1975_A01.ca.jpg已经存在\n",
      "DTEEC_003090_1600_037809_1600_A01.ca.jpg已经存在\n",
      "DTEEC_003816_1245_004106_1245_A01.ca.jpg已经存在\n",
      "DTEEC_005813_2150_005879_2150_A01.ca.jpg已经存在\n",
      "DTEEC_005771_2035_003569_2035_U01.ca.jpg已经存在\n",
      "DTEEC_003964_1910_004241_1910_U01.ca.jpg已经存在\n",
      "DTEEC_004019_1420_004085_1420_U01.ca.jpg已经存在\n",
      "DTEEC_004291_1755_003790_1755_U01.ca.jpg已经存在\n",
      "DTEEC_006676_2045_007612_2045_U01.ca.jpg已经存在\n",
      "DTEEC_005943_1380_011428_1380_A01.ca.jpg已经存在\n",
      "DTEEC_006261_1410_014093_1410_A01.ca.jpg已经存在\n",
      "DTEEC_003587_2015_003086_2015_A01.ca.jpg已经存在\n",
      "DTEEC_002932_1445_003209_1445_A01.ca.jpg已经存在\n",
      "DTEEC_003434_1755_003579_1755_U01.ca.jpg已经存在\n",
      "DTEEC_003611_1970_004244_1970_A01.ca.jpg已经存在\n",
      "DTEEC_006588_1615_011572_1615_U01.ca.jpg已经存在\n",
      "DTEEC_003934_1275_003855_1275_A01.ca.jpg已经存在\n",
      "DTEEC_006774_2020_007341_2020_A01.ca.jpg已经存在\n",
      "DTEEC_005837_1965_005903_1965_A01.ca.jpg已经存在\n",
      "DTEEC_006633_2010_007556_2010_U01.ca.jpg已经存在\n",
      "DTEEC_006663_1425_011436_1425_A01.ca.jpg已经存在\n",
      "DTEEC_006696_1895_007408_1895_U01.ca.jpg已经存在\n",
      "DTEEC_003220_1860_003642_1860_A01.ca.jpg已经存在\n",
      "DTEEC_003382_1715_004371_1715_A01.ca.jpg已经存在\n",
      "DTEEC_004350_1635_003638_1635_A01.ca.jpg已经存在\n",
      "DTEEC_005985_1965_005695_1965_A01.ca.jpg已经存在\n",
      "DTEEC_006855_1750_007501_1750_A01.ca.jpg已经存在\n",
      "DTEEC_007100_1520_033248_1520_A01.ca.jpg已经存在\n",
      "DTEEC_003487_1670_040936_1670_A01.ca.jpg已经存在\n",
      "DTEEC_002786_1580_002074_1580_A01.ca.jpg已经存在\n",
      "DTEEC_007096_2215_006806_2215_A01.ca.jpg已经存在\n",
      "DTEEC_004375_1815_003874_1815_A01.ca.jpg已经存在\n",
      "DTEEC_006133_1410_007056_1410_A01.ca.jpg已经存在\n",
      "DTEEC_003195_1985_002694_1985_L01.ca.jpg已经存在\n",
      "DTEEC_005980_1725_019891_1725_A01.ca.jpg已经存在\n",
      "DTEEC_005776_2010_012039_2010_U01.ca.jpg已经存在\n",
      "DTEEC_007110_1325_006820_1325_A01.ca.jpg已经存在\n",
      "DTEEC_003252_1425_003674_1425_A01.ca.jpg已经存在\n",
      "DTEEC_003756_1825_004178_1825_A01.ca.jpg已经存在\n",
      "DTEEC_005964_2045_011884_2045_U01.ca.jpg已经存在\n",
      "DTEEC_007205_1660_024505_1660_A01.ca.jpg已经存在\n",
      "DTEEC_008391_1790_028566_1790_A01.ca.jpg已经存在\n",
      "DTEEC_008437_1750_008938_1750_U01.ca.jpg已经存在\n",
      "DTEEC_008536_1725_009604_1725_A01.ca.jpg已经存在\n",
      "DTEEC_007951_2220_008162_2220_A01.ca.jpg已经存在\n",
      "DTEEC_006899_1330_006965_1330_U01.ca.jpg已经存在\n",
      "DTEEC_007736_2345_008303_2345_A01.ca.jpg已经存在\n",
      "DTEEC_005610_1585_005887_1585_A01.ca.jpg已经存在\n",
      "DTEEC_007018_1255_007229_1255_A01.ca.jpg已经存在\n",
      "DTEEC_007041_2240_006606_2240_A01.ca.jpg已经存在\n",
      "DTEEC_007430_1725_009645_1725_A01.ca.jpg已经存在\n",
      "DTEEC_007573_1555_007929_1555_A01.ca.jpg已经存在\n",
      "DTEEC_008520_2085_009232_2085_A01.ca.jpg已经存在\n",
      "DTEEC_007671_2065_007882_2065_U01.ca.jpg已经存在\n",
      "DTEEC_008245_2045_016394_2045_A01.ca.jpg已经存在\n",
      "DTEEC_008469_2040_008825_2040_U01.ca.jpg已经存在\n",
      "DTEEC_008649_2130_009216_2130_A01.ca.jpg已经存在\n",
      "DTEEC_007947_2350_009160_2350_A01.ca.jpg已经存在\n",
      "DTEEC_007727_1830_008808_1830_A01.ca.jpg已经存在\n",
      "DTEEC_006887_2050_007823_2050_U01.ca.jpg已经存在\n",
      "DTEEC_009505_1755_009571_1755_U01.ca.jpg已经存在\n",
      "DTEEC_009650_1755_009716_1755_U01.ca.jpg已经存在\n",
      "DTEEC_009175_1810_009808_1810_A01.ca.jpg已经存在\n",
      "DTEEC_008669_1705_009025_1705_A01.ca.jpg已经存在\n",
      "DTEEC_009675_2060_008528_2060_U01.ca.jpg已经存在\n",
      "DTEEC_009118_1665_028080_1665_A01.ca.jpg已经存在\n",
      "DTEEC_009609_1675_010453_1675_A01.ca.jpg已经存在\n",
      "DTEEC_009149_1750_009294_1750_U01.ca.jpg已经存在\n",
      "DTEEC_010105_1890_009393_1890_A01.ca.jpg已经存在\n",
      "DTEEC_009880_1985_009735_1985_L01.ca.jpg已经存在\n",
      "DTEEC_009842_1755_009130_1755_A01.ca.jpg已经存在\n",
      "DTEEC_008958_1665_009380_1665_P01.ca.jpg已经存在\n",
      "DTEEC_010228_1490_016320_1490_A01.ca.jpg已经存在\n",
      "DTEEC_009610_1880_008753_1880_A01.ca.jpg已经存在\n",
      "DTEEC_010052_1560_010553_1560_U01.ca.jpg已经存在\n",
      "DTEEC_010277_1650_010699_1650_U01.ca.jpg已经存在\n",
      "DTEEC_010361_1955_006788_1955_U01.ca.jpg已经存在\n",
      "DTEEC_010301_2200_006794_2200_A01.ca.jpg已经存在\n",
      "DTEEC_010597_1470_007380_1470_U01.ca.jpg已经存在\n",
      "DTEEC_010573_1755_010639_1755_U01.ca.jpg已经存在\n",
      "DTEEC_009768_1880_010045_1880_L01.ca.jpg已经存在\n",
      "DTEEC_010816_2040_010882_2040_U01.ca.jpg已经存在\n",
      "DTEEC_010540_1535_010685_1535_U01.ca.jpg已经存在\n",
      "DTEEC_010492_1510_045278_1510_A01.ca.jpg已经存在\n",
      "DTEEC_010335_1840_006762_1840_L01.ca.jpg已经存在\n",
      "DTEEC_010277_1650_010699_1650_A02.ca.jpg已经存在\n",
      "DTEEC_011417_1755_011562_1755_U01.ca.jpg已经存在\n",
      "DTEEC_011635_1510_029542_1510_A01.ca.jpg已经存在\n",
      "DTEEC_011676_1700_028449_1700_A01.ca.jpg已经存在\n",
      "DTEEC_011507_1620_005732_1620_A01.ca.jpg已经存在\n",
      "DTEEC_011265_1560_011331_1560_U01.ca.jpg已经存在\n",
      "DTEEC_011458_1640_005683_1640_A01.ca.jpg已经存在\n",
      "DTEEC_011523_1695_012367_1695_A01.ca.jpg已经存在\n",
      "DTEEC_009467_2225_007384_2225_A01.ca.jpg已经存在\n",
      "DTEEC_007200_2005_016153_2005_A01.ca.jpg已经存在\n",
      "DTEEC_011373_1865_010872_1865_U01.ca.jpg已经存在\n",
      "DTEEC_007491_1405_007201_1405_U01.ca.jpg已经存在\n",
      "DTEEC_011877_1410_012510_1410_A01.ca.jpg已经存在\n",
      "DTEEC_012429_1910_011717_1910_U01.ca.jpg已经存在\n",
      "DTEEC_003800_1325_004077_1325_U01.ca.jpg已经存在\n",
      "DTEEC_007058_1745_016354_1745_U01.ca.jpg已经存在\n",
      "DTEEC_007235_2350_006945_2350_A01.ca.jpg已经存在\n",
      "DTEEC_007377_1700_008379_1700_U01.ca.jpg已经存在\n",
      "DTEEC_007795_2175_009588_2175_U01.ca.jpg已经存在\n",
      "DTEEC_007978_2005_024487_2005_A01.ca.jpg已经存在\n",
      "DTEEC_008823_2310_009245_2310_A01.ca.jpg已经存在\n",
      "DTEEC_008993_2020_009626_2020_A01.ca.jpg已经存在\n",
      "DTEEC_012241_1440_012663_1440_A01.ca.jpg已经存在\n",
      "DTEEC_012282_1775_011425_1775_A01.ca.jpg已经存在\n",
      "DTEEC_003695_1250_004183_1250_A01.ca.jpg已经存在\n",
      "DTEEC_005372_1515_006005_1515_A02.ca.jpg已经存在\n",
      "DTEEC_006000_1965_002809_1965_C01.ca.jpg已经存在\n",
      "DTEEC_006922_1405_006777_1405_A01.ca.jpg已经存在\n",
      "DTEEC_006954_1885_016250_1885_A01.ca.jpg已经存在\n",
      "DTEEC_007455_1785_033458_1785_A01.ca.jpg已经存在\n",
      "DTEEC_007522_1685_025666_1685_A01.ca.jpg已经存在\n",
      "DTEEC_007627_1765_008563_1765_U01.ca.jpg已经存在\n",
      "DTEEC_007666_1725_008022_1725_A01.ca.jpg已经存在\n",
      "DTEEC_008015_1840_009940_1840_U01.ca.jpg已经存在\n",
      "DTEEC_011817_1395_011672_1395_O01.ca.jpg已经存在\n",
      "DTEEC_011844_1855_002812_1855_A01.ca.jpg已经存在\n",
      "DTEEC_012340_1750_012195_1750_A01.ca.jpg已经存在\n",
      "DTEEC_012725_2015_012435_2015_G01.ca.jpg已经存在\n",
      "DTEEC_011952_1585_005821_1585_A01.ca.jpg已经存在\n",
      "DTEEC_013104_1895_012959_1895_U01.ca.jpg已经存在\n",
      "DTEEC_013688_1540_012620_1540_A01.ca.jpg已经存在\n",
      "DTEEC_012459_1450_012314_1450_A01.ca.jpg已经存在\n",
      "DTEEC_002932_1445_003209_1445_U02.ca.jpg已经存在\n",
      "DTEEC_008338_1525_010329_1525_U01.ca.jpg已经存在\n",
      "DTEEC_007781_1410_008137_1410_U01.ca.jpg已经存在\n",
      "DTEEC_008272_1560_010474_1560_U01.ca.jpg已经存在\n",
      "DTEEC_012551_1750_012841_1750_U01.ca.jpg已经存在\n",
      "DTEEC_012991_1335_013624_1335_A02.ca.jpg已经存在\n",
      "DTEEC_013017_1325_013083_1325_U01.ca.jpg已经存在\n",
      "DTEEC_007191_1535_007903_1535_U01.ca.jpg已经存在\n",
      "DTEEC_013611_1325_013110_1325_A01.ca.jpg已经存在\n",
      "DTEEC_013146_1415_013001_1415_A01.ca.jpg已经存在\n",
      "DTEEC_012873_2045_004052_2045_A01.ca.jpg已经存在\n",
      "DTEEC_007599_2020_007454_2020_U01.ca.jpg已经存在\n",
      "DTEEC_015985_2040_016262_2040_U01.ca.jpg已经存在\n",
      "DTEEC_012912_1320_012767_1320_A01.ca.jpg已经存在\n",
      "DTEEC_013578_1505_030984_1505_U01.ca.jpg已经存在\n",
      "DTEEC_013745_1730_013033_1730_A01.ca.jpg已经存在\n",
      "DTEEC_016467_2155_016533_2155_A01.ca.jpg已经存在\n"
     ]
    },
    {
     "ename": "KeyboardInterrupt",
     "evalue": "",
     "output_type": "error",
     "traceback": [
      "\u001B[1;31m---------------------------------------------------------------------------\u001B[0m",
      "\u001B[1;31mKeyboardInterrupt\u001B[0m                         Traceback (most recent call last)",
      "Cell \u001B[1;32mIn[42], line 2\u001B[0m\n\u001B[0;32m      1\u001B[0m \u001B[38;5;66;03m# 下载所有的jpg\u001B[39;00m\n\u001B[1;32m----> 2\u001B[0m \u001B[43mdownload_with_thunder\u001B[49m\u001B[43m(\u001B[49m\u001B[43mjpg_url\u001B[49m\u001B[43m,\u001B[49m\u001B[43m \u001B[49m\u001B[43mjpg_save_paths\u001B[49m\u001B[43m)\u001B[49m\n",
      "Cell \u001B[1;32mIn[34], line 41\u001B[0m, in \u001B[0;36mdownload_with_thunder\u001B[1;34m(urls, save_paths)\u001B[0m\n\u001B[0;32m     38\u001B[0m     mission_to_download\u001B[38;5;241m.\u001B[39mappend(mission\u001B[38;5;241m.\u001B[39mpop(\u001B[38;5;241m0\u001B[39m))\n\u001B[0;32m     40\u001B[0m \u001B[38;5;66;03m# 每3秒检查一次\u001B[39;00m\n\u001B[1;32m---> 41\u001B[0m \u001B[43mtime\u001B[49m\u001B[38;5;241;43m.\u001B[39;49m\u001B[43msleep\u001B[49m\u001B[43m(\u001B[49m\u001B[38;5;241;43m1\u001B[39;49m\u001B[43m)\u001B[49m\n",
      "\u001B[1;31mKeyboardInterrupt\u001B[0m: "
     ]
    }
   ],
   "source": [
    "# 下载所有的jpg\n",
    "download_with_thunder(jpg_url, jpg_save_paths)"
   ],
   "metadata": {
    "collapsed": false,
    "ExecuteTime": {
     "end_time": "2023-10-26T12:12:32.785375700Z",
     "start_time": "2023-10-26T11:47:13.799921600Z"
    }
   },
   "id": "73a7d16ce011038b"
  },
  {
   "cell_type": "code",
   "execution_count": 44,
   "outputs": [
    {
     "data": {
      "text/plain": "['DTEEC_001336_1560_001534_1560_U01.jpg',\n 'DTEEC_001414_1780_001612_1780_U01.jpg',\n 'DTEEC_001432_2015_001630_2015_U01.jpg',\n 'DTEEC_001462_2015_001792_2015_A01.jpg',\n 'DTEEC_001481_1875_002167_1880_U01.jpg',\n 'DTEEC_001488_1750_001752_1750_U02.jpg',\n 'DTEEC_001513_1655_001777_1650_U01.jpg',\n 'DTEEC_001521_2025_001719_2025_U01.jpg',\n 'DTEEC_001546_2015_001955_2015_U01.jpg',\n 'DTEEC_001606_1900_002226_1900_A01.jpg',\n 'DTEEC_001714_1415_001846_1415_U01.jpg',\n 'DTEEC_001871_1965_024419_1965_A01.jpg',\n 'DTEEC_001918_1735_001984_1735_U01.jpg',\n 'DTEEC_001938_2265_002439_2265_U01.jpg',\n 'DTEEC_001981_1825_002258_1825_H01.jpg',\n 'DTEEC_002047_1890_001902_1890_U01.jpg',\n 'DTEEC_002055_2280_001976_2280_A01.jpg',\n 'DTEEC_002063_1735_001641_1735_U01.jpg',\n 'DTEEC_002074_2025_002140_2025_U01.jpg',\n 'DTEEC_002088_1530_002154_1530_U01.jpg',\n 'DTEEC_002118_1510_003608_1510_A01.jpg',\n 'DTEEC_002175_2210_001410_2210_A01.jpg',\n 'DTEEC_002289_1725_002922_1725_A01.jpg',\n 'DTEEC_002315_2030_002592_2030_A01.jpg',\n 'DTEEC_002353_1585_003408_1585_A01.jpg',\n 'DTEEC_002353_1585_003408_1585_A02.jpg',\n 'DTEEC_002387_1985_003798_1985_A01.jpg',\n 'DTEEC_002431_1835_001930_1835_A01.jpg',\n 'DTEEC_002437_1875_001593_1875_U01.jpg',\n 'DTEEC_002446_1700_001602_1700_U01.jpg',\n 'DTEEC_002459_1715_003092_1715_A01.jpg',\n 'DTEEC_002478_1365_003678_1365_U01.jpg',\n 'DTEEC_002486_1860_001985_1860_U01.jpg',\n 'DTEEC_002620_1410_002686_1410_A01.jpg',\n 'DTEEC_002634_1725_001645_1725_P01.jpg',\n 'DTEEC_002659_1420_002514_1420_U01.jpg',\n 'DTEEC_002661_1895_003294_1895_U01.jpg',\n 'DTEEC_002671_1790_011413_1790_U01.jpg',\n 'DTEEC_002682_1510_011635_1510_A01.jpg',\n 'DTEEC_002756_1830_002822_1830_A01.jpg',\n 'DTEEC_002786_1580_002074_1580_A01.jpg',\n 'DTEEC_002814_2055_003513_2055_U01.jpg',\n 'DTEEC_002860_1650_003572_1650_U01.jpg',\n 'DTEEC_002878_1880_002733_1880_U01.jpg',\n 'DTEEC_002888_2025_002176_2025_A01.jpg',\n 'DTEEC_002932_1445_003209_1445_A01.jpg',\n 'DTEEC_002932_1445_003209_1445_U02.jpg',\n 'DTEEC_003090_1600_037809_1600_A01.jpg',\n 'DTEEC_003104_1655_002036_1655_A01.jpg',\n 'DTEEC_003195_1985_002694_1985_L01.jpg',\n 'DTEEC_003220_1860_003642_1860_A01.jpg',\n 'DTEEC_003252_1425_003674_1425_A01.jpg',\n 'DTEEC_003382_1715_004371_1715_A01.jpg',\n 'DTEEC_003434_1755_003579_1755_U01.jpg',\n 'DTEEC_003460_2015_003605_2015_U01.jpg',\n 'DTEEC_003487_1670_040936_1670_A01.jpg',\n 'DTEEC_003542_2035_005599_2035_U01.jpg',\n 'DTEEC_003543_1910_003398_1910_A01.jpg',\n 'DTEEC_003587_2015_003086_2015_A01.jpg',\n 'DTEEC_003611_1970_004244_1970_A01.jpg',\n 'DTEEC_003695_1250_004183_1250_A01.jpg',\n 'DTEEC_003756_1825_004178_1825_A01.jpg',\n 'DTEEC_003800_1325_004077_1325_U01.jpg',\n 'DTEEC_003816_1245_004106_1245_A01.jpg',\n 'DTEEC_003910_1685_005400_1685_U01.jpg',\n 'DTEEC_003934_1275_003855_1275_A01.jpg',\n 'DTEEC_003964_1910_004241_1910_U01.jpg',\n 'DTEEC_004019_1420_004085_1420_U01.jpg',\n 'DTEEC_004044_1640_004110_1640_A01.jpg',\n 'DTEEC_004151_1810_020963_1810_U01.jpg',\n 'DTEEC_004291_1755_003790_1755_U01.jpg',\n 'DTEEC_004350_1635_003638_1635_A01.jpg',\n 'DTEEC_004375_1815_003874_1815_A01.jpg',\n 'DTEEC_005161_1720_016237_1720_A01.jpg',\n 'DTEEC_005201_1640_005913_1640_A01.jpg',\n 'DTEEC_005372_1515_006005_1515_A02.jpg',\n 'DTEEC_005429_1510_005851_1510_A01.jpg',\n 'DTEEC_005533_1975_005388_1975_A01.jpg',\n 'DTEEC_005610_1585_005887_1585_A01.jpg',\n 'DTEEC_005731_1425_005586_1425_A01.jpg',\n 'DTEEC_005771_2035_003569_2035_U01.jpg',\n 'DTEEC_005776_2010_012039_2010_U01.jpg',\n 'DTEEC_005811_1470_006668_1470_A01.jpg',\n 'DTEEC_005813_2150_005879_2150_A01.jpg',\n 'DTEEC_005819_2050_006742_2050_A01.jpg',\n 'DTEEC_005837_1965_005903_1965_A01.jpg',\n 'DTEEC_005943_1380_011428_1380_A01.jpg',\n 'DTEEC_005964_2045_011884_2045_U01.jpg',\n 'DTEEC_005980_1725_019891_1725_A01.jpg',\n 'DTEEC_005985_1965_005695_1965_A01.jpg',\n 'DTEEC_006000_1965_002809_1965_C01.jpg',\n 'DTEEC_006133_1410_007056_1410_A01.jpg',\n 'DTEEC_006261_1410_014093_1410_A01.jpg',\n 'DTEEC_006588_1615_011572_1615_U01.jpg',\n 'DTEEC_006633_2010_007556_2010_U01.jpg',\n 'DTEEC_006663_1425_011436_1425_A01.jpg',\n 'DTEEC_006676_2045_007612_2045_U01.jpg',\n 'DTEEC_006696_1895_007408_1895_U01.jpg',\n 'DTEEC_006774_2020_007341_2020_A01.jpg',\n 'DTEEC_006855_1750_007501_1750_A01.jpg',\n 'DTEEC_006887_2050_007823_2050_U01.jpg',\n 'DTEEC_006899_1330_006965_1330_U01.jpg',\n 'DTEEC_006922_1405_006777_1405_A01.jpg',\n 'DTEEC_006954_1885_016250_1885_A01.jpg',\n 'DTEEC_007018_1255_007229_1255_A01.jpg',\n 'DTEEC_007041_2240_006606_2240_A01.jpg',\n 'DTEEC_007058_1745_016354_1745_U01.jpg',\n 'DTEEC_007096_2215_006806_2215_A01.jpg',\n 'DTEEC_007100_1520_033248_1520_A01.jpg',\n 'DTEEC_007110_1325_006820_1325_A01.jpg',\n 'DTEEC_007191_1535_007903_1535_U01.jpg',\n 'DTEEC_007200_2005_016153_2005_A01.jpg',\n 'DTEEC_007205_1660_024505_1660_A01.jpg',\n 'DTEEC_007235_2350_006945_2350_A01.jpg',\n 'DTEEC_007377_1700_008379_1700_U01.jpg',\n 'DTEEC_007430_1725_009645_1725_A01.jpg',\n 'DTEEC_007455_1785_033458_1785_A01.jpg',\n 'DTEEC_007491_1405_007201_1405_U01.jpg',\n 'DTEEC_007522_1685_025666_1685_A01.jpg',\n 'DTEEC_007573_1555_007929_1555_A01.jpg',\n 'DTEEC_007599_2020_007454_2020_U01.jpg',\n 'DTEEC_007627_1765_008563_1765_U01.jpg',\n 'DTEEC_007666_1725_008022_1725_A01.jpg',\n 'DTEEC_007671_2065_007882_2065_U01.jpg',\n 'DTEEC_007727_1830_008808_1830_A01.jpg',\n 'DTEEC_007736_2345_008303_2345_A01.jpg',\n 'DTEEC_007781_1410_008137_1410_U01.jpg',\n 'DTEEC_007795_2175_009588_2175_U01.jpg',\n 'DTEEC_007947_2350_009160_2350_A01.jpg',\n 'DTEEC_007951_2220_008162_2220_A01.jpg',\n 'DTEEC_007978_2005_024487_2005_A01.jpg',\n 'DTEEC_008015_1840_009940_1840_U01.jpg',\n 'DTEEC_008245_2045_016394_2045_A01.jpg',\n 'DTEEC_008272_1560_010474_1560_U01.jpg',\n 'DTEEC_008338_1525_010329_1525_U01.jpg',\n 'DTEEC_008391_1790_028566_1790_A01.jpg',\n 'DTEEC_008437_1750_008938_1750_U01.jpg',\n 'DTEEC_008469_2040_008825_2040_U01.jpg',\n 'DTEEC_008520_2085_009232_2085_A01.jpg',\n 'DTEEC_008536_1725_009604_1725_A01.jpg',\n 'DTEEC_008649_2130_009216_2130_A01.jpg',\n 'DTEEC_008669_1705_009025_1705_A01.jpg',\n 'DTEEC_008823_2310_009245_2310_A01.jpg',\n 'DTEEC_008958_1665_009380_1665_P01.jpg',\n 'DTEEC_008993_2020_009626_2020_A01.jpg',\n 'DTEEC_009118_1665_028080_1665_A01.jpg',\n 'DTEEC_009149_1750_009294_1750_U01.jpg',\n 'DTEEC_009175_1810_009808_1810_A01.jpg',\n 'DTEEC_009467_2225_007384_2225_A01.jpg',\n 'DTEEC_009505_1755_009571_1755_U01.jpg',\n 'DTEEC_009609_1675_010453_1675_A01.jpg',\n 'DTEEC_009610_1880_008753_1880_A01.jpg',\n 'DTEEC_009650_1755_009716_1755_U01.jpg',\n 'DTEEC_009675_2060_008528_2060_U01.jpg',\n 'DTEEC_009768_1880_010045_1880_L01.jpg',\n 'DTEEC_009842_1755_009130_1755_A01.jpg',\n 'DTEEC_009880_1985_009735_1985_L01.jpg',\n 'DTEEC_010052_1560_010553_1560_U01.jpg',\n 'DTEEC_010105_1890_009393_1890_A01.jpg',\n 'DTEEC_010228_1490_016320_1490_A01.jpg',\n 'DTEEC_010277_1650_010699_1650_A02.jpg',\n 'DTEEC_010277_1650_010699_1650_U01.jpg',\n 'DTEEC_010301_2200_006794_2200_A01.jpg',\n 'DTEEC_010335_1840_006762_1840_L01.jpg',\n 'DTEEC_010361_1955_006788_1955_U01.jpg',\n 'DTEEC_010492_1510_045278_1510_A01.jpg',\n 'DTEEC_010540_1535_010685_1535_U01.jpg',\n 'DTEEC_010573_1755_010639_1755_U01.jpg',\n 'DTEEC_010597_1470_007380_1470_U01.jpg',\n 'DTEEC_010816_2040_010882_2040_U01.jpg',\n 'DTEEC_011265_1560_011331_1560_U01.jpg',\n 'DTEEC_011373_1865_010872_1865_U01.jpg',\n 'DTEEC_011417_1755_011562_1755_U01.jpg',\n 'DTEEC_011458_1640_005683_1640_A01.jpg',\n 'DTEEC_011507_1620_005732_1620_A01.jpg',\n 'DTEEC_011523_1695_012367_1695_A01.jpg',\n 'DTEEC_011635_1510_029542_1510_A01.jpg',\n 'DTEEC_011676_1700_028449_1700_A01.jpg',\n 'DTEEC_011817_1395_011672_1395_O01.jpg',\n 'DTEEC_011844_1855_002812_1855_A01.jpg',\n 'DTEEC_011877_1410_012510_1410_A01.jpg',\n 'DTEEC_011952_1585_005821_1585_A01.jpg',\n 'DTEEC_012241_1440_012663_1440_A01.jpg',\n 'DTEEC_012282_1775_011425_1775_A01.jpg',\n 'DTEEC_012340_1750_012195_1750_A01.jpg',\n 'DTEEC_012429_1910_011717_1910_U01.jpg',\n 'DTEEC_012444_2065_014000_2065_U01.jpg',\n 'DTEEC_012451_1505_012662_1505_A01.jpg',\n 'DTEEC_012459_1450_012314_1450_A01.jpg',\n 'DTEEC_012551_1750_012841_1750_U01.jpg',\n 'DTEEC_012579_1420_012434_1420_U01.jpg',\n 'DTEEC_012725_2015_012435_2015_G01.jpg',\n 'DTEEC_012728_1795_012438_1795_A01.jpg',\n 'DTEEC_012795_1395_013507_1395_A01.jpg',\n 'DTEEC_012873_2045_004052_2045_A01.jpg',\n 'DTEEC_012907_1745_013540_1745_A01.jpg',\n 'DTEEC_012912_1320_012767_1320_A01.jpg',\n 'DTEEC_012991_1335_013624_1335_A01.jpg',\n 'DTEEC_012991_1335_013624_1335_A02.jpg',\n 'DTEEC_013017_1325_013083_1325_U01.jpg',\n 'DTEEC_013019_1450_012874_1450_A01.jpg',\n 'DTEEC_013029_1235_013306_1235_A01.jpg',\n 'DTEEC_013104_1895_012959_1895_U01.jpg',\n 'DTEEC_013146_1415_013001_1415_A01.jpg',\n 'DTEEC_013222_1410_013288_1410_A01.jpg',\n 'DTEEC_013268_1330_013123_1330_A01.jpg',\n 'DTEEC_013341_1455_013763_1455_G01.jpg',\n 'DTEEC_013578_1505_030984_1505_U01.jpg',\n 'DTEEC_013611_1325_013110_1325_A01.jpg',\n 'DTEEC_013639_1415_013850_1415_A01.jpg',\n 'DTEEC_013688_1540_012620_1540_A01.jpg',\n 'DTEEC_013745_1730_013033_1730_A01.jpg',\n 'DTEEC_013766_1845_005934_1845_A01.jpg',\n 'DTEEC_013815_1435_013670_1435_G01.jpg',\n 'DTEEC_013835_1330_013189_1330_A01.jpg',\n 'DTEEC_013894_1410_013749_1410_G01.jpg',\n 'DTEEC_013948_1410_013236_1410_A01.jpg',\n 'DTEEC_014011_1315_014288_1315_A01.jpg',\n 'DTEEC_014096_1975_020043_1975_A01.jpg',\n 'DTEEC_014153_1430_014008_1430_A01.jpg',\n 'DTEEC_014186_1745_020410_1745_A01.jpg',\n 'DTEEC_014327_1675_013971_1675_A01.jpg',\n 'DTEEC_014335_1450_014058_1450_A01.jpg',\n 'DTEEC_015947_1370_051036_1370_A01.jpg',\n 'DTEEC_015985_2040_016262_2040_U01.jpg',\n 'DTEEC_015999_1535_016276_1535_U01.jpg',\n 'DTEEC_016004_1425_006906_1425_A01.jpg',\n 'DTEEC_016034_1835_017089_1835_A01.jpg',\n 'DTEEC_016047_1920_007740_1920_A01.jpg',\n 'DTEEC_016058_1740_006894_1740_A01.jpg',\n 'DTEEC_016065_1560_016210_1560_U01.jpg',\n 'DTEEC_016183_1770_016816_1770_A01.jpg',\n 'DTEEC_016213_2315_016714_2315_A01.jpg',\n 'DTEEC_016221_2175_016076_2175_U01.jpg',\n 'DTEEC_016364_1980_016219_1980_U01.jpg',\n 'DTEEC_016443_1980_015942_1980_U01.jpg',\n 'DTEEC_016467_2155_016533_2155_A01.jpg',\n 'DTEEC_016473_1760_016328_1760_A01.jpg',\n 'DTEEC_016490_2315_016780_2315_A01.jpg',\n 'DTEEC_016509_1980_016575_1980_U01.jpg',\n 'DTEEC_016581_2310_016080_2310_A01.jpg',\n 'DTEEC_016750_1830_017172_1830_A01.jpg',\n 'DTEEC_016805_1565_017583_1565_A01.jpg',\n 'DTEEC_016845_1715_017412_1715_A01.jpg',\n 'DTEEC_016846_2320_016569_2320_A01.jpg',\n 'DTEEC_016977_2165_017755_2165_A01.jpg',\n 'DTEEC_016980_2360_017257_2360_A01.jpg',\n 'DTEEC_017076_1980_016931_1980_U01.jpg',\n 'DTEEC_017118_1790_016406_1790_A01.jpg',\n 'DTEEC_017173_1715_018518_1715_U01.jpg',\n 'DTEEC_017287_1980_052020_1985_U01.jpg',\n 'DTEEC_017399_1680_027236_1680_A01.jpg',\n 'DTEEC_017417_1655_016916_1655_A01.jpg',\n 'DTEEC_017482_2210_016981_2210_G01.jpg',\n 'DTEEC_017489_1610_035119_1610_A01.jpg',\n 'DTEEC_017555_1875_018544_1875_A01.jpg',\n 'DTEEC_017569_1645_016857_1645_A01.jpg',\n 'DTEEC_017656_1835_034930_1835_A01.jpg',\n 'DTEEC_017762_1890_018039_1890_A01.jpg',\n 'DTEEC_017825_1760_018458_1760_A01.jpg',\n 'DTEEC_017897_2045_018530_2045_A01.jpg',\n 'DTEEC_017931_1745_017786_1745_A01.jpg',\n 'DTEEC_018048_2360_009332_2360_A01.jpg',\n 'DTEEC_018062_1810_018484_1810_U01.jpg',\n 'DTEEC_018168_2160_019012_2160_A01.jpg',\n 'DTEEC_018339_1820_018194_1820_A01.jpg',\n 'DTEEC_018347_1660_026417_1660_A01.jpg',\n 'DTEEC_018522_2270_019010_2270_A01.jpg',\n 'DTEEC_018701_1775_018846_1775_U01.jpg',\n 'DTEEC_018709_2290_019197_2290_G01.jpg',\n 'DTEEC_018747_2065_018457_2065_U01.jpg',\n 'DTEEC_018854_1755_018920_1755_U01.jpg',\n 'DTEEC_019018_2210_018728_2210_A01.jpg',\n 'DTEEC_019038_1740_019882_1740_A01.jpg',\n 'DTEEC_019045_1530_019322_1530_U01.jpg',\n 'DTEEC_019133_1975_018065_1975_C01.jpg',\n 'DTEEC_019147_2395_018712_2395_G01.jpg',\n 'DTEEC_019190_1560_019335_1560_U01.jpg',\n 'DTEEC_019235_2050_018945_2050_U01.jpg',\n 'DTEEC_019270_1645_019903_1645_A01.jpg',\n 'DTEEC_019358_2225_018857_2225_U01.jpg',\n 'DTEEC_019387_2055_019453_2055_A01.jpg',\n 'DTEEC_019469_1725_019324_1725_A01.jpg',\n 'DTEEC_019503_2210_019213_2210_A01.jpg',\n 'DTEEC_019590_2265_020078_2265_A01.jpg',\n 'DTEEC_019612_1535_019678_1535_U01.jpg',\n 'DTEEC_019677_1585_019743_1585_A01.jpg',\n 'DTEEC_019698_1750_019988_1750_U01.jpg',\n 'DTEEC_019716_1520_016380_1520_A01.jpg',\n 'DTEEC_019757_1560_020034_1560_U01.jpg',\n 'DTEEC_019823_1530_019889_1530_U01.jpg',\n 'DTEEC_020135_2000_019845_2000_A01.jpg',\n 'DTEEC_020267_1490_013964_1490_A01.jpg',\n 'DTEEC_020324_1555_020390_1555_U01.jpg',\n 'DTEEC_020534_1825_021523_1825_A01.jpg',\n 'DTEEC_020575_1665_019652_1665_P01.jpg',\n 'DTEEC_020673_1750_020528_1750_A01.jpg',\n 'DTEEC_020759_1595_029238_1595_A01.jpg',\n 'DTEEC_020873_1640_020161_1640_A01.jpg',\n 'DTEEC_020884_1410_020950_1410_A01.jpg',\n 'DTEEC_020946_1450_020234_1450_A01.jpg',\n 'DTEEC_021466_1230_021954_1230_A01.jpg',\n 'DTEEC_021551_1710_005649_1710_A01.jpg',\n 'DTEEC_021584_1440_022217_1440_A01.jpg',\n 'DTEEC_021639_1610_020782_1610_A01.jpg',\n 'DTEEC_021689_1475_020832_1475_A01.jpg',\n 'DTEEC_021747_1780_022380_1780_U01.jpg',\n 'DTEEC_021757_1975_021612_1975_C01.jpg',\n 'DTEEC_021893_1315_021603_1315_A01.jpg',\n 'DTEEC_021914_1475_022336_1475_U01.jpg',\n 'DTEEC_021942_1520_021797_1520_A01.jpg',\n 'DTEEC_022108_1410_022385_1410_A01.jpg',\n 'DTEEC_022115_1300_022392_1300_U01.jpg',\n 'DTEEC_022262_1475_022895_1475_U01.jpg',\n 'DTEEC_022288_2035_022354_2035_A01.jpg',\n 'DTEEC_022434_1920_021577_1920_L01.jpg',\n 'DTEEC_022436_1705_022502_1705_A01.jpg',\n 'DTEEC_022482_1830_022337_1830_A01.jpg',\n 'DTEEC_022580_1560_023213_1560_A01.jpg',\n 'DTEEC_022647_1690_023069_1690_A01.jpg',\n 'DTEEC_022680_1985_022746_1985_A01.jpg',\n 'DTEEC_022774_1865_023051_1865_A01.jpg',\n 'DTEEC_022855_1270_023145_1270_A01.jpg',\n 'DTEEC_023106_1390_022605_1390_A01.jpg',\n 'DTEEC_023119_1550_022473_1550_A01.jpg',\n 'DTEEC_023247_1985_022957_1985_U01.jpg',\n 'DTEEC_023261_2065_023327_2065_A01.jpg',\n 'DTEEC_023420_1345_023130_1345_A01.jpg',\n 'DTEEC_023488_2050_023554_2050_A01.jpg',\n 'DTEEC_023524_1985_023379_1985_U01.jpg',\n 'DTEEC_023531_1840_023953_1840_A01.jpg',\n 'DTEEC_023567_2000_023422_2000_A01.jpg',\n 'DTEEC_023586_1425_024008_1425_A01.jpg',\n 'DTEEC_023928_1205_024060_1205_U01.jpg',\n 'DTEEC_023957_1755_024023_1755_U01.jpg',\n 'DTEEC_024047_1895_024113_1895_A01.jpg',\n 'DTEEC_024082_1995_023581_1995_G01.jpg',\n 'DTEEC_024099_1415_023809_1415_U01.jpg',\n 'DTEEC_024115_1380_011509_1380_G01.jpg',\n 'DTEEC_024234_1755_024300_1755_U01.jpg',\n 'DTEEC_024266_1830_023910_1830_A01.jpg',\n 'DTEEC_024483_1675_024127_1675_A01.jpg',\n 'DTEEC_024831_2300_019372_2300_A01.jpg',\n 'DTEEC_024838_1630_024693_1630_A01.jpg',\n 'DTEEC_024877_1465_024587_1465_P01.jpg',\n 'DTEEC_024950_1870_024805_1870_A01.jpg',\n 'DTEEC_024954_1720_025020_1720_A01.jpg',\n 'DTEEC_024969_2315_017453_2315_A01.jpg',\n 'DTEEC_024976_1375_025042_1375_A01.jpg',\n 'DTEEC_025052_1660_024907_1660_A01.jpg',\n 'DTEEC_025123_2045_026811_2045_A01.jpg',\n 'DTEEC_025152_1945_025007_1945_A01.jpg',\n 'DTEEC_025277_2275_025620_2275_U01.jpg',\n 'DTEEC_025305_2225_025582_2225_A01.jpg',\n 'DTEEC_025349_1670_024993_1670_A01.jpg',\n 'DTEEC_025366_2305_025498_2305_A01.jpg',\n 'DTEEC_025437_1410_025147_1410_U01.jpg',\n 'DTEEC_025441_1650_027973_1650_A01.jpg',\n 'DTEEC_025470_2325_025391_2325_A01.jpg',\n 'DTEEC_025497_2355_025352_2355_A01.jpg',\n 'DTEEC_025625_1580_024913_1580_A01.jpg',\n 'DTEEC_025700_2005_025766_2005_A01.jpg',\n 'DTEEC_025731_1655_025164_1655_U01.jpg',\n 'DTEEC_025735_2185_025801_2185_A01.jpg',\n 'DTEEC_025782_2020_025637_2020_A01.jpg',\n 'DTEEC_025888_2365_025664_2365_O01.jpg',\n 'DTEEC_025905_1980_026327_1980_A01.jpg',\n 'DTEEC_026076_2320_026419_2320_A01.jpg',\n 'DTEEC_026105_2085_026593_2085_A01.jpg',\n 'DTEEC_026139_1600_027616_1600_A01.jpg',\n 'DTEEC_026270_1820_027747_1820_A01.jpg',\n 'DTEEC_026273_1700_008340_1700_U01.jpg',\n 'DTEEC_026314_2390_025668_2390_G01.jpg',\n 'DTEEC_026339_1700_026194_1700_U01.jpg',\n 'DTEEC_026402_1605_026257_1605_A01.jpg',\n 'DTEEC_026461_2080_026738_2080_A01.jpg',\n 'DTEEC_026541_1840_026607_1840_A01.jpg',\n 'DTEEC_026609_1655_026675_1655_U01.jpg',\n 'DTEEC_026757_1865_026823_1865_A01.jpg',\n 'DTEEC_026812_1920_026878_1920_L01.jpg',\n 'DTEEC_026861_1555_027349_1555_A01.jpg',\n 'DTEEC_027027_2325_027370_2325_A01.jpg',\n 'DTEEC_027065_2405_026564_2405_G01.jpg',\n 'DTEEC_027158_2305_026446_2305_A01.jpg',\n 'DTEEC_027168_1920_027656_1920_L01.jpg',\n 'DTEEC_027182_1660_026905_1660_A01.jpg',\n 'DTEEC_027197_2420_016279_2420_G01.jpg',\n 'DTEEC_027269_1970_042671_1970_C01.jpg',\n 'DTEEC_027270_1530_027758_1530_A01.jpg',\n 'DTEEC_027372_1850_027649_1850_A01.jpg',\n 'DTEEC_027376_2310_027297_2310_A01.jpg',\n 'DTEEC_027443_1815_028142_1815_A01.jpg',\n 'DTEEC_027526_1685_027592_1685_A01.jpg',\n 'DTEEC_027625_1975_009217_1975_C01.jpg',\n 'DTEEC_027670_2015_026536_2015_U01.jpg',\n 'DTEEC_027802_1685_028501_1685_A01.jpg',\n 'DTEEC_027866_2320_026099_2320_A01.jpg',\n 'DTEEC_027890_1850_002230_1850_A01.jpg',\n 'DTEEC_027902_1975_026280_1975_C01.jpg',\n 'DTEEC_028011_2055_028288_2055_A01.jpg',\n 'DTEEC_028149_2085_028215_2085_A01.jpg',\n 'DTEEC_028360_2085_028993_2085_A01.jpg',\n 'DTEEC_028394_1595_010632_1595_A01.jpg',\n 'DTEEC_028532_1790_028387_1790_A01.jpg',\n 'DTEEC_028579_1580_033471_1580_A01.jpg',\n 'DTEEC_028591_1880_028657_1880_l01.jpg',\n 'DTEEC_028653_2265_036802_2265_A01.jpg',\n 'DTEEC_028671_1600_027893_1600_A01.jpg',\n 'DTEEC_028714_2235_020156_2235_H01.jpg',\n 'DTEEC_028733_2230_028799_2230_A01.jpg',\n 'DTEEC_028815_1780_028670_1780_A01.jpg',\n 'DTEEC_028816_1605_029594_1605_A01.jpg',\n 'DTEEC_028855_2045_020297_2045_A01.jpg',\n 'DTEEC_028857_1700_028923_1700_A01.jpg',\n 'DTEEC_028953_1430_029019_1430_A01.jpg',\n 'DTEEC_029515_1590_030293_1590_A01.jpg',\n 'DTEEC_029846_1520_029134_1520_A01.jpg',\n 'DTEEC_029938_1660_030505_1660_A01.jpg',\n 'DTEEC_029990_1920_029845_1920_L01.jpg',\n 'DTEEC_030025_1975_013041_1975_C01.jpg',\n 'DTEEC_030351_1450_030061_1450_A01.jpg',\n 'DTEEC_030373_1755_030795_1755_A01.jpg',\n 'DTEEC_030426_1685_030281_1685_A01.jpg',\n 'DTEEC_030518_1650_022949_1650_A01.jpg',\n 'DTEEC_030715_1440_030570_1440_A01.jpg',\n 'DTEEC_031120_1505_031898_1505_A01.jpg',\n 'DTEEC_031817_1410_031751_1410_A01.jpg',\n 'DTEEC_031919_1435_024205_1435_U01.jpg',\n 'DTEEC_031929_1660_031995_1660_A01.jpg',\n 'DTEEC_032206_1675_031850_1675_A01.jpg',\n 'DTEEC_032475_1235_032607_1235_A01.jpg',\n 'DTEEC_032616_1275_032748_1275_A01.jpg',\n 'DTEEC_032814_1670_032880_1670_A01.jpg',\n 'DTEEC_032864_1595_032930_1595_A01.jpg',\n 'DTEEC_032881_1855_032736_1855_A01.jpg',\n 'DTEEC_032965_2315_033809_2315_A01.jpg',\n 'DTEEC_032975_1415_033041_1415_G01.jpg',\n 'DTEEC_032979_2070_032333_2070_A01.jpg',\n 'DTEEC_033165_2195_032875_2195_A01.jpg',\n 'DTEEC_033326_1780_006598_1780_A01.jpg',\n 'DTEEC_033454_1545_033520_1545_A01.jpg',\n 'DTEEC_033518_1405_033584_1405_G01.jpg',\n 'DTEEC_033963_2230_033818_2230_A01.jpg',\n 'DTEEC_034082_2260_033014_2260_A01.jpg',\n 'DTEEC_034095_2285_033805_2285_A01.jpg',\n 'DTEEC_034108_2245_034174_2245_A01.jpg',\n 'DTEEC_034109_2085_033608_2085_A01.jpg',\n 'DTEEC_034197_1670_033485_1670_A01.jpg',\n 'DTEEC_034200_2335_034266_2335_A01.jpg',\n 'DTEEC_034240_2275_033950_2275_A01.jpg',\n 'DTEEC_034394_1920_034249_1920_L01.jpg',\n 'DTEEC_034419_2015_033707_2015_A01.jpg',\n 'DTEEC_034605_1920_026601_1920_L01.jpg',\n 'DTEEC_034619_1670_034830_1670_A01.jpg',\n 'DTEEC_034695_2175_034972_2175_G01.jpg',\n 'DTEEC_034717_1840_035561_1840_U01.jpg',\n 'DTEEC_034816_1925_036293_1925_L01.jpg',\n 'DTEEC_034830_2025_036241_2025_U01.jpg',\n 'DTEEC_034856_1655_035278_1655_A01.jpg',\n 'DTEEC_034862_1835_035139_1835_U01.jpg',\n 'DTEEC_034928_1850_034783_1850_U01.jpg',\n 'DTEEC_034934_2155_034499_2155_A01.jpg',\n 'DTEEC_035006_1875_034716_1875_A01.jpg',\n 'DTEEC_035057_2335_034767_2335_A01.jpg',\n 'DTEEC_035063_2340_034628_2340_A01.jpg',\n 'DTEEC_035073_1840_036550_1840_U01.jpg',\n 'DTEEC_035172_1725_034671_1725_A01.jpg',\n 'DTEEC_035204_1830_035270_1830_A01.jpg',\n 'DTEEC_035218_1835_035284_1835_U01.jpg',\n 'DTEEC_035243_2080_034386_2080_A01.jpg',\n 'DTEEC_035362_2190_060984_2190_A01.jpg',\n 'DTEEC_035406_1380_034905_1380_A01.jpg',\n 'DTEEC_035425_2335_034990_2335_A01.jpg',\n 'DTEEC_035484_2025_037106_2025_A01.jpg',\n 'DTEEC_035586_1655_035230_1655_U01.jpg',\n 'DTEEC_035618_2175_036884_2175_G01.jpg',\n 'DTEEC_035640_1845_036906_1845_U01.jpg',\n 'DTEEC_035690_2240_035189_2240_A01.jpg',\n 'DTEEC_035785_1840_036062_1840_U01.jpg',\n 'DTEEC_035828_2255_035327_2255_A01.jpg',\n 'DTEEC_035862_2195_035928_2195_A01.jpg',\n 'DTEEC_035895_1965_036172_1965_A01.jpg',\n 'DTEEC_035914_2280_035624_2280_A01.jpg',\n 'DTEEC_035996_1835_036840_1835_U01.jpg',\n 'DTEEC_036087_1655_035164_1655_U01.jpg',\n 'DTEEC_036161_1920_036227_1920_L01.jpg',\n 'DTEEC_036207_1840_036273_1840_U01.jpg',\n 'DTEEC_036209_1720_035642_1720_A01.jpg',\n 'DTEEC_036257_2355_035334_2355_A01.jpg',\n 'DTEEC_036285_1885_035929_1885_A01.jpg',\n 'DTEEC_036305_2025_035804_2025_L01.jpg',\n 'DTEEC_036307_1665_035951_1665_A01.jpg',\n 'DTEEC_036384_1880_037162_1880_A01.jpg',\n 'DTEEC_036481_1835_036336_1835_A01.jpg',\n 'DTEEC_036484_1835_037051_1835_U01.jpg',\n 'DTEEC_036517_1920_036583_1920_L01.jpg',\n 'DTEEC_036529_1880_035962_1880_A01.jpg',\n 'DTEEC_036695_1850_036405_1850_U01.jpg',\n 'DTEEC_036859_2020_036569_2020_A01.jpg',\n 'DTEEC_036873_1920_035528_1920_H01.jpg',\n 'DTEEC_036925_1985_037558_1985_L01.jpg',\n 'DTEEC_037030_1880_036740_1880_A01.jpg',\n 'DTEEC_037070_1985_037136_1985_L01.jpg',\n 'DTEEC_037196_1840_037473_1840_U01.jpg',\n 'DTEEC_037262_1845_036761_1845_U01.jpg',\n 'DTEEC_037268_2300_027629_2300_G01.jpg',\n 'DTEEC_037281_1775_036213_1775_A01.jpg',\n 'DTEEC_037295_1920_037005_1920_L01.jpg',\n 'DTEEC_037352_2245_037418_2245_A01.jpg',\n 'DTEEC_037400_1585_033998_1585_A01.jpg',\n 'DTEEC_037651_1920_037717_1920_L01.jpg',\n 'DTEEC_037684_1845_037328_1845_U01.jpg',\n 'DTEEC_037730_1615_038007_1615_A01.jpg',\n 'DTEEC_037874_1880_037729_1880_B01.jpg',\n 'DTEEC_037948_1645_038291_1645_A01.jpg',\n 'DTEEC_038143_2205_055536_2205_A01.jpg',\n 'DTEEC_038214_1875_038280_1875_A01.jpg',\n 'DTEEC_038449_1845_037961_1845_U01.jpg',\n 'DTEEC_039216_1835_039849_1835_A01.jpg',\n 'DTEEC_039299_1985_047501_1985_L01.jpg',\n 'DTEEC_039380_1290_039657_1290_A01.jpg',\n 'DTEEC_039404_1820_047184_1820_A01.jpg',\n 'DTEEC_039415_1590_039270_1590_A01.jpg',\n 'DTEEC_039470_1880_039536_1880_L01.jpg',\n 'DTEEC_039488_1420_039343_1420_A01.jpg',\n 'DTEEC_039502_1380_039779_1380_A01.jpg',\n 'DTEEC_039524_1920_012228_1920_L01.jpg',\n 'DTEEC_039666_1380_039732_1380_A01.jpg',\n 'DTEEC_039788_1645_039854_1645_A01.jpg',\n 'DTEEC_040293_1520_047506_1520_A01.jpg',\n 'DTEEC_040513_1920_040157_1920_L01.jpg',\n 'DTEEC_040607_1345_040251_1345_A01.jpg',\n 'DTEEC_040658_1920_039735_1920_L01.jpg',\n 'DTEEC_040659_2025_005610_2025_U01.jpg',\n 'DTEEC_040770_1755_039280_1755_A01.jpg',\n 'DTEEC_040770_1755_039280_1755_U01.jpg',\n 'DTEEC_040801_1335_058181_1335_G01.jpg',\n 'DTEEC_040904_1975_040970_1975_A01.jpg',\n 'DTEEC_041086_1720_039596_1720_A01.jpg',\n 'DTEEC_041219_1275_032463_1275_A01.jpg',\n 'DTEEC_041222_2210_040787_2210_A01.jpg',\n 'DTEEC_041277_2115_040776_2115_A01.jpg',\n 'DTEEC_041282_1520_047150_1520_A01.jpg',\n 'DTEEC_041305_1670_040949_1670_A01.jpg',\n 'DTEEC_041878_1460_041021_1460_G01.jpg',\n 'DTEEC_041937_1920_042003_1920_L01.jpg',\n 'DTEEC_042016_1495_042082_1495_A01.jpg',\n 'DTEEC_042134_1985_053962_1985_L01.jpg',\n 'DTEEC_042183_2210_042104_2210_U01.jpg',\n 'DTEEC_042224_1380_042290_1380_A01.jpg',\n 'DTEEC_042618_2210_042539_2210_U01.jpg',\n 'DTEEC_042624_1790_069316_1790_A01.jpg',\n 'DTEEC_042666_1720_007696_1720_A01.jpg',\n 'DTEEC_042674_1775_042740_1775_A01.jpg',\n 'DTEEC_042827_1845_042537_1845_U01.jpg',\n 'DTEEC_042951_1820_043017_1820_A01.jpg',\n 'DTEEC_042961_2010_042816_2010_A01.jpg',\n 'DTEEC_043183_1845_043671_1845_U01.jpg',\n 'DTEEC_043374_1540_043229_1540_A01.jpg',\n 'DTEEC_043534_1715_042822_1715_A01.jpg',\n 'DTEEC_043742_1800_043597_1800_A01.jpg',\n 'DTEEC_043779_1890_043423_1890_A01.jpg',\n 'DTEEC_043850_1685_043916_1685_A01.jpg',\n 'DTEEC_043861_1605_044349_1605_A01.jpg',\n 'DTEEC_043987_1825_035521_1825_A01.jpg',\n 'DTEEC_044325_1700_044180_1700_U01.jpg',\n 'DTEEC_044416_1920_044271_1920_L01.jpg',\n 'DTEEC_044885_2055_043896_2055_A01.jpg',\n 'DTEEC_045071_2015_045137_2015_U01.jpg',\n 'DTEEC_045140_2015_044784_2015_A01.jpg',\n 'DTEEC_045318_1655_044962_1655_U01.jpg',\n 'DTEEC_045443_2160_007664_2160_G01.jpg',\n 'DTEEC_045994_1985_046060_1985_U01.jpg',\n 'DTEEC_046030_1670_046452_1670_A01.jpg',\n 'DTEEC_046103_2030_052129_2030_L01.jpg',\n 'DTEEC_046252_1975_046107_1975_A01.jpg',\n 'DTEEC_046619_1665_045907_1665_A01.jpg',\n 'DTEEC_046666_2125_046521_2125_A01.jpg',\n 'DTEEC_046707_2220_055146_2220_A01.jpg',\n 'DTEEC_046730_2110_055169_2110_A01.jpg',\n 'DTEEC_046764_1660_050812_1660_A01.jpg',\n 'DTEEC_046963_1745_029504_1745_A01.jpg',\n 'DTEEC_046983_1965_047194_1965_C01.jpg',\n 'DTEEC_047190_1425_011969_1425_U01.jpg',\n 'DTEEC_047413_1410_003160_1410_A01.jpg',\n 'DTEEC_047549_1520_057228_1520_A01.jpg',\n 'DTEEC_048136_1725_041121_1725_A01.jpg',\n 'DTEEC_048243_1980_048454_1980_A01.jpg',\n 'DTEEC_048372_1715_040078_1715_A01.jpg',\n 'DTEEC_048689_1670_048610_1670_A01.jpg',\n 'DTEEC_048842_1985_048908_1985_U01.jpg',\n 'DTEEC_048894_2090_049527_2090_A01.jpg',\n 'DTEEC_048983_1420_048693_1420_U01.jpg',\n 'DTEEC_049009_1520_039581_1520_A01.jpg',\n 'DTEEC_049019_1755_048518_1755_A01.jpg',\n 'DTEEC_049053_1980_049119_1980_U01.jpg',\n 'DTEEC_049306_2160_049860_2160_A01.jpg',\n 'DTEEC_049709_2185_049775_2185_A01.jpg',\n 'DTEEC_049751_1515_058204_1515_A01.jpg',\n 'DTEEC_049788_1655_049643_1655_U01.jpg',\n 'DTEEC_049896_1520_049329_1520_A01.jpg',\n 'DTEEC_049897_1980_049330_1980_U01.jpg',\n 'DTEEC_050086_1580_050508_1580_A01.jpg',\n 'DTEEC_050127_1445_020774_1445_G01.jpg',\n 'DTEEC_050438_1890_051071_1890_A01.jpg',\n 'DTEEC_050450_2120_059404_2120_A01.jpg',\n 'DTEEC_050846_2305_050978_2305_A01.jpg',\n 'DTEEC_051084_1875_050939_1875_A01.jpg',\n 'DTEEC_051890_1815_052167_1815_A01.jpg',\n 'DTEEC_051986_1750_051841_1750_U01.jpg',\n 'DTEEC_052299_2150_052510_2150_A01.jpg',\n 'DTEEC_052628_2310_052694_2310_A01.jpg',\n 'DTEEC_052638_2020_060379_2020_U01.jpg',\n 'DTEEC_052945_2150_053222_2150_A01.jpg',\n 'DTEEC_053320_2345_053241_2345_A01.jpg',\n 'DTEEC_053364_2135_053219_2135_A01.jpg',\n 'DTEEC_053459_2170_053169_2170_A01.jpg',\n 'DTEEC_053786_2135_053641_2135_A01.jpg',\n 'DTEEC_053865_2115_053575_2115_A01.jpg',\n 'DTEEC_054001_1805_053856_1805_A01.jpg',\n 'DTEEC_054035_1915_053745_1915_A01.jpg',\n 'DTEEC_054753_1825_055452_1825_A01.jpg',\n 'DTEEC_055209_2015_060260_2015_U01.jpg',\n 'DTEEC_055357_1540_003799_1540_H01.jpg',\n 'DTEEC_055589_1895_055655_1895_A01.jpg',\n 'DTEEC_057321_1220_057453_1220_A01.jpg',\n 'DTEEC_057551_1675_057894_1675_A01.jpg',\n 'DTEEC_057572_1390_057638_1390_A01.jpg',\n 'DTEEC_057677_1230_057466_1230_A01.jpg',\n 'DTEEC_057678_2015_057546_2015_A01.jpg',\n 'DTEEC_057766_1415_057278_1415_G01.jpg',\n 'DTEEC_057782_1245_057571_1245_A01.jpg',\n 'DTEEC_057809_1215_057598_1215_A01.jpg',\n 'DTEEC_057878_2115_058010_2115_A01.jpg',\n 'DTEEC_058049_1275_058115_1275_G01.jpg',\n 'DTEEC_058380_1985_040921_1985_H01.jpg',\n 'DTEEC_058729_2170_059006_2170_A01.jpg',\n 'DTEEC_058736_1850_057879_1850_H01.jpg',\n 'DTEEC_058874_2160_059296_2160_A01.jpg',\n 'DTEEC_059410_1665_058698_1665_A01.jpg',\n 'DTEEC_059418_2020_060051_2020_A01.jpg',\n 'DTEEC_059507_2155_058795_2155_A01.jpg',\n 'DTEEC_059975_1400_059619_1400_A01.jpg',\n 'DTEEC_060166_1675_060443_1675_A01.jpg',\n 'DTEEC_060333_1660_060188_1660_A01.jpg',\n 'DTEEC_060342_1985_060408_1985_A01.jpg',\n 'DTEEC_060430_2170_060140_2170_A01.jpg',\n 'DTEEC_060729_1670_060795_1670_A01.jpg',\n 'DTEEC_060975_2215_062373_2215_G01.jpg',\n 'DTEEC_061740_2250_061595_2250_A01.jpg',\n 'DTEEC_062048_2240_061969_2240_A01.jpg',\n 'DTEEC_062118_2190_061762_2190_A01.jpg',\n 'DTEEC_062540_2165_062751_2165_A01.jpg',\n 'DTEEC_062740_2150_062806_2150_A01.jpg',\n 'DTEEC_062909_2190_062474_2190_A01.jpg',\n 'DTEEC_062992_1755_009323_1755_A01.jpg',\n 'DTEEC_063319_1745_052242_1745_A01.jpg',\n 'DTEEC_063839_1980_064261_1980_H01.jpg',\n 'DTEEC_063956_2315_063376_2315_A01.jpg',\n 'DTEEC_064444_2210_029236_2210_A01.jpg',\n 'DTEEC_064495_2150_064561_2150_A01.jpg',\n 'DTEEC_064726_1390_065491_1390_G01.jpg',\n 'DTEEC_065356_1995_065422_1995_G01.jpg',\n 'DTEEC_065488_1990_064644_1990_G01.jpg',\n 'DTEEC_065500_1605_064722_1605_A01.jpg',\n 'DTEEC_065915_1410_066047_1410_G01.jpg',\n 'DTEEC_066220_1430_065798_1430_A01.jpg',\n 'DTEEC_066551_2050_066617_2050_A01.jpg',\n 'DTEEC_066848_1585_067798_1585_A01.jpg',\n 'DTEEC_067504_1875_067636_1875_A01.jpg',\n 'DTEEC_067580_2050_067844_2050_A01.jpg',\n 'DTEEC_068700_2420_068687_2420_A01.jpg',\n 'DTEEC_069071_2020_063847_2020_A01.jpg',\n 'DTEEC_069174_2045_001420_2045_A01.jpg',\n 'DTEEC_069665_2055_069731_2055_A01.jpg',\n 'DTEEC_069876_2055_069942_2055_A01.jpg',\n 'DTEEC_069895_2350_070528_2350_A01.jpg',\n 'DTEEC_070120_2195_070331_2195_A01.jpg',\n 'DTEEC_070270_1780_070125_1780_A01.jpg',\n 'DTEEC_070886_2390_070807_2390_A01.jpg',\n 'DTEEC_071021_2190_071087_2190_A01.jpg',\n 'DTEEC_071039_2070_070749_2070_A01.jpg',\n 'DTEEC_071085_2345_071006_2345_A01.jpg',\n 'DTEEC_071815_2265_071881_2265_A01.jpg',\n 'DTEEC_072374_1460_072440_1460_A01.jpg',\n 'DTEEC_072575_2305_072496_2305_A01.jpg',\n 'DTEEC_073467_2010_073533_2010_A01.jpg',\n 'DTEEC_073578_2155_073077_2155_A01.jpg',\n 'DTEEC_073667_2185_073522_2185_A01.jpg',\n 'DTEEC_074375_1510_074441_1510_A01.jpg',\n 'DTEEC_074377_1790_074443_1790_A01.jpg',\n 'DTEEC_074701_1840_075901_1840_A01.jpg',\n 'DTEEC_074914_1225_074980_1225_A01.jpg',\n 'DTEEC_075255_1250_075387_1250_A01.jpg',\n 'DTEEC_075270_1190_075613_1190_A01.jpg',\n 'DTEEC_075309_1235_075230_1235_A01.jpg',\n 'DTEEC_075311_1230_075232_1230_A01.jpg',\n 'DTEEC_075319_1715_075952_1715_A01.jpg',\n 'DTEEC_075454_1255_074742_1255_A01.jpg',\n 'DTEEC_076215_1380_075503_1380_A01.jpg',\n 'DTEEC_076671_1910_076460_1910_A01.jpg',\n 'DTEEC_076769_1380_076347_1380_A01.jpg',\n 'DTEED_002424_1765_019803_1765_A01.jpg',\n 'DTEED_002794_1755_002082_1755_A01.jpg',\n 'DTEED_003510_2165_003576_2165_A01.jpg',\n 'DTEED_005609_1470_005754_1470_A01.jpg',\n 'DTEED_005632_1225_005342_1225_A01.jpg',\n 'DTEED_005842_1970_011538_1970_A01.jpg',\n 'DTEED_006528_1585_007095_1585_A01.jpg',\n 'DTEED_007346_1405_016286_1405_A01.jpg',\n 'DTEED_007429_2440_008141_2440_O01.jpg',\n 'DTEED_007460_1675_060021_1675_A01.jpg',\n 'DTEED_007570_1415_006779_1415_A01.jpg',\n 'DTEED_007757_1605_016196_1605_A01.jpg',\n 'DTEED_007785_1645_008141_1645_A01.jpg',\n 'DTEED_008262_1855_042652_1855_A01.jpg',\n 'DTEED_008884_1845_020000_1845_A01.jpg',\n 'DTEED_009064_2315_009341_2315_A01.jpg',\n 'DTEED_009151_1465_008070_1465_A01.jpg',\n 'DTEED_009318_1465_017243_1465_A01.jpg',\n 'DTEED_009455_2215_008809_2215_A01.jpg',\n 'DTEED_010342_1600_034552_1600_A01.jpg',\n 'DTEED_010435_1700_010290_1700_A01.jpg',\n 'DTEED_010549_1530_006620_1530_A01.jpg',\n 'DTEED_010563_1410_006278_1410_U01.jpg',\n 'DTEED_010661_1780_010305_1780_A01.jpg',\n 'DTEED_012939_1875_012794_1875_A01.jpg',\n 'DTEED_013208_1445_012707_1445_G01.jpg',\n 'DTEED_013213_1705_013635_1705_A01.jpg',\n 'DTEED_013582_1895_020940_1895_A01.jpg',\n 'DTEED_014081_1440_014147_1440_A01.jpg',\n 'DTEED_014114_1665_005148_1665_A01.jpg',\n 'DTEED_015943_1390_006845_1390_A01.jpg',\n 'DTEED_016416_1475_016271_1475_A01.jpg',\n 'DTEED_016642_1370_007913_1370_A01.jpg',\n 'DTEED_016686_1735_017108_1735_H01.jpg',\n 'DTEED_016907_1330_016973_1330_U01.jpg',\n 'DTEED_017147_1535_017002_1535_A01.jpg',\n 'DTEED_017413_2300_017334_2300_A01.jpg',\n 'DTEED_017631_1395_008269_1395_A01.jpg',\n 'DTEED_017644_1420_025925_1420_A01.jpg',\n 'DTEED_017784_1425_026276_1425_A01.jpg',\n 'DTEED_017875_2305_018007_2305_A01.jpg',\n 'DTEED_018046_2375_017822_2375_A01.jpg',\n 'DTEED_018420_2375_017563_2375_A01.jpg',\n 'DTEED_018564_2115_018630_2115_A01.jpg',\n 'DTEED_018738_1585_019160_1585_A01.jpg',\n 'DTEED_019204_1570_018703_1570_A01.jpg',\n 'DTEED_019231_1905_018730_1905_A01.jpg',\n 'DTEED_019291_1965_019924_1965_A01.jpg',\n 'DTEED_019323_1565_018611_1565_A01.jpg',\n 'DTEED_019325_1960_019391_1960_A01.jpg',\n 'DTEED_019394_1745_019249_1745_A01.jpg',\n 'DTEED_019466_1585_019954_1585_A01.jpg',\n 'DTEED_019604_2360_019380_2360_A01.jpg',\n 'DTEED_020259_1670_020681_1670_A01.jpg',\n 'DTEED_020492_1830_021481_1830_A01.jpg',\n 'DTEED_020879_1670_021657_1670_A01.jpg',\n 'DTEED_021494_1610_013134_1610_A01.jpg',\n 'DTEED_021688_1325_021754_1325_A01.jpg',\n 'DTEED_021842_1810_021908_1810_A01.jpg',\n 'DTEED_022113_1465_014320_1465_A01.jpg',\n 'DTEED_022962_1570_022672_1570_A01.jpg',\n 'DTEED_023546_1375_023612_1375_A01.jpg',\n 'DTEED_023785_1745_067671_1745_A01.jpg',\n 'DTEED_024137_1700_023425_1700_A01.jpg',\n 'DTEED_024728_1595_024227_1595_A01.jpg',\n 'DTEED_025071_1995_025137_1995_G01.jpg',\n 'DTEED_025240_1690_025728_1690_A01.jpg',\n 'DTEED_025459_1895_026514_1895_A01.jpg',\n 'DTEED_025555_1360_025621_1360_A01.jpg',\n 'DTEED_025661_1830_025806_1830_A01.jpg',\n 'DTEED_025827_2025_025893_2025_A01.jpg',\n 'DTEED_026040_1880_025684_1885_U01.jpg',\n 'DTEED_026083_1430_026505_1430_A01.jpg',\n 'DTEED_026360_1415_026426_1415_A01.jpg',\n 'DTEED_027139_1525_017434_1525_A01.jpg',\n 'DTEED_027216_1835_019357_1835_A01.jpg',\n 'DTEED_027231_2340_019438_2340_O01.jpg',\n 'DTEED_027392_1650_027880_1650_A01.jpg',\n 'DTEED_027485_1610_026496_1610_A01.jpg',\n 'DTEED_027574_2245_028339_2245_G01.jpg',\n 'DTEED_027585_2390_025884_2390_G01.jpg',\n 'DTEED_028064_2215_027919_2215_A01.jpg',\n 'DTEED_028274_2160_044388_2160_A01.jpg',\n 'DTEED_028277_2260_028409_2260_G01.jpg',\n 'DTEED_028535_1515_033783_1515_A01.jpg',\n 'DTEED_028719_2290_037646_2290_A01.jpg',\n 'DTEED_029122_2065_028977_2065_A01.jpg',\n 'DTEED_029514_1820_030292_1820_A01.jpg',\n 'DTEED_029716_1980_029426_1980_A01.jpg',\n 'DTEED_029716_1980_029426_1980_A02.jpg',\n 'DTEED_029804_1770_029092_1770_A01.jpg',\n 'DTEED_029815_1530_030092_1530_A01.jpg',\n 'DTEED_029964_1510_029542_1510_A01.jpg',\n 'DTEED_030003_1440_030214_1440_G01.jpg',\n 'DTEED_030021_1410_030443_1410_U01.jpg',\n 'DTEED_030440_1945_030862_1945_A01.jpg',\n 'DTEED_030808_1535_031230_1535_A01.jpg',\n 'DTEED_031125_1670_031903_1670_A01.jpg',\n 'DTEED_031911_1500_024408_1500_A01.jpg',\n 'DTEED_032193_1990_031837_1990_A01.jpg',\n 'DTEED_033282_1525_033348_1525_U01.jpg',\n 'DTEED_033352_1605_033774_1605_A01.jpg',\n 'DTEED_033617_1990_034316_1990_A01.jpg',\n 'DTEED_033651_1990_033717_1990_A01.jpg',\n 'DTEED_033737_2040_034370_2040_A01.jpg',\n 'DTEED_033977_1385_037445_1385_A01.jpg',\n 'DTEED_033995_1410_042382_1410_A01.jpg',\n 'DTEED_034041_1980_033685_1980_A01.jpg',\n 'DTEED_034384_2300_033738_2300_A01.jpg',\n 'DTEED_035811_2050_037011_2050_A01.jpg',\n 'DTEED_036098_1975_036375_1975_A01.jpg',\n 'DTEED_037173_1380_028589_1380_A01.jpg',\n 'DTEED_037318_1410_055133_1410_A01.jpg',\n 'DTEED_039245_1325_039944_1325_A01.jpg',\n 'DTEED_039326_1650_039181_1650_A01.jpg',\n 'DTEED_039643_1400_039709_1400_G01.jpg',\n 'DTEED_042014_1760_042647_1760_A01.jpg',\n 'DTEED_042328_1985_033150_1985_A01.jpg',\n 'DTEED_042714_2035_042424_2035_A01.jpg',\n 'DTEED_042753_1930_042252_1930_A01.jpg',\n 'DTEED_043264_1835_042763_1835_A01.jpg',\n 'DTEED_043599_1650_043098_1650_A01.jpg',\n 'DTEED_044509_1865_045274_1865_A01.jpg',\n 'DTEED_045057_2120_052006_2120_A01.jpg',\n 'DTEED_045238_1525_051976_1525_A01.jpg',\n 'DTEED_045268_2120_044424_2120_A01.jpg',\n 'DTEED_045353_1890_044720_1890_A01.jpg',\n 'DTEED_045395_1980_045817_1980_A01.jpg',\n 'DTEED_045769_2110_045479_2110_A01.jpg',\n 'DTEED_045980_2115_051162_2115_A01.jpg',\n 'DTEED_046033_2145_046099_2145_A01.jpg',\n 'DTEED_046072_2170_046138_2170_A01.jpg',\n 'DTEED_046415_1520_046837_1520_A01.jpg',\n 'DTEED_046487_1880_045419_1880_A01.jpg',\n 'DTEED_046816_1785_047027_1785_A01.jpg',\n 'DTEED_048152_1525_047862_1525_A01.jpg',\n 'DTEED_048683_2120_049105_2120_A01.jpg',\n 'DTEED_049421_1540_049487_1540_A01.jpg',\n 'DTEED_050125_1480_050046_1480_G01.jpg',\n 'DTEED_050281_2245_050558_2245_A01.jpg',\n 'DTEED_050292_2140_050569_2140_A01.jpg',\n 'DTEED_050308_2225_050585_2225_A01.jpg',\n 'DTEED_050406_1585_050472_1585_A01.jpg',\n 'DTEED_050511_1555_050366_1555_A01.jpg',\n 'DTEED_050680_1325_059489_1325_G01.jpg',\n 'DTEED_052217_2135_045756_2135_A01.jpg',\n 'DTEED_052284_2025_059959_2025_A01.jpg',\n 'DTEED_052514_1825_052725_1825_A01.jpg',\n 'DTEED_052731_2115_052085_2115_A01.jpg',\n 'DTEED_052797_2115_053074_2115_A01.jpg',\n 'DTEED_052863_2125_045334_2125_A01.jpg',\n 'DTEED_053736_2180_053670_2180_A01.jpg',\n 'DTEED_053958_1835_053668_1835_A01.jpg',\n 'DTEED_054086_2330_054007_2330_A01.jpg',\n 'DTEED_054160_1775_053870_1775_A01.jpg',\n 'DTEED_055646_1465_055501_1465_A01.jpg',\n 'DTEED_060094_2050_059738_2050_A01.jpg',\n 'DTEED_060116_2120_050806_2120_A01.jpg',\n 'DTEED_061610_1895_061887_1895_A01.jpg',\n 'DTEED_062963_1760_062172_1760_A01.jpg',\n 'DTEED_063209_1800_063420_1800_A01.jpg',\n 'DTEED_063264_1895_055589_1895_A01.jpg',\n 'DTEED_064066_1800_037508_1800_A01.jpg',\n 'DTEED_064226_1895_046899_1895_A01.jpg',\n 'DTEED_064645_1760_065410_1760_A01.jpg',\n 'DTEED_065766_1755_066452_1755_A01.jpg',\n 'DTEED_065937_1400_065515_1400_G01.jpg',\n 'DTEED_066152_1520_039370_1520_A01.jpg',\n 'DTEED_067470_1955_066784_1955_A01.jpg',\n 'DTEED_068034_2005_067150_2005_G01.jpg',\n 'DTEED_070127_2120_069837_2120_A01.jpg',\n 'DTEED_070298_2145_070865_2145_A01.jpg',\n 'DTEED_071986_2125_071551_2125_A01.jpg',\n 'DTEED_072263_2280_071841_2280_A01.jpg',\n 'DTEED_072690_1925_064631_1925_A01.jpg',\n 'DTEED_073107_1380_073595_1380_G01.jpg',\n 'DTEED_074422_1405_074844_1405_A01.jpg',\n 'DTEED_074741_1775_074807_1775_A01.jpg',\n 'DTEED_074747_1470_074457_1470_A01.jpg',\n 'DTEED_074946_1585_075157_1585_A01.jpg',\n 'DTEED_075791_1870_075435_1870_A01.jpg',\n 'DTEED_075923_2040_075422_2040_A01.jpg',\n 'DTEED_076617_1360_076261_1360_A01.jpg',\n 'DTEED_076880_1220_076524_1220_A01.jpg',\n 'DTEED_076988_1165_076909_1165_A01.jpg',\n 'DTEED_077026_1390_077435_1390_A01.jpg',\n 'DTEED_077488_2205_016287_2205_A01.jpg',\n 'DTEED_078778_1515_061884_1515_A01.jpg',\n 'DTEPC_001342_2680_001568_2680_A01.jpg',\n 'DTEPC_001390_2660_001563_2660_U01.jpg',\n 'DTEPC_001406_2680_001922_2680_U01.jpg',\n 'DTEPC_001462_2630_001580_2630_U01.jpg',\n 'DTEPC_001472_2785_001710_2785_U01.jpg',\n 'DTEPC_001652_2640_001640_2640_A01.jpg',\n 'DTEPC_001738_2670_001871_2670_U01.jpg',\n 'DTEPC_001919_2470_001932_2470_U01.jpg',\n 'DTEPC_001945_2515_002077_2515_U01.jpg',\n 'DTEPC_001959_2485_002091_2485_U01.jpg',\n 'DTEPC_003308_0945_003309_0945_U01.jpg',\n 'DTEPC_003868_0940_003896_0940_A01.jpg',\n 'DTEPC_004736_0950_005119_0950_A01.jpg',\n 'DTEPC_005102_1030_005155_1030_A01.jpg',\n 'DTEPC_005682_1035_005458_1035_A01.jpg',\n 'DTEPC_008143_2480_008301_2480_U01.jpg',\n 'DTEPC_008591_2485_008644_2485_U01.jpg',\n 'DTEPC_009175_2675_009374_2675_A01.jpg',\n 'DTEPC_009352_2680_009618_2680_A01.jpg',\n 'DTEPC_009364_2505_018766_2505_A01.jpg',\n 'DTEPC_009400_2685_009359_2715_A01.jpg',\n 'DTEPC_009404_2635_010221_2635_A01.jpg',\n 'DTEPC_009689_2645_010084_2645_A01.jpg',\n 'DTEPC_009913_2635_010019_2635_A01.jpg',\n 'DTEPC_009980_2660_009967_2660_A01.jpg',\n 'DTEPC_010008_2630_009969_2630_A01.jpg',\n 'DTEPC_010030_2670_010532_2670_A01.jpg',\n 'DTEPC_010198_2645_010014_2645_A01.jpg',\n 'DTEPC_013097_1115_013585_1115_U01.jpg',\n 'DTEPC_013619_0990_013672_0990_A01.jpg',\n 'DTEPC_013647_0975_013832_0975_A01.jpg',\n 'DTEPC_013990_0930_014123_0930_A01.jpg',\n 'DTEPC_014281_0980_014255_0980_A01.jpg',\n 'DTEPC_018525_2565_018011_2565_U01.jpg',\n 'DTEPC_018870_2625_018910_2625_A01.jpg',\n 'DTEPC_018938_2520_018925_2520_U01.jpg',\n 'DTEPC_019047_2640_019298_2640_A01.jpg',\n 'DTEPC_019210_2665_019158_2665_A01.jpg',\n 'DTEPC_022259_0935_022339_0935_A01.jpg',\n 'DTEPC_022467_0985_022586_0985_A01.jpg',\n 'DTEPC_022699_0985_022607_0985_A01.jpg',\n 'DTEPC_022756_1095_022822_1095_A01.jpg',\n 'DTEPC_023349_1120_023270_1120_A01.jpg',\n 'DTEPC_023616_1005_024025_1005_A01.jpg',\n 'DTEPC_025901_2460_026455_2460_A01.jpg',\n 'DTEPC_026404_2565_026457_2565_A01.jpg',\n 'DTEPC_026839_2550_027248_2550_U01.jpg',\n 'DTEPC_027034_2680_027246_2680_A01.jpg',\n 'DTEPC_027461_2580_027369_2580_A01.jpg',\n 'DTEPC_027496_2620_027470_2620_A01.jpg',\n 'DTEPC_027537_2640_027643_2640_A01.jpg',\n 'DTEPC_027738_2590_027026_2590_A01.jpg',\n 'DTEPC_027739_2615_027713_2615_A01.jpg',\n 'DTEPC_027746_2650_027628_2650_A01.jpg',\n 'DTEPC_027860_2525_027768_2525_G01.jpg',\n 'DTEPC_029475_1105_029396_1105_G01.jpg',\n 'DTEPC_030846_1085_021879_1085_G01.jpg',\n 'DTEPC_031078_1080_030854_1080_G01.jpg',\n 'DTEPC_035588_2565_035641_2565_A01.jpg',\n 'DTEPC_035628_2660_035919_2660_A01.jpg',\n 'DTEPC_035652_2660_035943_2660_A01.jpg',\n 'DTEPC_035869_2660_035949_2660_A01.jpg',\n 'DTEPC_035909_2650_035567_2650_A01.jpg',\n 'DTEPC_036013_2660_035605_2660_A01.jpg',\n 'DTEPC_036099_2615_036073_2615_A01.jpg',\n 'DTEPC_036132_2665_035777_2665_A01.jpg',\n 'DTEPC_036176_2640_035926_2640_A01.jpg',\n 'DTEPC_036330_2650_036634_2650_A01.jpg',\n 'DTEPC_036506_2640_036546_2640_A01.jpg',\n 'DTEPC_041121_0985_041029_0985_A01.jpg',\n 'DTEPC_044810_2620_044784_2620_A01.jpg',\n 'DTEPC_044862_2635_045034_2635_A01.jpg',\n 'DTEPC_044872_2655_044728_2655_A01.jpg',\n 'DTEPC_045318_2680_045346_2680_A01.jpg',\n 'DTEPC_045439_2505_045887_2505_A01.jpg',\n 'DTEPC_045474_2730_045618_2730_U01.jpg',\n 'DTEPC_045485_2660_045407_2660_U01.jpg',\n 'DTEPC_045885_2685_045754_2685_A01.jpg',\n 'DTEPC_049274_0920_049368_0920_A01.jpg',\n 'DTEPC_052594_2485_052370_2485_A01.jpg',\n 'DTEPC_053454_2670_053429_2670_A01.jpg',\n 'DTEPC_053805_2610_053845_2610_A01.jpg',\n 'DTEPC_053825_2505_053812_2505_A01.jpg',\n 'DTEPC_054067_2630_054107_2630_A01.jpg',\n 'DTEPC_057377_1115_057087_1115_G01.jpg',\n 'DTEPC_057439_1075_057241_1075_A01.jpg',\n 'DTEPC_057716_1080_057848_1080_A01.jpg',\n 'DTEPC_057851_0985_057970_0985_A01.jpg',\n 'DTEPC_058362_1070_057650_1070_A01.jpg',\n 'DTEPC_062652_2630_062547_2630_A01.jpg',\n 'DTEPC_062660_2620_062344_2620_A01.jpg',\n 'DTEPC_067143_0920_066960_0920_A01.jpg',\n 'DTEPC_067539_0980_067513_0980_A01.jpg',\n 'DTEPC_071577_2560_071630_2560_A01.jpg',\n 'DTEPC_074985_1030_074972_1030_A01.jpg',\n 'DTEPC_075570_0990_075412_0990_A01.jpg',\n 'DTEPD_002758_0945_002759_0855_A01.jpg',\n 'DTEPD_003406_0935_003341_0935_A01.jpg',\n 'DTEPD_009584_2675_009757_2675_A01.jpg',\n 'DTEPD_013145_1070_013277_1070_A01.jpg',\n 'DTEPD_014027_0940_013830_0940_A01.jpg',\n 'DTEPD_014360_0985_022694_0985_A01.jpg',\n 'DTEPD_018380_2680_018605_2680_A01.jpg',\n 'DTEPD_022983_0980_023102_0980_A01.jpg',\n 'DTEPD_023456_0990_041100_0990_A01.jpg',\n 'DTEPD_024010_1080_006262_1080_A01.jpg',\n 'DTEPD_031213_0980_031266_0980_A01.jpg',\n 'DTEPD_031827_0940_031775_0940_A01.jpg',\n 'DTEPD_031959_0960_031788_0960_A01.jpg',\n 'DTEPD_032053_0920_032276_0920_A01.jpg',\n ...]"
     },
     "execution_count": 44,
     "metadata": {},
     "output_type": "execute_result"
    }
   ],
   "source": [
    "# import os\n",
    "# \n",
    "# # 定义目录路径\n",
    "# directory_path = \"./data/JPG1\"\n",
    "# \n",
    "# # 获取目录中的所有文件\n",
    "# file_list = os.listdir(directory_path)\n",
    "# file_list"
   ],
   "metadata": {
    "collapsed": false,
    "ExecuteTime": {
     "end_time": "2023-10-26T12:14:49.042487800Z",
     "start_time": "2023-10-26T12:14:49.025483500Z"
    }
   },
   "id": "b120f1ac50e7ca4e"
  },
  {
   "cell_type": "code",
   "execution_count": 45,
   "outputs": [
    {
     "name": "stdout",
     "output_type": "stream",
     "text": [
      "文件重命名完成。\n"
     ]
    }
   ],
   "source": [
    "# # 遍历文件列表并重命名\n",
    "# for index, filename in enumerate(file_list):\n",
    "#     # 构造新的文件名，原文件名.jpg后缀替换为.ca.jpg\n",
    "#     new_filename = filename.replace(\".jpg\", \".ca.jpg\")\n",
    "#     \n",
    "#     # 构建完整的文件路径\n",
    "#     old_file_path = os.path.join(directory_path, filename)\n",
    "#     new_file_path = os.path.join(directory_path, new_filename)\n",
    "#     \n",
    "#     # 重命名文件\n",
    "#     os.rename(old_file_path, new_file_path)\n",
    "# \n",
    "# print(\"文件重命名完成。\")"
   ],
   "metadata": {
    "collapsed": false,
    "ExecuteTime": {
     "end_time": "2023-10-26T12:16:18.853278300Z",
     "start_time": "2023-10-26T12:16:18.170116400Z"
    }
   },
   "id": "18301c239f933e87"
  },
  {
   "cell_type": "code",
   "execution_count": null,
   "outputs": [],
   "source": [],
   "metadata": {
    "collapsed": false
   },
   "id": "1a1646f433216772"
  }
 ],
 "metadata": {
  "kernelspec": {
   "display_name": "Python 3",
   "language": "python",
   "name": "python3"
  },
  "language_info": {
   "codemirror_mode": {
    "name": "ipython",
    "version": 2
   },
   "file_extension": ".py",
   "mimetype": "text/x-python",
   "name": "python",
   "nbconvert_exporter": "python",
   "pygments_lexer": "ipython2",
   "version": "2.7.6"
  }
 },
 "nbformat": 4,
 "nbformat_minor": 5
}
