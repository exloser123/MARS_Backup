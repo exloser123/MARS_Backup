{
 "cells": [
  {
   "cell_type": "code",
   "execution_count": 2,
   "id": "initial_id",
   "metadata": {
    "collapsed": true,
    "ExecuteTime": {
     "end_time": "2023-10-28T16:58:15.736554800Z",
     "start_time": "2023-10-28T16:58:15.128888700Z"
    }
   },
   "outputs": [],
   "source": [
    "from osgeo import ogr, osr\n",
    "import numpy as np\n",
    "from tqdm import tqdm\n",
    "import time\n",
    "import os\n",
    "from method.mola.mola import get_projection\n",
    "import threading\n",
    "from pathlib import Path\n",
    "\n",
    "\n",
    "grid_unit_path = os.path.join(\"data\", \"global_units_grid.npy\")\n",
    "\n",
    "grid_unit = np.load(grid_unit_path, allow_pickle=True)\n",
    "interval = 0.1 # 0.1度\n",
    "# 范围-180~180，-90~90"
   ]
  },
  {
   "cell_type": "code",
   "execution_count": 3,
   "outputs": [],
   "source": [
    "def get_units(lon,lat):\n",
    "    lon_lat_shape = lon.shape\n",
    "    # 展成一维\n",
    "    lon = lon.reshape(-1)\n",
    "    lat = lat.reshape(-1)\n",
    "    # 四舍五入到0.1度\n",
    "    lon = np.round(lon/interval)*interval\n",
    "    lat = np.round(lat/interval)*interval\n",
    "    # 转成整数索引\n",
    "    lon_index = np.int32((lon+180)/interval)\n",
    "    lat_index = np.int32((lat+90)/interval)\n",
    "    # 从grid_unit中取出对应的单元格\n",
    "    units = grid_unit[lon_index, lat_index]\n",
    "    # 转成原始形状\n",
    "    units = units.reshape(lon_lat_shape)\n",
    "    return units"
   ],
   "metadata": {
    "collapsed": false,
    "ExecuteTime": {
     "end_time": "2023-10-28T17:01:41.346932400Z",
     "start_time": "2023-10-28T17:01:41.330291600Z"
    }
   },
   "id": "370476c297cac565"
  },
  {
   "cell_type": "code",
   "execution_count": 7,
   "outputs": [],
   "source": [
    "# 初始化一组经纬度\n",
    "lons = np.arange(-180,-170,0.1)\n",
    "lats = np.arange(5,-5,-0.1)\n",
    "# 获取单元格\n",
    "unit = get_units(lons,lats)"
   ],
   "metadata": {
    "collapsed": false,
    "ExecuteTime": {
     "end_time": "2023-10-28T17:03:51.021159600Z",
     "start_time": "2023-10-28T17:03:51.010155600Z"
    }
   },
   "id": "4490b432753916b5"
  },
  {
   "cell_type": "code",
   "execution_count": 8,
   "outputs": [
    {
     "data": {
      "text/plain": "array(['lApc', 'lApc', 'lApc', 'lApc', 'lApc', 'lApc', 'lApc', 'lApc',\n       'lApc', 'lApc', 'lApc', 'lApc', 'lApc', 'lApc', 'lApc', 'lApc',\n       'lApc', 'lApc', 'lApc', 'lApc', 'lApc', 'lApc', 'lApc', 'lApc',\n       'lApc', 'lApc', 'lApc', 'lApc', 'lApc', 'lApc', 'lApc', 'lApc',\n       'lApc', 'lApc', 'lApc', 'lApc', 'lApc', 'lApc', 'lApc', 'lApc',\n       'lApc', 'lApc', 'lApc', 'lApc', 'lApc', 'lApc', 'lApc', 'lApc',\n       'lApc', 'lApc', 'lApc', 'lApc', 'lApc', 'lApc', 'lApc', 'lApc',\n       'lApc', 'lApc', 'lApc', 'lApc', 'lApc', 'lApc', 'Apu', 'Apu',\n       'Apu', 'Apu', 'Apu', 'Apu', 'Apu', 'Apu', 'Apu', 'Apu', 'Apu',\n       'Apu', 'Apu', 'Apu', 'Apu', 'Apu', 'Apu', 'Apu', 'Apu', 'Apu',\n       'Apu', 'Apu', 'Apu', 'Apu', 'Apu', 'Apu', 'mAl', 'mAl', 'mAl',\n       'mAl', 'mAl', 'mAl', 'mAl', 'mAl', 'mAl', 'mAl', 'mAl', 'mAl'],\n      dtype=object)"
     },
     "execution_count": 8,
     "metadata": {},
     "output_type": "execute_result"
    }
   ],
   "source": [
    "unit"
   ],
   "metadata": {
    "collapsed": false,
    "ExecuteTime": {
     "end_time": "2023-10-28T17:03:53.951600600Z",
     "start_time": "2023-10-28T17:03:53.933120100Z"
    }
   },
   "id": "aca9e799af448268"
  },
  {
   "cell_type": "code",
   "execution_count": null,
   "outputs": [],
   "source": [],
   "metadata": {
    "collapsed": false
   },
   "id": "17a3d54b877b77cd"
  }
 ],
 "metadata": {
  "kernelspec": {
   "display_name": "Python 3",
   "language": "python",
   "name": "python3"
  },
  "language_info": {
   "codemirror_mode": {
    "name": "ipython",
    "version": 2
   },
   "file_extension": ".py",
   "mimetype": "text/x-python",
   "name": "python",
   "nbconvert_exporter": "python",
   "pygments_lexer": "ipython2",
   "version": "2.7.6"
  }
 },
 "nbformat": 4,
 "nbformat_minor": 5
}
