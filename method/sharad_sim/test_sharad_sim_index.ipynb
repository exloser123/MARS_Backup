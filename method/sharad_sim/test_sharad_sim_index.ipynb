{
 "cells": [
  {
   "cell_type": "code",
   "execution_count": 1,
   "id": "initial_id",
   "metadata": {
    "collapsed": true,
    "ExecuteTime": {
     "end_time": "2023-10-29T08:54:32.740821700Z",
     "start_time": "2023-10-29T08:54:32.636798100Z"
    }
   },
   "outputs": [],
   "source": [
    "import requests\n",
    "\n",
    "RDR_index_lbl_url = \"https://pds-geosciences.wustl.edu/mro/mro-m-sharad-5-radargram-v2/mrosh_2101/index/index.lbl\"\n",
    "RDR_index_tab_url = \"https://pds-geosciences.wustl.edu/mro/mro-m-sharad-5-radargram-v2/mrosh_2101/index/index.tab\"\n",
    "index_lbl_save_path = \"data/RDR/index.lbl\"\n",
    "index_tab_save_path = \"data/RDR/index.tab\""
   ]
  },
  {
   "cell_type": "code",
   "execution_count": 2,
   "outputs": [],
   "source": [
    "# Download the index files\n",
    "# r = requests.get(RDR_index_lbl_url)\n",
    "# with open(index_lbl_save_path, 'wb') as f:\n",
    "#     f.write(r.content)"
   ],
   "metadata": {
    "collapsed": false,
    "ExecuteTime": {
     "end_time": "2023-10-29T08:54:32.748824Z",
     "start_time": "2023-10-29T08:54:32.741821300Z"
    }
   },
   "id": "4d963a0c9365f25a"
  },
  {
   "cell_type": "code",
   "execution_count": 3,
   "outputs": [],
   "source": [
    "# r = requests.get(RDR_index_tab_url)\n",
    "# with open(index_tab_save_path, 'wb') as f:\n",
    "#     f.write(r.content)"
   ],
   "metadata": {
    "collapsed": false,
    "ExecuteTime": {
     "end_time": "2023-10-29T08:54:32.749823500Z",
     "start_time": "2023-10-29T08:54:32.744822500Z"
    }
   },
   "id": "8f3cab9adeffa25"
  },
  {
   "cell_type": "code",
   "execution_count": 4,
   "outputs": [
    {
     "data": {
      "text/plain": "pdr.Data(E:\\PycharmProjects\\mars_sim_web\\method\\sharad_sim\\data\\RDR\\index.lbl)\nkeys=['LABEL', 'INDEX_TABLE']\nnot yet loaded: ('LABEL', 'INDEX_TABLE')"
     },
     "execution_count": 4,
     "metadata": {},
     "output_type": "execute_result"
    }
   ],
   "source": [
    "import pdr\n",
    "import pandas as pd\n",
    "import numpy as np\n",
    "\n",
    "rdr_index = pdr.read(index_lbl_save_path)\n",
    "rdr_index"
   ],
   "metadata": {
    "collapsed": false,
    "ExecuteTime": {
     "end_time": "2023-10-29T08:54:33.347959Z",
     "start_time": "2023-10-29T08:54:32.748824Z"
    }
   },
   "id": "626a57e07fe9a384"
  },
  {
   "cell_type": "code",
   "execution_count": 5,
   "outputs": [
    {
     "data": {
      "text/plain": "'PDS_VERSION_ID             = PDS3\\r\\nRECORD_TYPE                = FIXED_LENGTH\\r\\nRECORD_BYTES               = 197\\r\\nFILE_RECORDS               = 65382\\r\\n^INDEX_TABLE               = \"INDEX.TAB\"\\r\\nVOLUME_ID                  = \"MROSH_2101\"\\r\\nDATA_SET_ID                = \"MRO-M-SHARAD-5-RADARGRAM-V2.0\"\\r\\nINSTRUMENT_HOST_NAME       = \"MARS RECONNAISSANCE ORBITER\"\\r\\nINSTRUMENT_NAME            = \"SHALLOW RADAR\"\\r\\n\\r\\nOBJECT                     = INDEX_TABLE\\r\\n  INTERCHANGE_FORMAT       = ASCII\\r\\n  ROW_BYTES                = 197  \\r\\n  ROWS                     = 65382\\r\\n  COLUMNS                  = 12\\r\\n  INDEX_TYPE               = SINGLE\\r\\n\\r\\n  OBJECT                   = COLUMN\\r\\n    COLUMN_NUMBER          = 1\\r\\n    NAME                   = VOLUME_ID\\r\\n    DATA_TYPE              = CHARACTER\\r\\n    START_BYTE             = 2\\r\\n    BYTES                  = 10\\r\\n    DESCRIPTION            = \"Unique CHARACTER for a data volume.\" \\r\\n  END_OBJECT               = COLUMN\\r\\n  \\r\\n  OBJECT                   = COLUMN\\r\\n    COLUMN_NUMBER          = 2\\r\\n    NAME                   = FILE_SPECIFICATION_NAME\\r\\n    DATA_TYPE              = CHARACTER\\r\\n    START_BYTE             = 15\\r\\n    BYTES                  = 40\\r\\n    DESCRIPTION            = \"The full name of a file, including a path name,\\r\\n                              relative to a PDS volume.  It excludes node or\\r\\n                              volume location.\" \\r\\n  END_OBJECT               = COLUMN\\r\\n\\r\\n  OBJECT                   = COLUMN\\r\\n    COLUMN_NUMBER          = 3\\r\\n    NAME                   = PRODUCT_ID\\r\\n    DATA_TYPE              = CHARACTER\\r\\n    START_BYTE             = 58\\r\\n    BYTES                  = 16\\r\\n    DESCRIPTION            = \"A permanent, unique CHARACTER assigned to a\\r\\n                              data product by its producer.\"\\r\\n  END_OBJECT               = COLUMN\\r\\n  \\r\\n  OBJECT                   = COLUMN\\r\\n    COLUMN_NUMBER          = 4\\r\\n    NAME                   = PRODUCT_VERSION_ID\\r\\n    DATA_TYPE              = CHARACTER\\r\\n    START_BYTE             = 77\\r\\n    BYTES                  = 3\\r\\n    DESCRIPTION            = \"Product version.\"\\r\\n  END_OBJECT               = COLUMN\\r\\n\\r\\n OBJECT                   = COLUMN\\r\\n    COLUMN_NUMBER          = 5\\r\\n    NAME                   = PRODUCT_CREATION_TIME\\r\\n    DATA_TYPE              = TIME\\r\\n    START_BYTE             = 82\\r\\n    BYTES                  = 19\\r\\n    DESCRIPTION            = \"Date and time at which data product file was \\r\\n                              created, in PDS date-time format (i.e. YYYY-\\r\\n                              DDDThh:mm:ss.mmm).\"\\r\\n  END_OBJECT               = COLUMN\\r\\n  \\r\\n  OBJECT                   = COLUMN\\r\\n    COLUMN_NUMBER          = 6\\r\\n    NAME                   = ORBIT_NUMBER\\r\\n    DATA_TYPE              = ASCII_INTEGER\\r\\n    START_BYTE             = 102\\r\\n    BYTES                  = 6\\r\\n    DESCRIPTION            = \"Number of the orbital revolution of the space-\\r\\n                              craft around Mars.\"\\r\\n  END_OBJECT               = COLUMN\\r\\n\\r\\n  OBJECT                   = COLUMN\\r\\n    COLUMN_NUMBER          = 7\\r\\n    NAME                   = START_TIME\\r\\n    DATA_TYPE              = TIME\\r\\n    START_BYTE             = 109\\r\\n    BYTES                  = 23\\r\\n    DESCRIPTION            = \"Date and time of the first sample \\r\\n                              in the Data Product in UTC.\"\\r\\n  END_OBJECT               = COLUMN\\r\\n    \\r\\n  OBJECT                   = COLUMN\\r\\n    COLUMN_NUMBER          = 8\\r\\n    NAME                   = STOP_TIME\\r\\n    DATA_TYPE              = TIME\\r\\n    START_BYTE             = 133\\r\\n    BYTES                  = 23\\r\\n    DESCRIPTION            = \"Date and time of the last sample \\r\\n                              in the Data Product in UTC.\"\\r\\n  END_OBJECT               = COLUMN\\r\\n\\r\\n  OBJECT                   = COLUMN\\r\\n    COLUMN_NUMBER          = 9\\r\\n    NAME                   = \"MRO:START_SUB_SPACECRAFT_LATITUDE\"\\r\\n    DATA_TYPE              = ASCII_REAL\\r\\n    START_BYTE             = 157\\r\\n    BYTES                  = 9\\r\\n    FORMAT                 = \"F9.6\"\\r\\n    DESCRIPTION            = \"Planetocentric latitude of the sub-spacecraft\\r\\n                              point at the first sample of the Data Product.\"\\r\\n  END_OBJECT               = COLUMN\\r\\n    \\r\\n  OBJECT                   = COLUMN\\r\\n    COLUMN_NUMBER          = 10\\r\\n    NAME                   = \"MRO:STOP_SUB_SPACECRAFT_LATITUDE\"\\r\\n    DATA_TYPE              = ASCII_REAL\\r\\n    START_BYTE             = 167\\r\\n    BYTES                  = 9\\r\\n    FORMAT                 = \"F9.6\"\\r\\n    DESCRIPTION            = \"Planetocentric latitude of the sub-spacecraft\\r\\n                              point at the last sample of the Data Product.\"\\r\\n  END_OBJECT               = COLUMN\\r\\n\\r\\n  OBJECT                   = COLUMN\\r\\n    COLUMN_NUMBER          = 11\\r\\n    NAME                   = \"MRO:START_SUB_SPACECRAFT_LONGITUDE\"\\r\\n    DATA_TYPE              = ASCII_REAL\\r\\n    START_BYTE             = 177\\r\\n    BYTES                  = 9\\r\\n    FORMAT                 = \"F9.5\"\\r\\n    DESCRIPTION            = \"Planetocentric east longitude of the sub-\\r\\n                              spacecraft point at the first\\r\\n                              sample of the Data Product.\"\\r\\n  END_OBJECT               = COLUMN\\r\\n  \\r\\n  OBJECT                   = COLUMN\\r\\n    COLUMN_NUMBER          = 12\\r\\n    NAME                   = \"MRO:STOP_SUB_SPACECRAFT_LONGITUDE\"\\r\\n    DATA_TYPE              = ASCII_REAL\\r\\n    START_BYTE             = 187\\r\\n    BYTES                  = 9\\r\\n    FORMAT                 = \"F9.5\"\\r\\n    DESCRIPTION            = \"Planetocentric east longitude of the sub-\\r\\n                              spacecraft point at the last\\r\\n                              sample of the Data Product.\" \\r\\n  END_OBJECT               = COLUMN\\r\\n\\r\\nEND_OBJECT                 = INDEX_TABLE\\r\\n\\r\\nEND\\r'"
     },
     "execution_count": 5,
     "metadata": {},
     "output_type": "execute_result"
    }
   ],
   "source": [
    "rdr_index[\"LABEL\"]"
   ],
   "metadata": {
    "collapsed": false,
    "ExecuteTime": {
     "end_time": "2023-10-29T08:54:33.360961300Z",
     "start_time": "2023-10-29T08:54:33.344957900Z"
    }
   },
   "id": "a0fdbf5fa0d8d191"
  },
  {
   "cell_type": "code",
   "execution_count": 6,
   "outputs": [
    {
     "data": {
      "text/plain": "Metadata({\n PDS_VERSION_ID: PDS3,\n RECORD_TYPE: FIXED_LENGTH,\n RECORD_BYTES: 197,\n FILE_RECORDS: 65382,\n ^INDEX_TABLE: \"INDEX.TAB\",\n VOLUME_ID: \"MROSH_2101\",\n DATA_SET_ID: \"MRO-M-SHARAD-5-RADARGRAM-V2.0\",\n INSTRUMENT_HOST_NAME: \"MARS RECONNAISSANCE ORBITER\",\n INSTRUMENT_NAME: \"SHALLOW RADAR\",\n INDEX_TABLE: {\n    INTERCHANGE_FORMAT: ASCII,\n    ROW_BYTES: 197,\n    ROWS: 65382,\n    COLUMNS: 12,\n    INDEX_TYPE: SINGLE,\n    COLUMN: {\n       COLUMN_NUMBER: 1,\n       NAME: VOLUME_ID,\n       DATA_TYPE: CHARACTER,\n       START_BYTE: 2,\n       BYTES: 10,\n       DESCRIPTION: \"Unique CHARACTER for a data volume.\",\n      },\n    COLUMN: {\n       COLUMN_NUMBER: 2,\n       NAME: FILE_SPECIFICATION_NAME,\n       DATA_TYPE: CHARACTER,\n       START_BYTE: 15,\n       BYTES: 40,\n       DESCRIPTION: \"The full name of a file, including a path name,relative to a\n        PDS volume.  It excludes node or volume location.\",\n      },\n    COLUMN: {\n       COLUMN_NUMBER: 3,\n       NAME: PRODUCT_ID,\n       DATA_TYPE: CHARACTER,\n       START_BYTE: 58,\n       BYTES: 16,\n       DESCRIPTION: \"A permanent, unique CHARACTER assigned to adata product by its\n        producer.\",\n      },\n    COLUMN: {\n       COLUMN_NUMBER: 4,\n       NAME: PRODUCT_VERSION_ID,\n       DATA_TYPE: CHARACTER,\n       START_BYTE: 77,\n       BYTES: 3,\n       DESCRIPTION: \"Product version.\",\n      },\n    COLUMN: {\n       COLUMN_NUMBER: 5,\n       NAME: PRODUCT_CREATION_TIME,\n       DATA_TYPE: TIME,\n       START_BYTE: 82,\n       BYTES: 19,\n       DESCRIPTION: \"Date and time at which data product file wascreated, in PDS\n        date-time format (i.e. YYYY- DDDThh:mm:ss.mmm).\",\n      },\n    COLUMN: {\n       COLUMN_NUMBER: 6,\n       NAME: ORBIT_NUMBER,\n       DATA_TYPE: ASCII_INTEGER,\n       START_BYTE: 102,\n       BYTES: 6,\n       DESCRIPTION: \"Number of the orbital revolution of the space-craft around Mars.\",\n      },\n    COLUMN: {\n       COLUMN_NUMBER: 7,\n       NAME: START_TIME,\n       DATA_TYPE: TIME,\n       START_BYTE: 109,\n       BYTES: 23,\n       DESCRIPTION: \"Date and time of the first samplein the Data Product in UTC.\",\n      },\n    COLUMN: {\n       COLUMN_NUMBER: 8,\n       NAME: STOP_TIME,\n       DATA_TYPE: TIME,\n       START_BYTE: 133,\n       BYTES: 23,\n       DESCRIPTION: \"Date and time of the last samplein the Data Product in UTC.\",\n      },\n    COLUMN: {\n       COLUMN_NUMBER: 9,\n       NAME: \"MRO:START_SUB_SPACECRAFT_LATITUDE\",\n       DATA_TYPE: ASCII_REAL,\n       START_BYTE: 157,\n       BYTES: 9,\n       FORMAT: \"F9.6\",\n       DESCRIPTION: \"Planetocentric latitude of the sub-spacecraftpoint at the\n        first sample of the Data Product.\",\n      },\n    COLUMN: {\n       COLUMN_NUMBER: 10,\n       NAME: \"MRO:STOP_SUB_SPACECRAFT_LATITUDE\",\n       DATA_TYPE: ASCII_REAL,\n       START_BYTE: 167,\n       BYTES: 9,\n       FORMAT: \"F9.6\",\n       DESCRIPTION: \"Planetocentric latitude of the sub-spacecraftpoint at the last\n        sample of the Data Product.\",\n      },\n    COLUMN: {\n       COLUMN_NUMBER: 11,\n       NAME: \"MRO:START_SUB_SPACECRAFT_LONGITUDE\",\n       DATA_TYPE: ASCII_REAL,\n       START_BYTE: 177,\n       BYTES: 9,\n       FORMAT: \"F9.5\",\n       DESCRIPTION: \"Planetocentric east longitude of the sub-spacecraft point at\n        the first sample of the Data Product.\",\n      },\n    COLUMN: {\n       COLUMN_NUMBER: 12,\n       NAME: \"MRO:STOP_SUB_SPACECRAFT_LONGITUDE\",\n       DATA_TYPE: ASCII_REAL,\n       START_BYTE: 187,\n       BYTES: 9,\n       FORMAT: \"F9.5\",\n       DESCRIPTION: \"Planetocentric east longitude of the sub-spacecraft point at\n        the last sample of the Data Product.\",\n      },\n   },\n})"
     },
     "execution_count": 6,
     "metadata": {},
     "output_type": "execute_result"
    }
   ],
   "source": [
    "rdr_index.metadata"
   ],
   "metadata": {
    "collapsed": false,
    "ExecuteTime": {
     "end_time": "2023-10-29T08:54:33.362962Z",
     "start_time": "2023-10-29T08:54:33.355960100Z"
    }
   },
   "id": "55c9a1ebe6c88fe5"
  },
  {
   "cell_type": "code",
   "execution_count": 7,
   "outputs": [],
   "source": [
    "index_tab = rdr_index[\"INDEX_TABLE\"]"
   ],
   "metadata": {
    "collapsed": false,
    "ExecuteTime": {
     "end_time": "2023-10-29T08:54:33.576537300Z",
     "start_time": "2023-10-29T08:54:33.362962Z"
    }
   },
   "id": "52f84c96e436778c"
  },
  {
   "cell_type": "code",
   "execution_count": 8,
   "outputs": [
    {
     "data": {
      "text/plain": "        VOLUME_ID                   FILE_SPECIFICATION_NAME        PRODUCT_ID  \\\n0      MROSH_2101  DATA/RGRAM/S_0016XX/S_00168901_RGRAM.LBL  S_00168901_RGRAM   \n1      MROSH_2101  DATA/GEOM/S_0016XX/S_00168901_GEOM.LBL    S_00168901_GEOM    \n2      MROSH_2101  DATA/RGRAM/S_0016XX/S_00168902_RGRAM.LBL  S_00168902_RGRAM   \n3      MROSH_2101  DATA/GEOM/S_0016XX/S_00168902_GEOM.LBL    S_00168902_GEOM    \n4      MROSH_2101  DATA/RGRAM/S_0016XX/S_00169001_RGRAM.LBL  S_00169001_RGRAM   \n...           ...                                       ...               ...   \n65377  MROSH_2101  DATA/GEOM/S_0775XX/S_07759401_GEOM.LBL    S_07759401_GEOM    \n65378  MROSH_2101  DATA/RGRAM/S_0775XX/S_07759701_RGRAM.LBL  S_07759701_RGRAM   \n65379  MROSH_2101  DATA/GEOM/S_0775XX/S_07759701_GEOM.LBL    S_07759701_GEOM    \n65380  MROSH_2101  DATA/RGRAM/S_0775XX/S_07759901_RGRAM.LBL  S_07759901_RGRAM   \n65381  MROSH_2101  DATA/GEOM/S_0775XX/S_07759901_GEOM.LBL    S_07759901_GEOM    \n\n       PRODUCT_VERSION_ID PRODUCT_CREATION_TIME  ORBIT_NUMBER  \\\n0                     1.0   2021-05-19T16:15:43          1689   \n1                     2.0   2021-05-19T16:15:43          1689   \n2                     1.0   2021-05-19T16:31:58          1689   \n3                     1.0   2021-05-19T16:31:58          1689   \n4                     1.0   2021-05-19T16:42:04          1690   \n...                   ...                   ...           ...   \n65377                 2.0   2023-09-01T10:20:36         77594   \n65378                 1.0   2023-09-01T10:43:44         77597   \n65379                 2.0   2023-09-01T10:43:44         77597   \n65380                 1.0   2023-09-01T11:16:07         77599   \n65381                 2.0   2023-09-01T11:16:07         77599   \n\n                    START_TIME                STOP_TIME  \\\n0      2006-12-06T02:08:22.929  2006-12-06T02:09:48.723   \n1      2006-12-06T02:08:22.929  2006-12-06T02:09:48.723   \n2      2006-12-06T02:18:01.928  2006-12-06T02:23:19.778   \n3      2006-12-06T02:18:01.928  2006-12-06T02:23:19.778   \n4      2006-12-06T02:51:42.478  2006-12-06T02:54:57.280   \n...                        ...                      ...   \n65377  2023-02-14T11:20:52.016  2023-02-14T11:21:36.707   \n65378  2023-02-14T16:54:41.064  2023-02-14T17:05:40.537   \n65379  2023-02-14T16:54:41.064  2023-02-14T17:05:40.537   \n65380  2023-02-14T19:36:25.656  2023-02-14T19:51:43.141   \n65381  2023-02-14T19:36:25.656  2023-02-14T19:51:43.141   \n\n       MRO:START_SUB_SPACECRAFT_LATITUDE  MRO:STOP_SUB_SPACECRAFT_LATITUDE  \\\n0                              64.239113                         59.864001   \n1                              64.239113                         59.864001   \n2                              33.739494                         16.945915   \n3                              33.739494                         16.945915   \n4                             -74.827200                        -84.810770   \n...                                  ...                               ...   \n65377                          40.369400                         38.010900   \n65378                          49.673500                         14.801100   \n65379                          49.673500                         14.801100   \n65380                         -69.484900                        -19.964900   \n65381                         -69.484900                        -19.964900   \n\n       MRO:START_SUB_SPACECRAFT_LONGITUDE  MRO:STOP_SUB_SPACECRAFT_LONGITUDE  \n0                               230.67676                          229.39072  \n1                               230.67676                          229.39072  \n2                               224.53175                          222.27309  \n3                               224.53175                          222.27309  \n4                               204.73080                          183.15657  \n...                                   ...                                ...  \n65377                           179.25300                          178.89300  \n65378                            99.00460                           93.85090  \n65379                            99.00460                           93.85090  \n65380                           243.75300                          233.72000  \n65381                           243.75300                          233.72000  \n\n[65382 rows x 12 columns]",
      "text/html": "<div>\n<style scoped>\n    .dataframe tbody tr th:only-of-type {\n        vertical-align: middle;\n    }\n\n    .dataframe tbody tr th {\n        vertical-align: top;\n    }\n\n    .dataframe thead th {\n        text-align: right;\n    }\n</style>\n<table border=\"1\" class=\"dataframe\">\n  <thead>\n    <tr style=\"text-align: right;\">\n      <th></th>\n      <th>VOLUME_ID</th>\n      <th>FILE_SPECIFICATION_NAME</th>\n      <th>PRODUCT_ID</th>\n      <th>PRODUCT_VERSION_ID</th>\n      <th>PRODUCT_CREATION_TIME</th>\n      <th>ORBIT_NUMBER</th>\n      <th>START_TIME</th>\n      <th>STOP_TIME</th>\n      <th>MRO:START_SUB_SPACECRAFT_LATITUDE</th>\n      <th>MRO:STOP_SUB_SPACECRAFT_LATITUDE</th>\n      <th>MRO:START_SUB_SPACECRAFT_LONGITUDE</th>\n      <th>MRO:STOP_SUB_SPACECRAFT_LONGITUDE</th>\n    </tr>\n  </thead>\n  <tbody>\n    <tr>\n      <th>0</th>\n      <td>MROSH_2101</td>\n      <td>DATA/RGRAM/S_0016XX/S_00168901_RGRAM.LBL</td>\n      <td>S_00168901_RGRAM</td>\n      <td>1.0</td>\n      <td>2021-05-19T16:15:43</td>\n      <td>1689</td>\n      <td>2006-12-06T02:08:22.929</td>\n      <td>2006-12-06T02:09:48.723</td>\n      <td>64.239113</td>\n      <td>59.864001</td>\n      <td>230.67676</td>\n      <td>229.39072</td>\n    </tr>\n    <tr>\n      <th>1</th>\n      <td>MROSH_2101</td>\n      <td>DATA/GEOM/S_0016XX/S_00168901_GEOM.LBL</td>\n      <td>S_00168901_GEOM</td>\n      <td>2.0</td>\n      <td>2021-05-19T16:15:43</td>\n      <td>1689</td>\n      <td>2006-12-06T02:08:22.929</td>\n      <td>2006-12-06T02:09:48.723</td>\n      <td>64.239113</td>\n      <td>59.864001</td>\n      <td>230.67676</td>\n      <td>229.39072</td>\n    </tr>\n    <tr>\n      <th>2</th>\n      <td>MROSH_2101</td>\n      <td>DATA/RGRAM/S_0016XX/S_00168902_RGRAM.LBL</td>\n      <td>S_00168902_RGRAM</td>\n      <td>1.0</td>\n      <td>2021-05-19T16:31:58</td>\n      <td>1689</td>\n      <td>2006-12-06T02:18:01.928</td>\n      <td>2006-12-06T02:23:19.778</td>\n      <td>33.739494</td>\n      <td>16.945915</td>\n      <td>224.53175</td>\n      <td>222.27309</td>\n    </tr>\n    <tr>\n      <th>3</th>\n      <td>MROSH_2101</td>\n      <td>DATA/GEOM/S_0016XX/S_00168902_GEOM.LBL</td>\n      <td>S_00168902_GEOM</td>\n      <td>1.0</td>\n      <td>2021-05-19T16:31:58</td>\n      <td>1689</td>\n      <td>2006-12-06T02:18:01.928</td>\n      <td>2006-12-06T02:23:19.778</td>\n      <td>33.739494</td>\n      <td>16.945915</td>\n      <td>224.53175</td>\n      <td>222.27309</td>\n    </tr>\n    <tr>\n      <th>4</th>\n      <td>MROSH_2101</td>\n      <td>DATA/RGRAM/S_0016XX/S_00169001_RGRAM.LBL</td>\n      <td>S_00169001_RGRAM</td>\n      <td>1.0</td>\n      <td>2021-05-19T16:42:04</td>\n      <td>1690</td>\n      <td>2006-12-06T02:51:42.478</td>\n      <td>2006-12-06T02:54:57.280</td>\n      <td>-74.827200</td>\n      <td>-84.810770</td>\n      <td>204.73080</td>\n      <td>183.15657</td>\n    </tr>\n    <tr>\n      <th>...</th>\n      <td>...</td>\n      <td>...</td>\n      <td>...</td>\n      <td>...</td>\n      <td>...</td>\n      <td>...</td>\n      <td>...</td>\n      <td>...</td>\n      <td>...</td>\n      <td>...</td>\n      <td>...</td>\n      <td>...</td>\n    </tr>\n    <tr>\n      <th>65377</th>\n      <td>MROSH_2101</td>\n      <td>DATA/GEOM/S_0775XX/S_07759401_GEOM.LBL</td>\n      <td>S_07759401_GEOM</td>\n      <td>2.0</td>\n      <td>2023-09-01T10:20:36</td>\n      <td>77594</td>\n      <td>2023-02-14T11:20:52.016</td>\n      <td>2023-02-14T11:21:36.707</td>\n      <td>40.369400</td>\n      <td>38.010900</td>\n      <td>179.25300</td>\n      <td>178.89300</td>\n    </tr>\n    <tr>\n      <th>65378</th>\n      <td>MROSH_2101</td>\n      <td>DATA/RGRAM/S_0775XX/S_07759701_RGRAM.LBL</td>\n      <td>S_07759701_RGRAM</td>\n      <td>1.0</td>\n      <td>2023-09-01T10:43:44</td>\n      <td>77597</td>\n      <td>2023-02-14T16:54:41.064</td>\n      <td>2023-02-14T17:05:40.537</td>\n      <td>49.673500</td>\n      <td>14.801100</td>\n      <td>99.00460</td>\n      <td>93.85090</td>\n    </tr>\n    <tr>\n      <th>65379</th>\n      <td>MROSH_2101</td>\n      <td>DATA/GEOM/S_0775XX/S_07759701_GEOM.LBL</td>\n      <td>S_07759701_GEOM</td>\n      <td>2.0</td>\n      <td>2023-09-01T10:43:44</td>\n      <td>77597</td>\n      <td>2023-02-14T16:54:41.064</td>\n      <td>2023-02-14T17:05:40.537</td>\n      <td>49.673500</td>\n      <td>14.801100</td>\n      <td>99.00460</td>\n      <td>93.85090</td>\n    </tr>\n    <tr>\n      <th>65380</th>\n      <td>MROSH_2101</td>\n      <td>DATA/RGRAM/S_0775XX/S_07759901_RGRAM.LBL</td>\n      <td>S_07759901_RGRAM</td>\n      <td>1.0</td>\n      <td>2023-09-01T11:16:07</td>\n      <td>77599</td>\n      <td>2023-02-14T19:36:25.656</td>\n      <td>2023-02-14T19:51:43.141</td>\n      <td>-69.484900</td>\n      <td>-19.964900</td>\n      <td>243.75300</td>\n      <td>233.72000</td>\n    </tr>\n    <tr>\n      <th>65381</th>\n      <td>MROSH_2101</td>\n      <td>DATA/GEOM/S_0775XX/S_07759901_GEOM.LBL</td>\n      <td>S_07759901_GEOM</td>\n      <td>2.0</td>\n      <td>2023-09-01T11:16:07</td>\n      <td>77599</td>\n      <td>2023-02-14T19:36:25.656</td>\n      <td>2023-02-14T19:51:43.141</td>\n      <td>-69.484900</td>\n      <td>-19.964900</td>\n      <td>243.75300</td>\n      <td>233.72000</td>\n    </tr>\n  </tbody>\n</table>\n<p>65382 rows × 12 columns</p>\n</div>"
     },
     "execution_count": 8,
     "metadata": {},
     "output_type": "execute_result"
    }
   ],
   "source": [
    "index_tab"
   ],
   "metadata": {
    "collapsed": false,
    "ExecuteTime": {
     "end_time": "2023-10-29T08:54:33.591540700Z",
     "start_time": "2023-10-29T08:54:33.575537500Z"
    }
   },
   "id": "677ace468da18b0c"
  },
  {
   "cell_type": "code",
   "execution_count": 9,
   "outputs": [
    {
     "data": {
      "text/plain": "['VOLUME_ID',\n 'FILE_SPECIFICATION_NAME',\n 'PRODUCT_ID',\n 'PRODUCT_VERSION_ID',\n 'PRODUCT_CREATION_TIME',\n 'ORBIT_NUMBER',\n 'START_TIME',\n 'STOP_TIME',\n 'MRO:START_SUB_SPACECRAFT_LATITUDE',\n 'MRO:STOP_SUB_SPACECRAFT_LATITUDE',\n 'MRO:START_SUB_SPACECRAFT_LONGITUDE',\n 'MRO:STOP_SUB_SPACECRAFT_LONGITUDE']"
     },
     "execution_count": 9,
     "metadata": {},
     "output_type": "execute_result"
    }
   ],
   "source": [
    "list(index_tab.columns)"
   ],
   "metadata": {
    "collapsed": false,
    "ExecuteTime": {
     "end_time": "2023-10-29T08:54:33.596541Z",
     "start_time": "2023-10-29T08:54:33.591540700Z"
    }
   },
   "id": "e99023e84d4b015b"
  },
  {
   "cell_type": "code",
   "execution_count": 10,
   "outputs": [
    {
     "data": {
      "text/plain": "        VOLUME_ID                   FILE_SPECIFICATION_NAME        PRODUCT_ID  \\\n0      MROSH_2101  DATA/RGRAM/S_0016XX/S_00168901_RGRAM.LBL  S_00168901_RGRAM   \n1      MROSH_2101  DATA/GEOM/S_0016XX/S_00168901_GEOM.LBL    S_00168901_GEOM    \n2      MROSH_2101  DATA/RGRAM/S_0016XX/S_00168902_RGRAM.LBL  S_00168902_RGRAM   \n3      MROSH_2101  DATA/GEOM/S_0016XX/S_00168902_GEOM.LBL    S_00168902_GEOM    \n4      MROSH_2101  DATA/RGRAM/S_0016XX/S_00169001_RGRAM.LBL  S_00169001_RGRAM   \n...           ...                                       ...               ...   \n65377  MROSH_2101  DATA/GEOM/S_0775XX/S_07759401_GEOM.LBL    S_07759401_GEOM    \n65378  MROSH_2101  DATA/RGRAM/S_0775XX/S_07759701_RGRAM.LBL  S_07759701_RGRAM   \n65379  MROSH_2101  DATA/GEOM/S_0775XX/S_07759701_GEOM.LBL    S_07759701_GEOM    \n65380  MROSH_2101  DATA/RGRAM/S_0775XX/S_07759901_RGRAM.LBL  S_07759901_RGRAM   \n65381  MROSH_2101  DATA/GEOM/S_0775XX/S_07759901_GEOM.LBL    S_07759901_GEOM    \n\n       PRODUCT_VERSION_ID PRODUCT_CREATION_TIME  ORBIT_NUMBER  \\\n0                     1.0   2021-05-19 16:15:43          1689   \n1                     2.0   2021-05-19 16:15:43          1689   \n2                     1.0   2021-05-19 16:31:58          1689   \n3                     1.0   2021-05-19 16:31:58          1689   \n4                     1.0   2021-05-19 16:42:04          1690   \n...                   ...                   ...           ...   \n65377                 2.0   2023-09-01 10:20:36         77594   \n65378                 1.0   2023-09-01 10:43:44         77597   \n65379                 2.0   2023-09-01 10:43:44         77597   \n65380                 1.0   2023-09-01 11:16:07         77599   \n65381                 2.0   2023-09-01 11:16:07         77599   \n\n               START_TIME           STOP_TIME  \\\n0     2006-12-06 02:08:22 2006-12-06 02:09:48   \n1     2006-12-06 02:08:22 2006-12-06 02:09:48   \n2     2006-12-06 02:18:01 2006-12-06 02:23:19   \n3     2006-12-06 02:18:01 2006-12-06 02:23:19   \n4     2006-12-06 02:51:42 2006-12-06 02:54:57   \n...                   ...                 ...   \n65377 2023-02-14 11:20:52 2023-02-14 11:21:36   \n65378 2023-02-14 16:54:41 2023-02-14 17:05:40   \n65379 2023-02-14 16:54:41 2023-02-14 17:05:40   \n65380 2023-02-14 19:36:25 2023-02-14 19:51:43   \n65381 2023-02-14 19:36:25 2023-02-14 19:51:43   \n\n       MRO:START_SUB_SPACECRAFT_LATITUDE  MRO:STOP_SUB_SPACECRAFT_LATITUDE  \\\n0                              64.239113                         59.864001   \n1                              64.239113                         59.864001   \n2                              33.739494                         16.945915   \n3                              33.739494                         16.945915   \n4                             -74.827200                        -84.810770   \n...                                  ...                               ...   \n65377                          40.369400                         38.010900   \n65378                          49.673500                         14.801100   \n65379                          49.673500                         14.801100   \n65380                         -69.484900                        -19.964900   \n65381                         -69.484900                        -19.964900   \n\n       MRO:START_SUB_SPACECRAFT_LONGITUDE  MRO:STOP_SUB_SPACECRAFT_LONGITUDE  \n0                               230.67676                          229.39072  \n1                               230.67676                          229.39072  \n2                               224.53175                          222.27309  \n3                               224.53175                          222.27309  \n4                               204.73080                          183.15657  \n...                                   ...                                ...  \n65377                           179.25300                          178.89300  \n65378                            99.00460                           93.85090  \n65379                            99.00460                           93.85090  \n65380                           243.75300                          233.72000  \n65381                           243.75300                          233.72000  \n\n[65382 rows x 12 columns]",
      "text/html": "<div>\n<style scoped>\n    .dataframe tbody tr th:only-of-type {\n        vertical-align: middle;\n    }\n\n    .dataframe tbody tr th {\n        vertical-align: top;\n    }\n\n    .dataframe thead th {\n        text-align: right;\n    }\n</style>\n<table border=\"1\" class=\"dataframe\">\n  <thead>\n    <tr style=\"text-align: right;\">\n      <th></th>\n      <th>VOLUME_ID</th>\n      <th>FILE_SPECIFICATION_NAME</th>\n      <th>PRODUCT_ID</th>\n      <th>PRODUCT_VERSION_ID</th>\n      <th>PRODUCT_CREATION_TIME</th>\n      <th>ORBIT_NUMBER</th>\n      <th>START_TIME</th>\n      <th>STOP_TIME</th>\n      <th>MRO:START_SUB_SPACECRAFT_LATITUDE</th>\n      <th>MRO:STOP_SUB_SPACECRAFT_LATITUDE</th>\n      <th>MRO:START_SUB_SPACECRAFT_LONGITUDE</th>\n      <th>MRO:STOP_SUB_SPACECRAFT_LONGITUDE</th>\n    </tr>\n  </thead>\n  <tbody>\n    <tr>\n      <th>0</th>\n      <td>MROSH_2101</td>\n      <td>DATA/RGRAM/S_0016XX/S_00168901_RGRAM.LBL</td>\n      <td>S_00168901_RGRAM</td>\n      <td>1.0</td>\n      <td>2021-05-19 16:15:43</td>\n      <td>1689</td>\n      <td>2006-12-06 02:08:22</td>\n      <td>2006-12-06 02:09:48</td>\n      <td>64.239113</td>\n      <td>59.864001</td>\n      <td>230.67676</td>\n      <td>229.39072</td>\n    </tr>\n    <tr>\n      <th>1</th>\n      <td>MROSH_2101</td>\n      <td>DATA/GEOM/S_0016XX/S_00168901_GEOM.LBL</td>\n      <td>S_00168901_GEOM</td>\n      <td>2.0</td>\n      <td>2021-05-19 16:15:43</td>\n      <td>1689</td>\n      <td>2006-12-06 02:08:22</td>\n      <td>2006-12-06 02:09:48</td>\n      <td>64.239113</td>\n      <td>59.864001</td>\n      <td>230.67676</td>\n      <td>229.39072</td>\n    </tr>\n    <tr>\n      <th>2</th>\n      <td>MROSH_2101</td>\n      <td>DATA/RGRAM/S_0016XX/S_00168902_RGRAM.LBL</td>\n      <td>S_00168902_RGRAM</td>\n      <td>1.0</td>\n      <td>2021-05-19 16:31:58</td>\n      <td>1689</td>\n      <td>2006-12-06 02:18:01</td>\n      <td>2006-12-06 02:23:19</td>\n      <td>33.739494</td>\n      <td>16.945915</td>\n      <td>224.53175</td>\n      <td>222.27309</td>\n    </tr>\n    <tr>\n      <th>3</th>\n      <td>MROSH_2101</td>\n      <td>DATA/GEOM/S_0016XX/S_00168902_GEOM.LBL</td>\n      <td>S_00168902_GEOM</td>\n      <td>1.0</td>\n      <td>2021-05-19 16:31:58</td>\n      <td>1689</td>\n      <td>2006-12-06 02:18:01</td>\n      <td>2006-12-06 02:23:19</td>\n      <td>33.739494</td>\n      <td>16.945915</td>\n      <td>224.53175</td>\n      <td>222.27309</td>\n    </tr>\n    <tr>\n      <th>4</th>\n      <td>MROSH_2101</td>\n      <td>DATA/RGRAM/S_0016XX/S_00169001_RGRAM.LBL</td>\n      <td>S_00169001_RGRAM</td>\n      <td>1.0</td>\n      <td>2021-05-19 16:42:04</td>\n      <td>1690</td>\n      <td>2006-12-06 02:51:42</td>\n      <td>2006-12-06 02:54:57</td>\n      <td>-74.827200</td>\n      <td>-84.810770</td>\n      <td>204.73080</td>\n      <td>183.15657</td>\n    </tr>\n    <tr>\n      <th>...</th>\n      <td>...</td>\n      <td>...</td>\n      <td>...</td>\n      <td>...</td>\n      <td>...</td>\n      <td>...</td>\n      <td>...</td>\n      <td>...</td>\n      <td>...</td>\n      <td>...</td>\n      <td>...</td>\n      <td>...</td>\n    </tr>\n    <tr>\n      <th>65377</th>\n      <td>MROSH_2101</td>\n      <td>DATA/GEOM/S_0775XX/S_07759401_GEOM.LBL</td>\n      <td>S_07759401_GEOM</td>\n      <td>2.0</td>\n      <td>2023-09-01 10:20:36</td>\n      <td>77594</td>\n      <td>2023-02-14 11:20:52</td>\n      <td>2023-02-14 11:21:36</td>\n      <td>40.369400</td>\n      <td>38.010900</td>\n      <td>179.25300</td>\n      <td>178.89300</td>\n    </tr>\n    <tr>\n      <th>65378</th>\n      <td>MROSH_2101</td>\n      <td>DATA/RGRAM/S_0775XX/S_07759701_RGRAM.LBL</td>\n      <td>S_07759701_RGRAM</td>\n      <td>1.0</td>\n      <td>2023-09-01 10:43:44</td>\n      <td>77597</td>\n      <td>2023-02-14 16:54:41</td>\n      <td>2023-02-14 17:05:40</td>\n      <td>49.673500</td>\n      <td>14.801100</td>\n      <td>99.00460</td>\n      <td>93.85090</td>\n    </tr>\n    <tr>\n      <th>65379</th>\n      <td>MROSH_2101</td>\n      <td>DATA/GEOM/S_0775XX/S_07759701_GEOM.LBL</td>\n      <td>S_07759701_GEOM</td>\n      <td>2.0</td>\n      <td>2023-09-01 10:43:44</td>\n      <td>77597</td>\n      <td>2023-02-14 16:54:41</td>\n      <td>2023-02-14 17:05:40</td>\n      <td>49.673500</td>\n      <td>14.801100</td>\n      <td>99.00460</td>\n      <td>93.85090</td>\n    </tr>\n    <tr>\n      <th>65380</th>\n      <td>MROSH_2101</td>\n      <td>DATA/RGRAM/S_0775XX/S_07759901_RGRAM.LBL</td>\n      <td>S_07759901_RGRAM</td>\n      <td>1.0</td>\n      <td>2023-09-01 11:16:07</td>\n      <td>77599</td>\n      <td>2023-02-14 19:36:25</td>\n      <td>2023-02-14 19:51:43</td>\n      <td>-69.484900</td>\n      <td>-19.964900</td>\n      <td>243.75300</td>\n      <td>233.72000</td>\n    </tr>\n    <tr>\n      <th>65381</th>\n      <td>MROSH_2101</td>\n      <td>DATA/GEOM/S_0775XX/S_07759901_GEOM.LBL</td>\n      <td>S_07759901_GEOM</td>\n      <td>2.0</td>\n      <td>2023-09-01 11:16:07</td>\n      <td>77599</td>\n      <td>2023-02-14 19:36:25</td>\n      <td>2023-02-14 19:51:43</td>\n      <td>-69.484900</td>\n      <td>-19.964900</td>\n      <td>243.75300</td>\n      <td>233.72000</td>\n    </tr>\n  </tbody>\n</table>\n<p>65382 rows × 12 columns</p>\n</div>"
     },
     "execution_count": 10,
     "metadata": {},
     "output_type": "execute_result"
    }
   ],
   "source": [
    "import datetime\n",
    "# 把这个格式的时间转换成datetime：2006-12-06T02:08:22.929\n",
    "def convert_time(time_str):\n",
    "    time_str = time_str.split(\".\")[0]\n",
    "    time_str = time_str.replace(\"T\", \" \")\n",
    "    return datetime.datetime.strptime(time_str, \"%Y-%m-%d %H:%M:%S\")\n",
    "# 应用于index_tab的START_TIME和STOP_TIME,PRODUCT_CREATION_TIME\n",
    "index_tab[\"START_TIME\"] = index_tab[\"START_TIME\"].apply(convert_time)\n",
    "index_tab[\"STOP_TIME\"] = index_tab[\"STOP_TIME\"].apply(convert_time)\n",
    "index_tab[\"PRODUCT_CREATION_TIME\"] = index_tab[\"PRODUCT_CREATION_TIME\"].apply(convert_time)\n",
    "index_tab"
   ],
   "metadata": {
    "collapsed": false,
    "ExecuteTime": {
     "end_time": "2023-10-29T08:54:35.208453900Z",
     "start_time": "2023-10-29T08:54:33.597542300Z"
    }
   },
   "id": "4953f1fadbafda7b"
  },
  {
   "cell_type": "code",
   "execution_count": 11,
   "outputs": [
    {
     "data": {
      "text/plain": "(array([], dtype=int64),)"
     },
     "execution_count": 11,
     "metadata": {},
     "output_type": "execute_result"
    }
   ],
   "source": [
    "# 对比奇数行和偶数行的PRODUCT_CREATION_TIME输出不一样的index，值是一个datetime\n",
    "temp = index_tab.iloc[::2][\"PRODUCT_CREATION_TIME\"].values != index_tab.iloc[1::2][\"PRODUCT_CREATION_TIME\"].values\n",
    "np.where(temp == True)"
   ],
   "metadata": {
    "collapsed": false,
    "ExecuteTime": {
     "end_time": "2023-10-29T08:54:35.215455700Z",
     "start_time": "2023-10-29T08:54:35.208453900Z"
    }
   },
   "id": "c57d40608a38d100"
  },
  {
   "cell_type": "code",
   "execution_count": 12,
   "outputs": [
    {
     "data": {
      "text/plain": "(array([], dtype=int64),)"
     },
     "execution_count": 12,
     "metadata": {},
     "output_type": "execute_result"
    }
   ],
   "source": [
    "# 对比奇数行和偶数行的ORBIT_NUMBER输出不一样的index，值是int64\n",
    "temp = index_tab.iloc[::2][\"ORBIT_NUMBER\"].values != index_tab.iloc[1::2][\"ORBIT_NUMBER\"].values\n",
    "np.where(temp == True)\n"
   ],
   "metadata": {
    "collapsed": false,
    "ExecuteTime": {
     "end_time": "2023-10-29T08:54:35.222457Z",
     "start_time": "2023-10-29T08:54:35.215455700Z"
    }
   },
   "id": "604988d63efbfb9f"
  },
  {
   "cell_type": "code",
   "execution_count": 13,
   "outputs": [
    {
     "data": {
      "text/plain": "(array([], dtype=int64),)"
     },
     "execution_count": 13,
     "metadata": {},
     "output_type": "execute_result"
    }
   ],
   "source": [
    "# 对比奇数行和偶数行的START_TIME输出不一样的index，值是一个datetime\n",
    "temp = index_tab.iloc[::2][\"START_TIME\"].values != index_tab.iloc[1::2][\"START_TIME\"].values\n",
    "np.where(temp == True)"
   ],
   "metadata": {
    "collapsed": false,
    "ExecuteTime": {
     "end_time": "2023-10-29T08:54:35.228458600Z",
     "start_time": "2023-10-29T08:54:35.222457Z"
    }
   },
   "id": "81948526696513ba"
  },
  {
   "cell_type": "code",
   "execution_count": 14,
   "outputs": [
    {
     "data": {
      "text/plain": "        VOLUME_ID                   FILE_SPECIFICATION_NAME        PRODUCT_ID  \\\n0      MROSH_2101  DATA/RGRAM/S_0016XX/S_00168901_RGRAM.LBL  S_00168901_RGRAM   \n1      MROSH_2101  DATA/GEOM/S_0016XX/S_00168901_GEOM.LBL    S_00168901_GEOM    \n2      MROSH_2101  DATA/RGRAM/S_0016XX/S_00168902_RGRAM.LBL  S_00168902_RGRAM   \n3      MROSH_2101  DATA/GEOM/S_0016XX/S_00168902_GEOM.LBL    S_00168902_GEOM    \n4      MROSH_2101  DATA/RGRAM/S_0016XX/S_00169001_RGRAM.LBL  S_00169001_RGRAM   \n...           ...                                       ...               ...   \n65377  MROSH_2101  DATA/GEOM/S_0775XX/S_07759401_GEOM.LBL    S_07759401_GEOM    \n65378  MROSH_2101  DATA/RGRAM/S_0775XX/S_07759701_RGRAM.LBL  S_07759701_RGRAM   \n65379  MROSH_2101  DATA/GEOM/S_0775XX/S_07759701_GEOM.LBL    S_07759701_GEOM    \n65380  MROSH_2101  DATA/RGRAM/S_0775XX/S_07759901_RGRAM.LBL  S_07759901_RGRAM   \n65381  MROSH_2101  DATA/GEOM/S_0775XX/S_07759901_GEOM.LBL    S_07759901_GEOM    \n\n       PRODUCT_VERSION_ID PRODUCT_CREATION_TIME  ORBIT_NUMBER  \\\n0                     1.0   2021-05-19 16:15:43          1689   \n1                     2.0   2021-05-19 16:15:43          1689   \n2                     1.0   2021-05-19 16:31:58          1689   \n3                     1.0   2021-05-19 16:31:58          1689   \n4                     1.0   2021-05-19 16:42:04          1690   \n...                   ...                   ...           ...   \n65377                 2.0   2023-09-01 10:20:36         77594   \n65378                 1.0   2023-09-01 10:43:44         77597   \n65379                 2.0   2023-09-01 10:43:44         77597   \n65380                 1.0   2023-09-01 11:16:07         77599   \n65381                 2.0   2023-09-01 11:16:07         77599   \n\n               START_TIME           STOP_TIME  \\\n0     2006-12-06 02:08:22 2006-12-06 02:09:48   \n1     2006-12-06 02:08:22 2006-12-06 02:09:48   \n2     2006-12-06 02:18:01 2006-12-06 02:23:19   \n3     2006-12-06 02:18:01 2006-12-06 02:23:19   \n4     2006-12-06 02:51:42 2006-12-06 02:54:57   \n...                   ...                 ...   \n65377 2023-02-14 11:20:52 2023-02-14 11:21:36   \n65378 2023-02-14 16:54:41 2023-02-14 17:05:40   \n65379 2023-02-14 16:54:41 2023-02-14 17:05:40   \n65380 2023-02-14 19:36:25 2023-02-14 19:51:43   \n65381 2023-02-14 19:36:25 2023-02-14 19:51:43   \n\n       MRO:START_SUB_SPACECRAFT_LATITUDE  MRO:STOP_SUB_SPACECRAFT_LATITUDE  \\\n0                              64.239113                         59.864001   \n1                              64.239113                         59.864001   \n2                              33.739494                         16.945915   \n3                              33.739494                         16.945915   \n4                             -74.827200                        -84.810770   \n...                                  ...                               ...   \n65377                          40.369400                         38.010900   \n65378                          49.673500                         14.801100   \n65379                          49.673500                         14.801100   \n65380                         -69.484900                        -19.964900   \n65381                         -69.484900                        -19.964900   \n\n       MRO:START_SUB_SPACECRAFT_LONGITUDE  MRO:STOP_SUB_SPACECRAFT_LONGITUDE  \n0                               230.67676                          229.39072  \n1                               230.67676                          229.39072  \n2                               224.53175                          222.27309  \n3                               224.53175                          222.27309  \n4                               204.73080                          183.15657  \n...                                   ...                                ...  \n65377                           179.25300                          178.89300  \n65378                            99.00460                           93.85090  \n65379                            99.00460                           93.85090  \n65380                           243.75300                          233.72000  \n65381                           243.75300                          233.72000  \n\n[65382 rows x 12 columns]",
      "text/html": "<div>\n<style scoped>\n    .dataframe tbody tr th:only-of-type {\n        vertical-align: middle;\n    }\n\n    .dataframe tbody tr th {\n        vertical-align: top;\n    }\n\n    .dataframe thead th {\n        text-align: right;\n    }\n</style>\n<table border=\"1\" class=\"dataframe\">\n  <thead>\n    <tr style=\"text-align: right;\">\n      <th></th>\n      <th>VOLUME_ID</th>\n      <th>FILE_SPECIFICATION_NAME</th>\n      <th>PRODUCT_ID</th>\n      <th>PRODUCT_VERSION_ID</th>\n      <th>PRODUCT_CREATION_TIME</th>\n      <th>ORBIT_NUMBER</th>\n      <th>START_TIME</th>\n      <th>STOP_TIME</th>\n      <th>MRO:START_SUB_SPACECRAFT_LATITUDE</th>\n      <th>MRO:STOP_SUB_SPACECRAFT_LATITUDE</th>\n      <th>MRO:START_SUB_SPACECRAFT_LONGITUDE</th>\n      <th>MRO:STOP_SUB_SPACECRAFT_LONGITUDE</th>\n    </tr>\n  </thead>\n  <tbody>\n    <tr>\n      <th>0</th>\n      <td>MROSH_2101</td>\n      <td>DATA/RGRAM/S_0016XX/S_00168901_RGRAM.LBL</td>\n      <td>S_00168901_RGRAM</td>\n      <td>1.0</td>\n      <td>2021-05-19 16:15:43</td>\n      <td>1689</td>\n      <td>2006-12-06 02:08:22</td>\n      <td>2006-12-06 02:09:48</td>\n      <td>64.239113</td>\n      <td>59.864001</td>\n      <td>230.67676</td>\n      <td>229.39072</td>\n    </tr>\n    <tr>\n      <th>1</th>\n      <td>MROSH_2101</td>\n      <td>DATA/GEOM/S_0016XX/S_00168901_GEOM.LBL</td>\n      <td>S_00168901_GEOM</td>\n      <td>2.0</td>\n      <td>2021-05-19 16:15:43</td>\n      <td>1689</td>\n      <td>2006-12-06 02:08:22</td>\n      <td>2006-12-06 02:09:48</td>\n      <td>64.239113</td>\n      <td>59.864001</td>\n      <td>230.67676</td>\n      <td>229.39072</td>\n    </tr>\n    <tr>\n      <th>2</th>\n      <td>MROSH_2101</td>\n      <td>DATA/RGRAM/S_0016XX/S_00168902_RGRAM.LBL</td>\n      <td>S_00168902_RGRAM</td>\n      <td>1.0</td>\n      <td>2021-05-19 16:31:58</td>\n      <td>1689</td>\n      <td>2006-12-06 02:18:01</td>\n      <td>2006-12-06 02:23:19</td>\n      <td>33.739494</td>\n      <td>16.945915</td>\n      <td>224.53175</td>\n      <td>222.27309</td>\n    </tr>\n    <tr>\n      <th>3</th>\n      <td>MROSH_2101</td>\n      <td>DATA/GEOM/S_0016XX/S_00168902_GEOM.LBL</td>\n      <td>S_00168902_GEOM</td>\n      <td>1.0</td>\n      <td>2021-05-19 16:31:58</td>\n      <td>1689</td>\n      <td>2006-12-06 02:18:01</td>\n      <td>2006-12-06 02:23:19</td>\n      <td>33.739494</td>\n      <td>16.945915</td>\n      <td>224.53175</td>\n      <td>222.27309</td>\n    </tr>\n    <tr>\n      <th>4</th>\n      <td>MROSH_2101</td>\n      <td>DATA/RGRAM/S_0016XX/S_00169001_RGRAM.LBL</td>\n      <td>S_00169001_RGRAM</td>\n      <td>1.0</td>\n      <td>2021-05-19 16:42:04</td>\n      <td>1690</td>\n      <td>2006-12-06 02:51:42</td>\n      <td>2006-12-06 02:54:57</td>\n      <td>-74.827200</td>\n      <td>-84.810770</td>\n      <td>204.73080</td>\n      <td>183.15657</td>\n    </tr>\n    <tr>\n      <th>...</th>\n      <td>...</td>\n      <td>...</td>\n      <td>...</td>\n      <td>...</td>\n      <td>...</td>\n      <td>...</td>\n      <td>...</td>\n      <td>...</td>\n      <td>...</td>\n      <td>...</td>\n      <td>...</td>\n      <td>...</td>\n    </tr>\n    <tr>\n      <th>65377</th>\n      <td>MROSH_2101</td>\n      <td>DATA/GEOM/S_0775XX/S_07759401_GEOM.LBL</td>\n      <td>S_07759401_GEOM</td>\n      <td>2.0</td>\n      <td>2023-09-01 10:20:36</td>\n      <td>77594</td>\n      <td>2023-02-14 11:20:52</td>\n      <td>2023-02-14 11:21:36</td>\n      <td>40.369400</td>\n      <td>38.010900</td>\n      <td>179.25300</td>\n      <td>178.89300</td>\n    </tr>\n    <tr>\n      <th>65378</th>\n      <td>MROSH_2101</td>\n      <td>DATA/RGRAM/S_0775XX/S_07759701_RGRAM.LBL</td>\n      <td>S_07759701_RGRAM</td>\n      <td>1.0</td>\n      <td>2023-09-01 10:43:44</td>\n      <td>77597</td>\n      <td>2023-02-14 16:54:41</td>\n      <td>2023-02-14 17:05:40</td>\n      <td>49.673500</td>\n      <td>14.801100</td>\n      <td>99.00460</td>\n      <td>93.85090</td>\n    </tr>\n    <tr>\n      <th>65379</th>\n      <td>MROSH_2101</td>\n      <td>DATA/GEOM/S_0775XX/S_07759701_GEOM.LBL</td>\n      <td>S_07759701_GEOM</td>\n      <td>2.0</td>\n      <td>2023-09-01 10:43:44</td>\n      <td>77597</td>\n      <td>2023-02-14 16:54:41</td>\n      <td>2023-02-14 17:05:40</td>\n      <td>49.673500</td>\n      <td>14.801100</td>\n      <td>99.00460</td>\n      <td>93.85090</td>\n    </tr>\n    <tr>\n      <th>65380</th>\n      <td>MROSH_2101</td>\n      <td>DATA/RGRAM/S_0775XX/S_07759901_RGRAM.LBL</td>\n      <td>S_07759901_RGRAM</td>\n      <td>1.0</td>\n      <td>2023-09-01 11:16:07</td>\n      <td>77599</td>\n      <td>2023-02-14 19:36:25</td>\n      <td>2023-02-14 19:51:43</td>\n      <td>-69.484900</td>\n      <td>-19.964900</td>\n      <td>243.75300</td>\n      <td>233.72000</td>\n    </tr>\n    <tr>\n      <th>65381</th>\n      <td>MROSH_2101</td>\n      <td>DATA/GEOM/S_0775XX/S_07759901_GEOM.LBL</td>\n      <td>S_07759901_GEOM</td>\n      <td>2.0</td>\n      <td>2023-09-01 11:16:07</td>\n      <td>77599</td>\n      <td>2023-02-14 19:36:25</td>\n      <td>2023-02-14 19:51:43</td>\n      <td>-69.484900</td>\n      <td>-19.964900</td>\n      <td>243.75300</td>\n      <td>233.72000</td>\n    </tr>\n  </tbody>\n</table>\n<p>65382 rows × 12 columns</p>\n</div>"
     },
     "execution_count": 14,
     "metadata": {},
     "output_type": "execute_result"
    }
   ],
   "source": [
    "index_tab"
   ],
   "metadata": {
    "collapsed": false,
    "ExecuteTime": {
     "end_time": "2023-10-29T08:54:35.308476200Z",
     "start_time": "2023-10-29T08:54:35.230459200Z"
    }
   },
   "id": "78e0056b96644243"
  },
  {
   "cell_type": "code",
   "execution_count": 15,
   "outputs": [],
   "source": [
    "# 新建一个dataframe，用来存储每个文件的信息\n",
    "rdr_index_df = pd.DataFrame(columns=[\"VOLUME_ID\",\"RGRAM_FILE_SPECIFICATION_NAME\",\"GEOM_FILE_SPECIFICATION_NAME\",\"PRODUCT_ID\",\"PRODUCT_CREATION_TIME\",\"ORBIT_NUMBER\",\"START_TIME\",\"STOP_TIME\",\"MRO:START_SUB_SPACECRAFT_LATITUDE\",\"MRO:STOP_SUB_SPACECRAFT_LATITUDE\",\"MRO:START_SUB_SPACECRAFT_LONGITUDE\",\"MRO:STOP_SUB_SPACECRAFT_LONGITUDE\"])"
   ],
   "metadata": {
    "collapsed": false,
    "ExecuteTime": {
     "end_time": "2023-10-29T08:54:35.309477200Z",
     "start_time": "2023-10-29T08:54:35.243461500Z"
    }
   },
   "id": "3a92a0d569993025"
  },
  {
   "cell_type": "code",
   "execution_count": 16,
   "outputs": [],
   "source": [
    "rdr_index_df[\"VOLUME_ID\"] = index_tab[\"VOLUME_ID\"].iloc[::2].values"
   ],
   "metadata": {
    "collapsed": false,
    "ExecuteTime": {
     "end_time": "2023-10-29T08:54:35.309477200Z",
     "start_time": "2023-10-29T08:54:35.250463500Z"
    }
   },
   "id": "66541f3538252f07"
  },
  {
   "cell_type": "code",
   "execution_count": 17,
   "outputs": [
    {
     "data": {
      "text/plain": "        VOLUME_ID RGRAM_FILE_SPECIFICATION_NAME GEOM_FILE_SPECIFICATION_NAME  \\\n0      MROSH_2101                           NaN                          NaN   \n1      MROSH_2101                           NaN                          NaN   \n2      MROSH_2101                           NaN                          NaN   \n3      MROSH_2101                           NaN                          NaN   \n4      MROSH_2101                           NaN                          NaN   \n...           ...                           ...                          ...   \n32686  MROSH_2101                           NaN                          NaN   \n32687  MROSH_2101                           NaN                          NaN   \n32688  MROSH_2101                           NaN                          NaN   \n32689  MROSH_2101                           NaN                          NaN   \n32690  MROSH_2101                           NaN                          NaN   \n\n      PRODUCT_ID PRODUCT_CREATION_TIME ORBIT_NUMBER START_TIME STOP_TIME  \\\n0            NaN                   NaN          NaN        NaN       NaN   \n1            NaN                   NaN          NaN        NaN       NaN   \n2            NaN                   NaN          NaN        NaN       NaN   \n3            NaN                   NaN          NaN        NaN       NaN   \n4            NaN                   NaN          NaN        NaN       NaN   \n...          ...                   ...          ...        ...       ...   \n32686        NaN                   NaN          NaN        NaN       NaN   \n32687        NaN                   NaN          NaN        NaN       NaN   \n32688        NaN                   NaN          NaN        NaN       NaN   \n32689        NaN                   NaN          NaN        NaN       NaN   \n32690        NaN                   NaN          NaN        NaN       NaN   \n\n      MRO:START_SUB_SPACECRAFT_LATITUDE MRO:STOP_SUB_SPACECRAFT_LATITUDE  \\\n0                                   NaN                              NaN   \n1                                   NaN                              NaN   \n2                                   NaN                              NaN   \n3                                   NaN                              NaN   \n4                                   NaN                              NaN   \n...                                 ...                              ...   \n32686                               NaN                              NaN   \n32687                               NaN                              NaN   \n32688                               NaN                              NaN   \n32689                               NaN                              NaN   \n32690                               NaN                              NaN   \n\n      MRO:START_SUB_SPACECRAFT_LONGITUDE MRO:STOP_SUB_SPACECRAFT_LONGITUDE  \n0                                    NaN                               NaN  \n1                                    NaN                               NaN  \n2                                    NaN                               NaN  \n3                                    NaN                               NaN  \n4                                    NaN                               NaN  \n...                                  ...                               ...  \n32686                                NaN                               NaN  \n32687                                NaN                               NaN  \n32688                                NaN                               NaN  \n32689                                NaN                               NaN  \n32690                                NaN                               NaN  \n\n[32691 rows x 12 columns]",
      "text/html": "<div>\n<style scoped>\n    .dataframe tbody tr th:only-of-type {\n        vertical-align: middle;\n    }\n\n    .dataframe tbody tr th {\n        vertical-align: top;\n    }\n\n    .dataframe thead th {\n        text-align: right;\n    }\n</style>\n<table border=\"1\" class=\"dataframe\">\n  <thead>\n    <tr style=\"text-align: right;\">\n      <th></th>\n      <th>VOLUME_ID</th>\n      <th>RGRAM_FILE_SPECIFICATION_NAME</th>\n      <th>GEOM_FILE_SPECIFICATION_NAME</th>\n      <th>PRODUCT_ID</th>\n      <th>PRODUCT_CREATION_TIME</th>\n      <th>ORBIT_NUMBER</th>\n      <th>START_TIME</th>\n      <th>STOP_TIME</th>\n      <th>MRO:START_SUB_SPACECRAFT_LATITUDE</th>\n      <th>MRO:STOP_SUB_SPACECRAFT_LATITUDE</th>\n      <th>MRO:START_SUB_SPACECRAFT_LONGITUDE</th>\n      <th>MRO:STOP_SUB_SPACECRAFT_LONGITUDE</th>\n    </tr>\n  </thead>\n  <tbody>\n    <tr>\n      <th>0</th>\n      <td>MROSH_2101</td>\n      <td>NaN</td>\n      <td>NaN</td>\n      <td>NaN</td>\n      <td>NaN</td>\n      <td>NaN</td>\n      <td>NaN</td>\n      <td>NaN</td>\n      <td>NaN</td>\n      <td>NaN</td>\n      <td>NaN</td>\n      <td>NaN</td>\n    </tr>\n    <tr>\n      <th>1</th>\n      <td>MROSH_2101</td>\n      <td>NaN</td>\n      <td>NaN</td>\n      <td>NaN</td>\n      <td>NaN</td>\n      <td>NaN</td>\n      <td>NaN</td>\n      <td>NaN</td>\n      <td>NaN</td>\n      <td>NaN</td>\n      <td>NaN</td>\n      <td>NaN</td>\n    </tr>\n    <tr>\n      <th>2</th>\n      <td>MROSH_2101</td>\n      <td>NaN</td>\n      <td>NaN</td>\n      <td>NaN</td>\n      <td>NaN</td>\n      <td>NaN</td>\n      <td>NaN</td>\n      <td>NaN</td>\n      <td>NaN</td>\n      <td>NaN</td>\n      <td>NaN</td>\n      <td>NaN</td>\n    </tr>\n    <tr>\n      <th>3</th>\n      <td>MROSH_2101</td>\n      <td>NaN</td>\n      <td>NaN</td>\n      <td>NaN</td>\n      <td>NaN</td>\n      <td>NaN</td>\n      <td>NaN</td>\n      <td>NaN</td>\n      <td>NaN</td>\n      <td>NaN</td>\n      <td>NaN</td>\n      <td>NaN</td>\n    </tr>\n    <tr>\n      <th>4</th>\n      <td>MROSH_2101</td>\n      <td>NaN</td>\n      <td>NaN</td>\n      <td>NaN</td>\n      <td>NaN</td>\n      <td>NaN</td>\n      <td>NaN</td>\n      <td>NaN</td>\n      <td>NaN</td>\n      <td>NaN</td>\n      <td>NaN</td>\n      <td>NaN</td>\n    </tr>\n    <tr>\n      <th>...</th>\n      <td>...</td>\n      <td>...</td>\n      <td>...</td>\n      <td>...</td>\n      <td>...</td>\n      <td>...</td>\n      <td>...</td>\n      <td>...</td>\n      <td>...</td>\n      <td>...</td>\n      <td>...</td>\n      <td>...</td>\n    </tr>\n    <tr>\n      <th>32686</th>\n      <td>MROSH_2101</td>\n      <td>NaN</td>\n      <td>NaN</td>\n      <td>NaN</td>\n      <td>NaN</td>\n      <td>NaN</td>\n      <td>NaN</td>\n      <td>NaN</td>\n      <td>NaN</td>\n      <td>NaN</td>\n      <td>NaN</td>\n      <td>NaN</td>\n    </tr>\n    <tr>\n      <th>32687</th>\n      <td>MROSH_2101</td>\n      <td>NaN</td>\n      <td>NaN</td>\n      <td>NaN</td>\n      <td>NaN</td>\n      <td>NaN</td>\n      <td>NaN</td>\n      <td>NaN</td>\n      <td>NaN</td>\n      <td>NaN</td>\n      <td>NaN</td>\n      <td>NaN</td>\n    </tr>\n    <tr>\n      <th>32688</th>\n      <td>MROSH_2101</td>\n      <td>NaN</td>\n      <td>NaN</td>\n      <td>NaN</td>\n      <td>NaN</td>\n      <td>NaN</td>\n      <td>NaN</td>\n      <td>NaN</td>\n      <td>NaN</td>\n      <td>NaN</td>\n      <td>NaN</td>\n      <td>NaN</td>\n    </tr>\n    <tr>\n      <th>32689</th>\n      <td>MROSH_2101</td>\n      <td>NaN</td>\n      <td>NaN</td>\n      <td>NaN</td>\n      <td>NaN</td>\n      <td>NaN</td>\n      <td>NaN</td>\n      <td>NaN</td>\n      <td>NaN</td>\n      <td>NaN</td>\n      <td>NaN</td>\n      <td>NaN</td>\n    </tr>\n    <tr>\n      <th>32690</th>\n      <td>MROSH_2101</td>\n      <td>NaN</td>\n      <td>NaN</td>\n      <td>NaN</td>\n      <td>NaN</td>\n      <td>NaN</td>\n      <td>NaN</td>\n      <td>NaN</td>\n      <td>NaN</td>\n      <td>NaN</td>\n      <td>NaN</td>\n      <td>NaN</td>\n    </tr>\n  </tbody>\n</table>\n<p>32691 rows × 12 columns</p>\n</div>"
     },
     "execution_count": 17,
     "metadata": {},
     "output_type": "execute_result"
    }
   ],
   "source": [
    "rdr_index_df"
   ],
   "metadata": {
    "collapsed": false,
    "ExecuteTime": {
     "end_time": "2023-10-29T08:54:35.353486700Z",
     "start_time": "2023-10-29T08:54:35.257465Z"
    }
   },
   "id": "244b60a53fbfbe7f"
  },
  {
   "cell_type": "code",
   "execution_count": 18,
   "outputs": [
    {
     "data": {
      "text/plain": "        VOLUME_ID             RGRAM_FILE_SPECIFICATION_NAME  \\\n0      MROSH_2101  DATA/RGRAM/S_0016XX/S_00168901_RGRAM.LBL   \n1      MROSH_2101  DATA/RGRAM/S_0016XX/S_00168902_RGRAM.LBL   \n2      MROSH_2101  DATA/RGRAM/S_0016XX/S_00169001_RGRAM.LBL   \n3      MROSH_2101  DATA/RGRAM/S_0016XX/S_00169101_RGRAM.LBL   \n4      MROSH_2101  DATA/RGRAM/S_0016XX/S_00169102_RGRAM.LBL   \n...           ...                                       ...   \n32686  MROSH_2101  DATA/RGRAM/S_0775XX/S_07759101_RGRAM.LBL   \n32687  MROSH_2101  DATA/RGRAM/S_0775XX/S_07759301_RGRAM.LBL   \n32688  MROSH_2101  DATA/RGRAM/S_0775XX/S_07759401_RGRAM.LBL   \n32689  MROSH_2101  DATA/RGRAM/S_0775XX/S_07759701_RGRAM.LBL   \n32690  MROSH_2101  DATA/RGRAM/S_0775XX/S_07759901_RGRAM.LBL   \n\n      GEOM_FILE_SPECIFICATION_NAME PRODUCT_ID PRODUCT_CREATION_TIME  \\\n0                              NaN        NaN                   NaN   \n1                              NaN        NaN                   NaN   \n2                              NaN        NaN                   NaN   \n3                              NaN        NaN                   NaN   \n4                              NaN        NaN                   NaN   \n...                            ...        ...                   ...   \n32686                          NaN        NaN                   NaN   \n32687                          NaN        NaN                   NaN   \n32688                          NaN        NaN                   NaN   \n32689                          NaN        NaN                   NaN   \n32690                          NaN        NaN                   NaN   \n\n      ORBIT_NUMBER START_TIME STOP_TIME MRO:START_SUB_SPACECRAFT_LATITUDE  \\\n0              NaN        NaN       NaN                               NaN   \n1              NaN        NaN       NaN                               NaN   \n2              NaN        NaN       NaN                               NaN   \n3              NaN        NaN       NaN                               NaN   \n4              NaN        NaN       NaN                               NaN   \n...            ...        ...       ...                               ...   \n32686          NaN        NaN       NaN                               NaN   \n32687          NaN        NaN       NaN                               NaN   \n32688          NaN        NaN       NaN                               NaN   \n32689          NaN        NaN       NaN                               NaN   \n32690          NaN        NaN       NaN                               NaN   \n\n      MRO:STOP_SUB_SPACECRAFT_LATITUDE MRO:START_SUB_SPACECRAFT_LONGITUDE  \\\n0                                  NaN                                NaN   \n1                                  NaN                                NaN   \n2                                  NaN                                NaN   \n3                                  NaN                                NaN   \n4                                  NaN                                NaN   \n...                                ...                                ...   \n32686                              NaN                                NaN   \n32687                              NaN                                NaN   \n32688                              NaN                                NaN   \n32689                              NaN                                NaN   \n32690                              NaN                                NaN   \n\n      MRO:STOP_SUB_SPACECRAFT_LONGITUDE  \n0                                   NaN  \n1                                   NaN  \n2                                   NaN  \n3                                   NaN  \n4                                   NaN  \n...                                 ...  \n32686                               NaN  \n32687                               NaN  \n32688                               NaN  \n32689                               NaN  \n32690                               NaN  \n\n[32691 rows x 12 columns]",
      "text/html": "<div>\n<style scoped>\n    .dataframe tbody tr th:only-of-type {\n        vertical-align: middle;\n    }\n\n    .dataframe tbody tr th {\n        vertical-align: top;\n    }\n\n    .dataframe thead th {\n        text-align: right;\n    }\n</style>\n<table border=\"1\" class=\"dataframe\">\n  <thead>\n    <tr style=\"text-align: right;\">\n      <th></th>\n      <th>VOLUME_ID</th>\n      <th>RGRAM_FILE_SPECIFICATION_NAME</th>\n      <th>GEOM_FILE_SPECIFICATION_NAME</th>\n      <th>PRODUCT_ID</th>\n      <th>PRODUCT_CREATION_TIME</th>\n      <th>ORBIT_NUMBER</th>\n      <th>START_TIME</th>\n      <th>STOP_TIME</th>\n      <th>MRO:START_SUB_SPACECRAFT_LATITUDE</th>\n      <th>MRO:STOP_SUB_SPACECRAFT_LATITUDE</th>\n      <th>MRO:START_SUB_SPACECRAFT_LONGITUDE</th>\n      <th>MRO:STOP_SUB_SPACECRAFT_LONGITUDE</th>\n    </tr>\n  </thead>\n  <tbody>\n    <tr>\n      <th>0</th>\n      <td>MROSH_2101</td>\n      <td>DATA/RGRAM/S_0016XX/S_00168901_RGRAM.LBL</td>\n      <td>NaN</td>\n      <td>NaN</td>\n      <td>NaN</td>\n      <td>NaN</td>\n      <td>NaN</td>\n      <td>NaN</td>\n      <td>NaN</td>\n      <td>NaN</td>\n      <td>NaN</td>\n      <td>NaN</td>\n    </tr>\n    <tr>\n      <th>1</th>\n      <td>MROSH_2101</td>\n      <td>DATA/RGRAM/S_0016XX/S_00168902_RGRAM.LBL</td>\n      <td>NaN</td>\n      <td>NaN</td>\n      <td>NaN</td>\n      <td>NaN</td>\n      <td>NaN</td>\n      <td>NaN</td>\n      <td>NaN</td>\n      <td>NaN</td>\n      <td>NaN</td>\n      <td>NaN</td>\n    </tr>\n    <tr>\n      <th>2</th>\n      <td>MROSH_2101</td>\n      <td>DATA/RGRAM/S_0016XX/S_00169001_RGRAM.LBL</td>\n      <td>NaN</td>\n      <td>NaN</td>\n      <td>NaN</td>\n      <td>NaN</td>\n      <td>NaN</td>\n      <td>NaN</td>\n      <td>NaN</td>\n      <td>NaN</td>\n      <td>NaN</td>\n      <td>NaN</td>\n    </tr>\n    <tr>\n      <th>3</th>\n      <td>MROSH_2101</td>\n      <td>DATA/RGRAM/S_0016XX/S_00169101_RGRAM.LBL</td>\n      <td>NaN</td>\n      <td>NaN</td>\n      <td>NaN</td>\n      <td>NaN</td>\n      <td>NaN</td>\n      <td>NaN</td>\n      <td>NaN</td>\n      <td>NaN</td>\n      <td>NaN</td>\n      <td>NaN</td>\n    </tr>\n    <tr>\n      <th>4</th>\n      <td>MROSH_2101</td>\n      <td>DATA/RGRAM/S_0016XX/S_00169102_RGRAM.LBL</td>\n      <td>NaN</td>\n      <td>NaN</td>\n      <td>NaN</td>\n      <td>NaN</td>\n      <td>NaN</td>\n      <td>NaN</td>\n      <td>NaN</td>\n      <td>NaN</td>\n      <td>NaN</td>\n      <td>NaN</td>\n    </tr>\n    <tr>\n      <th>...</th>\n      <td>...</td>\n      <td>...</td>\n      <td>...</td>\n      <td>...</td>\n      <td>...</td>\n      <td>...</td>\n      <td>...</td>\n      <td>...</td>\n      <td>...</td>\n      <td>...</td>\n      <td>...</td>\n      <td>...</td>\n    </tr>\n    <tr>\n      <th>32686</th>\n      <td>MROSH_2101</td>\n      <td>DATA/RGRAM/S_0775XX/S_07759101_RGRAM.LBL</td>\n      <td>NaN</td>\n      <td>NaN</td>\n      <td>NaN</td>\n      <td>NaN</td>\n      <td>NaN</td>\n      <td>NaN</td>\n      <td>NaN</td>\n      <td>NaN</td>\n      <td>NaN</td>\n      <td>NaN</td>\n    </tr>\n    <tr>\n      <th>32687</th>\n      <td>MROSH_2101</td>\n      <td>DATA/RGRAM/S_0775XX/S_07759301_RGRAM.LBL</td>\n      <td>NaN</td>\n      <td>NaN</td>\n      <td>NaN</td>\n      <td>NaN</td>\n      <td>NaN</td>\n      <td>NaN</td>\n      <td>NaN</td>\n      <td>NaN</td>\n      <td>NaN</td>\n      <td>NaN</td>\n    </tr>\n    <tr>\n      <th>32688</th>\n      <td>MROSH_2101</td>\n      <td>DATA/RGRAM/S_0775XX/S_07759401_RGRAM.LBL</td>\n      <td>NaN</td>\n      <td>NaN</td>\n      <td>NaN</td>\n      <td>NaN</td>\n      <td>NaN</td>\n      <td>NaN</td>\n      <td>NaN</td>\n      <td>NaN</td>\n      <td>NaN</td>\n      <td>NaN</td>\n    </tr>\n    <tr>\n      <th>32689</th>\n      <td>MROSH_2101</td>\n      <td>DATA/RGRAM/S_0775XX/S_07759701_RGRAM.LBL</td>\n      <td>NaN</td>\n      <td>NaN</td>\n      <td>NaN</td>\n      <td>NaN</td>\n      <td>NaN</td>\n      <td>NaN</td>\n      <td>NaN</td>\n      <td>NaN</td>\n      <td>NaN</td>\n      <td>NaN</td>\n    </tr>\n    <tr>\n      <th>32690</th>\n      <td>MROSH_2101</td>\n      <td>DATA/RGRAM/S_0775XX/S_07759901_RGRAM.LBL</td>\n      <td>NaN</td>\n      <td>NaN</td>\n      <td>NaN</td>\n      <td>NaN</td>\n      <td>NaN</td>\n      <td>NaN</td>\n      <td>NaN</td>\n      <td>NaN</td>\n      <td>NaN</td>\n      <td>NaN</td>\n    </tr>\n  </tbody>\n</table>\n<p>32691 rows × 12 columns</p>\n</div>"
     },
     "execution_count": 18,
     "metadata": {},
     "output_type": "execute_result"
    }
   ],
   "source": [
    "rdr_index_df[\"RGRAM_FILE_SPECIFICATION_NAME\"] = index_tab[\"FILE_SPECIFICATION_NAME\"].iloc[::2].values\n",
    "rdr_index_df"
   ],
   "metadata": {
    "collapsed": false,
    "ExecuteTime": {
     "end_time": "2023-10-29T08:54:35.369490900Z",
     "start_time": "2023-10-29T08:54:35.270468500Z"
    }
   },
   "id": "8707e10232ca418e"
  },
  {
   "cell_type": "code",
   "execution_count": 19,
   "outputs": [
    {
     "data": {
      "text/plain": "        VOLUME_ID             RGRAM_FILE_SPECIFICATION_NAME  \\\n0      MROSH_2101  DATA/RGRAM/S_0016XX/S_00168901_RGRAM.LBL   \n1      MROSH_2101  DATA/RGRAM/S_0016XX/S_00168902_RGRAM.LBL   \n2      MROSH_2101  DATA/RGRAM/S_0016XX/S_00169001_RGRAM.LBL   \n3      MROSH_2101  DATA/RGRAM/S_0016XX/S_00169101_RGRAM.LBL   \n4      MROSH_2101  DATA/RGRAM/S_0016XX/S_00169102_RGRAM.LBL   \n...           ...                                       ...   \n32686  MROSH_2101  DATA/RGRAM/S_0775XX/S_07759101_RGRAM.LBL   \n32687  MROSH_2101  DATA/RGRAM/S_0775XX/S_07759301_RGRAM.LBL   \n32688  MROSH_2101  DATA/RGRAM/S_0775XX/S_07759401_RGRAM.LBL   \n32689  MROSH_2101  DATA/RGRAM/S_0775XX/S_07759701_RGRAM.LBL   \n32690  MROSH_2101  DATA/RGRAM/S_0775XX/S_07759901_RGRAM.LBL   \n\n                   GEOM_FILE_SPECIFICATION_NAME PRODUCT_ID  \\\n0      DATA/GEOM/S_0016XX/S_00168901_GEOM.LBL          NaN   \n1      DATA/GEOM/S_0016XX/S_00168902_GEOM.LBL          NaN   \n2      DATA/GEOM/S_0016XX/S_00169001_GEOM.LBL          NaN   \n3      DATA/GEOM/S_0016XX/S_00169101_GEOM.LBL          NaN   \n4      DATA/GEOM/S_0016XX/S_00169102_GEOM.LBL          NaN   \n...                                         ...        ...   \n32686  DATA/GEOM/S_0775XX/S_07759101_GEOM.LBL          NaN   \n32687  DATA/GEOM/S_0775XX/S_07759301_GEOM.LBL          NaN   \n32688  DATA/GEOM/S_0775XX/S_07759401_GEOM.LBL          NaN   \n32689  DATA/GEOM/S_0775XX/S_07759701_GEOM.LBL          NaN   \n32690  DATA/GEOM/S_0775XX/S_07759901_GEOM.LBL          NaN   \n\n      PRODUCT_CREATION_TIME ORBIT_NUMBER START_TIME STOP_TIME  \\\n0                       NaN          NaN        NaN       NaN   \n1                       NaN          NaN        NaN       NaN   \n2                       NaN          NaN        NaN       NaN   \n3                       NaN          NaN        NaN       NaN   \n4                       NaN          NaN        NaN       NaN   \n...                     ...          ...        ...       ...   \n32686                   NaN          NaN        NaN       NaN   \n32687                   NaN          NaN        NaN       NaN   \n32688                   NaN          NaN        NaN       NaN   \n32689                   NaN          NaN        NaN       NaN   \n32690                   NaN          NaN        NaN       NaN   \n\n      MRO:START_SUB_SPACECRAFT_LATITUDE MRO:STOP_SUB_SPACECRAFT_LATITUDE  \\\n0                                   NaN                              NaN   \n1                                   NaN                              NaN   \n2                                   NaN                              NaN   \n3                                   NaN                              NaN   \n4                                   NaN                              NaN   \n...                                 ...                              ...   \n32686                               NaN                              NaN   \n32687                               NaN                              NaN   \n32688                               NaN                              NaN   \n32689                               NaN                              NaN   \n32690                               NaN                              NaN   \n\n      MRO:START_SUB_SPACECRAFT_LONGITUDE MRO:STOP_SUB_SPACECRAFT_LONGITUDE  \n0                                    NaN                               NaN  \n1                                    NaN                               NaN  \n2                                    NaN                               NaN  \n3                                    NaN                               NaN  \n4                                    NaN                               NaN  \n...                                  ...                               ...  \n32686                                NaN                               NaN  \n32687                                NaN                               NaN  \n32688                                NaN                               NaN  \n32689                                NaN                               NaN  \n32690                                NaN                               NaN  \n\n[32691 rows x 12 columns]",
      "text/html": "<div>\n<style scoped>\n    .dataframe tbody tr th:only-of-type {\n        vertical-align: middle;\n    }\n\n    .dataframe tbody tr th {\n        vertical-align: top;\n    }\n\n    .dataframe thead th {\n        text-align: right;\n    }\n</style>\n<table border=\"1\" class=\"dataframe\">\n  <thead>\n    <tr style=\"text-align: right;\">\n      <th></th>\n      <th>VOLUME_ID</th>\n      <th>RGRAM_FILE_SPECIFICATION_NAME</th>\n      <th>GEOM_FILE_SPECIFICATION_NAME</th>\n      <th>PRODUCT_ID</th>\n      <th>PRODUCT_CREATION_TIME</th>\n      <th>ORBIT_NUMBER</th>\n      <th>START_TIME</th>\n      <th>STOP_TIME</th>\n      <th>MRO:START_SUB_SPACECRAFT_LATITUDE</th>\n      <th>MRO:STOP_SUB_SPACECRAFT_LATITUDE</th>\n      <th>MRO:START_SUB_SPACECRAFT_LONGITUDE</th>\n      <th>MRO:STOP_SUB_SPACECRAFT_LONGITUDE</th>\n    </tr>\n  </thead>\n  <tbody>\n    <tr>\n      <th>0</th>\n      <td>MROSH_2101</td>\n      <td>DATA/RGRAM/S_0016XX/S_00168901_RGRAM.LBL</td>\n      <td>DATA/GEOM/S_0016XX/S_00168901_GEOM.LBL</td>\n      <td>NaN</td>\n      <td>NaN</td>\n      <td>NaN</td>\n      <td>NaN</td>\n      <td>NaN</td>\n      <td>NaN</td>\n      <td>NaN</td>\n      <td>NaN</td>\n      <td>NaN</td>\n    </tr>\n    <tr>\n      <th>1</th>\n      <td>MROSH_2101</td>\n      <td>DATA/RGRAM/S_0016XX/S_00168902_RGRAM.LBL</td>\n      <td>DATA/GEOM/S_0016XX/S_00168902_GEOM.LBL</td>\n      <td>NaN</td>\n      <td>NaN</td>\n      <td>NaN</td>\n      <td>NaN</td>\n      <td>NaN</td>\n      <td>NaN</td>\n      <td>NaN</td>\n      <td>NaN</td>\n      <td>NaN</td>\n    </tr>\n    <tr>\n      <th>2</th>\n      <td>MROSH_2101</td>\n      <td>DATA/RGRAM/S_0016XX/S_00169001_RGRAM.LBL</td>\n      <td>DATA/GEOM/S_0016XX/S_00169001_GEOM.LBL</td>\n      <td>NaN</td>\n      <td>NaN</td>\n      <td>NaN</td>\n      <td>NaN</td>\n      <td>NaN</td>\n      <td>NaN</td>\n      <td>NaN</td>\n      <td>NaN</td>\n      <td>NaN</td>\n    </tr>\n    <tr>\n      <th>3</th>\n      <td>MROSH_2101</td>\n      <td>DATA/RGRAM/S_0016XX/S_00169101_RGRAM.LBL</td>\n      <td>DATA/GEOM/S_0016XX/S_00169101_GEOM.LBL</td>\n      <td>NaN</td>\n      <td>NaN</td>\n      <td>NaN</td>\n      <td>NaN</td>\n      <td>NaN</td>\n      <td>NaN</td>\n      <td>NaN</td>\n      <td>NaN</td>\n      <td>NaN</td>\n    </tr>\n    <tr>\n      <th>4</th>\n      <td>MROSH_2101</td>\n      <td>DATA/RGRAM/S_0016XX/S_00169102_RGRAM.LBL</td>\n      <td>DATA/GEOM/S_0016XX/S_00169102_GEOM.LBL</td>\n      <td>NaN</td>\n      <td>NaN</td>\n      <td>NaN</td>\n      <td>NaN</td>\n      <td>NaN</td>\n      <td>NaN</td>\n      <td>NaN</td>\n      <td>NaN</td>\n      <td>NaN</td>\n    </tr>\n    <tr>\n      <th>...</th>\n      <td>...</td>\n      <td>...</td>\n      <td>...</td>\n      <td>...</td>\n      <td>...</td>\n      <td>...</td>\n      <td>...</td>\n      <td>...</td>\n      <td>...</td>\n      <td>...</td>\n      <td>...</td>\n      <td>...</td>\n    </tr>\n    <tr>\n      <th>32686</th>\n      <td>MROSH_2101</td>\n      <td>DATA/RGRAM/S_0775XX/S_07759101_RGRAM.LBL</td>\n      <td>DATA/GEOM/S_0775XX/S_07759101_GEOM.LBL</td>\n      <td>NaN</td>\n      <td>NaN</td>\n      <td>NaN</td>\n      <td>NaN</td>\n      <td>NaN</td>\n      <td>NaN</td>\n      <td>NaN</td>\n      <td>NaN</td>\n      <td>NaN</td>\n    </tr>\n    <tr>\n      <th>32687</th>\n      <td>MROSH_2101</td>\n      <td>DATA/RGRAM/S_0775XX/S_07759301_RGRAM.LBL</td>\n      <td>DATA/GEOM/S_0775XX/S_07759301_GEOM.LBL</td>\n      <td>NaN</td>\n      <td>NaN</td>\n      <td>NaN</td>\n      <td>NaN</td>\n      <td>NaN</td>\n      <td>NaN</td>\n      <td>NaN</td>\n      <td>NaN</td>\n      <td>NaN</td>\n    </tr>\n    <tr>\n      <th>32688</th>\n      <td>MROSH_2101</td>\n      <td>DATA/RGRAM/S_0775XX/S_07759401_RGRAM.LBL</td>\n      <td>DATA/GEOM/S_0775XX/S_07759401_GEOM.LBL</td>\n      <td>NaN</td>\n      <td>NaN</td>\n      <td>NaN</td>\n      <td>NaN</td>\n      <td>NaN</td>\n      <td>NaN</td>\n      <td>NaN</td>\n      <td>NaN</td>\n      <td>NaN</td>\n    </tr>\n    <tr>\n      <th>32689</th>\n      <td>MROSH_2101</td>\n      <td>DATA/RGRAM/S_0775XX/S_07759701_RGRAM.LBL</td>\n      <td>DATA/GEOM/S_0775XX/S_07759701_GEOM.LBL</td>\n      <td>NaN</td>\n      <td>NaN</td>\n      <td>NaN</td>\n      <td>NaN</td>\n      <td>NaN</td>\n      <td>NaN</td>\n      <td>NaN</td>\n      <td>NaN</td>\n      <td>NaN</td>\n    </tr>\n    <tr>\n      <th>32690</th>\n      <td>MROSH_2101</td>\n      <td>DATA/RGRAM/S_0775XX/S_07759901_RGRAM.LBL</td>\n      <td>DATA/GEOM/S_0775XX/S_07759901_GEOM.LBL</td>\n      <td>NaN</td>\n      <td>NaN</td>\n      <td>NaN</td>\n      <td>NaN</td>\n      <td>NaN</td>\n      <td>NaN</td>\n      <td>NaN</td>\n      <td>NaN</td>\n      <td>NaN</td>\n    </tr>\n  </tbody>\n</table>\n<p>32691 rows × 12 columns</p>\n</div>"
     },
     "execution_count": 19,
     "metadata": {},
     "output_type": "execute_result"
    }
   ],
   "source": [
    "rdr_index_df[\"GEOM_FILE_SPECIFICATION_NAME\"] = index_tab[\"FILE_SPECIFICATION_NAME\"].iloc[1::2].values\n",
    "rdr_index_df"
   ],
   "metadata": {
    "collapsed": false,
    "ExecuteTime": {
     "end_time": "2023-10-29T08:54:35.370490800Z",
     "start_time": "2023-10-29T08:54:35.285472300Z"
    }
   },
   "id": "67dbcdc4476b039f"
  },
  {
   "cell_type": "code",
   "execution_count": 21,
   "outputs": [
    {
     "data": {
      "text/plain": "        VOLUME_ID             RGRAM_FILE_SPECIFICATION_NAME  \\\n0      MROSH_2101  DATA/RGRAM/S_0016XX/S_00168901_RGRAM.LBL   \n1      MROSH_2101  DATA/RGRAM/S_0016XX/S_00168902_RGRAM.LBL   \n2      MROSH_2101  DATA/RGRAM/S_0016XX/S_00169001_RGRAM.LBL   \n3      MROSH_2101  DATA/RGRAM/S_0016XX/S_00169101_RGRAM.LBL   \n4      MROSH_2101  DATA/RGRAM/S_0016XX/S_00169102_RGRAM.LBL   \n...           ...                                       ...   \n32686  MROSH_2101  DATA/RGRAM/S_0775XX/S_07759101_RGRAM.LBL   \n32687  MROSH_2101  DATA/RGRAM/S_0775XX/S_07759301_RGRAM.LBL   \n32688  MROSH_2101  DATA/RGRAM/S_0775XX/S_07759401_RGRAM.LBL   \n32689  MROSH_2101  DATA/RGRAM/S_0775XX/S_07759701_RGRAM.LBL   \n32690  MROSH_2101  DATA/RGRAM/S_0775XX/S_07759901_RGRAM.LBL   \n\n                   GEOM_FILE_SPECIFICATION_NAME  PRODUCT_ID  \\\n0      DATA/GEOM/S_0016XX/S_00168901_GEOM.LBL    S_00168901   \n1      DATA/GEOM/S_0016XX/S_00168902_GEOM.LBL    S_00168902   \n2      DATA/GEOM/S_0016XX/S_00169001_GEOM.LBL    S_00169001   \n3      DATA/GEOM/S_0016XX/S_00169101_GEOM.LBL    S_00169101   \n4      DATA/GEOM/S_0016XX/S_00169102_GEOM.LBL    S_00169102   \n...                                         ...         ...   \n32686  DATA/GEOM/S_0775XX/S_07759101_GEOM.LBL    S_07759101   \n32687  DATA/GEOM/S_0775XX/S_07759301_GEOM.LBL    S_07759301   \n32688  DATA/GEOM/S_0775XX/S_07759401_GEOM.LBL    S_07759401   \n32689  DATA/GEOM/S_0775XX/S_07759701_GEOM.LBL    S_07759701   \n32690  DATA/GEOM/S_0775XX/S_07759901_GEOM.LBL    S_07759901   \n\n      PRODUCT_CREATION_TIME ORBIT_NUMBER START_TIME STOP_TIME  \\\n0                       NaN          NaN        NaN       NaN   \n1                       NaN          NaN        NaN       NaN   \n2                       NaN          NaN        NaN       NaN   \n3                       NaN          NaN        NaN       NaN   \n4                       NaN          NaN        NaN       NaN   \n...                     ...          ...        ...       ...   \n32686                   NaN          NaN        NaN       NaN   \n32687                   NaN          NaN        NaN       NaN   \n32688                   NaN          NaN        NaN       NaN   \n32689                   NaN          NaN        NaN       NaN   \n32690                   NaN          NaN        NaN       NaN   \n\n      MRO:START_SUB_SPACECRAFT_LATITUDE MRO:STOP_SUB_SPACECRAFT_LATITUDE  \\\n0                                   NaN                              NaN   \n1                                   NaN                              NaN   \n2                                   NaN                              NaN   \n3                                   NaN                              NaN   \n4                                   NaN                              NaN   \n...                                 ...                              ...   \n32686                               NaN                              NaN   \n32687                               NaN                              NaN   \n32688                               NaN                              NaN   \n32689                               NaN                              NaN   \n32690                               NaN                              NaN   \n\n      MRO:START_SUB_SPACECRAFT_LONGITUDE MRO:STOP_SUB_SPACECRAFT_LONGITUDE  \n0                                    NaN                               NaN  \n1                                    NaN                               NaN  \n2                                    NaN                               NaN  \n3                                    NaN                               NaN  \n4                                    NaN                               NaN  \n...                                  ...                               ...  \n32686                                NaN                               NaN  \n32687                                NaN                               NaN  \n32688                                NaN                               NaN  \n32689                                NaN                               NaN  \n32690                                NaN                               NaN  \n\n[32691 rows x 12 columns]",
      "text/html": "<div>\n<style scoped>\n    .dataframe tbody tr th:only-of-type {\n        vertical-align: middle;\n    }\n\n    .dataframe tbody tr th {\n        vertical-align: top;\n    }\n\n    .dataframe thead th {\n        text-align: right;\n    }\n</style>\n<table border=\"1\" class=\"dataframe\">\n  <thead>\n    <tr style=\"text-align: right;\">\n      <th></th>\n      <th>VOLUME_ID</th>\n      <th>RGRAM_FILE_SPECIFICATION_NAME</th>\n      <th>GEOM_FILE_SPECIFICATION_NAME</th>\n      <th>PRODUCT_ID</th>\n      <th>PRODUCT_CREATION_TIME</th>\n      <th>ORBIT_NUMBER</th>\n      <th>START_TIME</th>\n      <th>STOP_TIME</th>\n      <th>MRO:START_SUB_SPACECRAFT_LATITUDE</th>\n      <th>MRO:STOP_SUB_SPACECRAFT_LATITUDE</th>\n      <th>MRO:START_SUB_SPACECRAFT_LONGITUDE</th>\n      <th>MRO:STOP_SUB_SPACECRAFT_LONGITUDE</th>\n    </tr>\n  </thead>\n  <tbody>\n    <tr>\n      <th>0</th>\n      <td>MROSH_2101</td>\n      <td>DATA/RGRAM/S_0016XX/S_00168901_RGRAM.LBL</td>\n      <td>DATA/GEOM/S_0016XX/S_00168901_GEOM.LBL</td>\n      <td>S_00168901</td>\n      <td>NaN</td>\n      <td>NaN</td>\n      <td>NaN</td>\n      <td>NaN</td>\n      <td>NaN</td>\n      <td>NaN</td>\n      <td>NaN</td>\n      <td>NaN</td>\n    </tr>\n    <tr>\n      <th>1</th>\n      <td>MROSH_2101</td>\n      <td>DATA/RGRAM/S_0016XX/S_00168902_RGRAM.LBL</td>\n      <td>DATA/GEOM/S_0016XX/S_00168902_GEOM.LBL</td>\n      <td>S_00168902</td>\n      <td>NaN</td>\n      <td>NaN</td>\n      <td>NaN</td>\n      <td>NaN</td>\n      <td>NaN</td>\n      <td>NaN</td>\n      <td>NaN</td>\n      <td>NaN</td>\n    </tr>\n    <tr>\n      <th>2</th>\n      <td>MROSH_2101</td>\n      <td>DATA/RGRAM/S_0016XX/S_00169001_RGRAM.LBL</td>\n      <td>DATA/GEOM/S_0016XX/S_00169001_GEOM.LBL</td>\n      <td>S_00169001</td>\n      <td>NaN</td>\n      <td>NaN</td>\n      <td>NaN</td>\n      <td>NaN</td>\n      <td>NaN</td>\n      <td>NaN</td>\n      <td>NaN</td>\n      <td>NaN</td>\n    </tr>\n    <tr>\n      <th>3</th>\n      <td>MROSH_2101</td>\n      <td>DATA/RGRAM/S_0016XX/S_00169101_RGRAM.LBL</td>\n      <td>DATA/GEOM/S_0016XX/S_00169101_GEOM.LBL</td>\n      <td>S_00169101</td>\n      <td>NaN</td>\n      <td>NaN</td>\n      <td>NaN</td>\n      <td>NaN</td>\n      <td>NaN</td>\n      <td>NaN</td>\n      <td>NaN</td>\n      <td>NaN</td>\n    </tr>\n    <tr>\n      <th>4</th>\n      <td>MROSH_2101</td>\n      <td>DATA/RGRAM/S_0016XX/S_00169102_RGRAM.LBL</td>\n      <td>DATA/GEOM/S_0016XX/S_00169102_GEOM.LBL</td>\n      <td>S_00169102</td>\n      <td>NaN</td>\n      <td>NaN</td>\n      <td>NaN</td>\n      <td>NaN</td>\n      <td>NaN</td>\n      <td>NaN</td>\n      <td>NaN</td>\n      <td>NaN</td>\n    </tr>\n    <tr>\n      <th>...</th>\n      <td>...</td>\n      <td>...</td>\n      <td>...</td>\n      <td>...</td>\n      <td>...</td>\n      <td>...</td>\n      <td>...</td>\n      <td>...</td>\n      <td>...</td>\n      <td>...</td>\n      <td>...</td>\n      <td>...</td>\n    </tr>\n    <tr>\n      <th>32686</th>\n      <td>MROSH_2101</td>\n      <td>DATA/RGRAM/S_0775XX/S_07759101_RGRAM.LBL</td>\n      <td>DATA/GEOM/S_0775XX/S_07759101_GEOM.LBL</td>\n      <td>S_07759101</td>\n      <td>NaN</td>\n      <td>NaN</td>\n      <td>NaN</td>\n      <td>NaN</td>\n      <td>NaN</td>\n      <td>NaN</td>\n      <td>NaN</td>\n      <td>NaN</td>\n    </tr>\n    <tr>\n      <th>32687</th>\n      <td>MROSH_2101</td>\n      <td>DATA/RGRAM/S_0775XX/S_07759301_RGRAM.LBL</td>\n      <td>DATA/GEOM/S_0775XX/S_07759301_GEOM.LBL</td>\n      <td>S_07759301</td>\n      <td>NaN</td>\n      <td>NaN</td>\n      <td>NaN</td>\n      <td>NaN</td>\n      <td>NaN</td>\n      <td>NaN</td>\n      <td>NaN</td>\n      <td>NaN</td>\n    </tr>\n    <tr>\n      <th>32688</th>\n      <td>MROSH_2101</td>\n      <td>DATA/RGRAM/S_0775XX/S_07759401_RGRAM.LBL</td>\n      <td>DATA/GEOM/S_0775XX/S_07759401_GEOM.LBL</td>\n      <td>S_07759401</td>\n      <td>NaN</td>\n      <td>NaN</td>\n      <td>NaN</td>\n      <td>NaN</td>\n      <td>NaN</td>\n      <td>NaN</td>\n      <td>NaN</td>\n      <td>NaN</td>\n    </tr>\n    <tr>\n      <th>32689</th>\n      <td>MROSH_2101</td>\n      <td>DATA/RGRAM/S_0775XX/S_07759701_RGRAM.LBL</td>\n      <td>DATA/GEOM/S_0775XX/S_07759701_GEOM.LBL</td>\n      <td>S_07759701</td>\n      <td>NaN</td>\n      <td>NaN</td>\n      <td>NaN</td>\n      <td>NaN</td>\n      <td>NaN</td>\n      <td>NaN</td>\n      <td>NaN</td>\n      <td>NaN</td>\n    </tr>\n    <tr>\n      <th>32690</th>\n      <td>MROSH_2101</td>\n      <td>DATA/RGRAM/S_0775XX/S_07759901_RGRAM.LBL</td>\n      <td>DATA/GEOM/S_0775XX/S_07759901_GEOM.LBL</td>\n      <td>S_07759901</td>\n      <td>NaN</td>\n      <td>NaN</td>\n      <td>NaN</td>\n      <td>NaN</td>\n      <td>NaN</td>\n      <td>NaN</td>\n      <td>NaN</td>\n      <td>NaN</td>\n    </tr>\n  </tbody>\n</table>\n<p>32691 rows × 12 columns</p>\n</div>"
     },
     "execution_count": 21,
     "metadata": {},
     "output_type": "execute_result"
    }
   ],
   "source": [
    "# 所有的values去掉_RGRAM\n",
    "rdr_index_df[\"PRODUCT_ID\"] = index_tab[\"PRODUCT_ID\"].iloc[::2].values\n",
    "rdr_index_df[\"PRODUCT_ID\"] = rdr_index_df[\"PRODUCT_ID\"].apply(lambda x: x.replace(\"_RGRAM\", \"\"))\n",
    "rdr_index_df"
   ],
   "metadata": {
    "collapsed": false,
    "ExecuteTime": {
     "end_time": "2023-10-29T08:55:22.799579800Z",
     "start_time": "2023-10-29T08:55:22.762116900Z"
    }
   },
   "id": "50b146ed774cd838"
  },
  {
   "cell_type": "code",
   "execution_count": 22,
   "outputs": [
    {
     "data": {
      "text/plain": "        VOLUME_ID             RGRAM_FILE_SPECIFICATION_NAME  \\\n0      MROSH_2101  DATA/RGRAM/S_0016XX/S_00168901_RGRAM.LBL   \n1      MROSH_2101  DATA/RGRAM/S_0016XX/S_00168902_RGRAM.LBL   \n2      MROSH_2101  DATA/RGRAM/S_0016XX/S_00169001_RGRAM.LBL   \n3      MROSH_2101  DATA/RGRAM/S_0016XX/S_00169101_RGRAM.LBL   \n4      MROSH_2101  DATA/RGRAM/S_0016XX/S_00169102_RGRAM.LBL   \n...           ...                                       ...   \n32686  MROSH_2101  DATA/RGRAM/S_0775XX/S_07759101_RGRAM.LBL   \n32687  MROSH_2101  DATA/RGRAM/S_0775XX/S_07759301_RGRAM.LBL   \n32688  MROSH_2101  DATA/RGRAM/S_0775XX/S_07759401_RGRAM.LBL   \n32689  MROSH_2101  DATA/RGRAM/S_0775XX/S_07759701_RGRAM.LBL   \n32690  MROSH_2101  DATA/RGRAM/S_0775XX/S_07759901_RGRAM.LBL   \n\n                   GEOM_FILE_SPECIFICATION_NAME  PRODUCT_ID  \\\n0      DATA/GEOM/S_0016XX/S_00168901_GEOM.LBL    S_00168901   \n1      DATA/GEOM/S_0016XX/S_00168902_GEOM.LBL    S_00168902   \n2      DATA/GEOM/S_0016XX/S_00169001_GEOM.LBL    S_00169001   \n3      DATA/GEOM/S_0016XX/S_00169101_GEOM.LBL    S_00169101   \n4      DATA/GEOM/S_0016XX/S_00169102_GEOM.LBL    S_00169102   \n...                                         ...         ...   \n32686  DATA/GEOM/S_0775XX/S_07759101_GEOM.LBL    S_07759101   \n32687  DATA/GEOM/S_0775XX/S_07759301_GEOM.LBL    S_07759301   \n32688  DATA/GEOM/S_0775XX/S_07759401_GEOM.LBL    S_07759401   \n32689  DATA/GEOM/S_0775XX/S_07759701_GEOM.LBL    S_07759701   \n32690  DATA/GEOM/S_0775XX/S_07759901_GEOM.LBL    S_07759901   \n\n      PRODUCT_CREATION_TIME ORBIT_NUMBER START_TIME STOP_TIME  \\\n0       2021-05-19 16:15:43          NaN        NaN       NaN   \n1       2021-05-19 16:31:58          NaN        NaN       NaN   \n2       2021-05-19 16:42:04          NaN        NaN       NaN   \n3       2021-05-19 16:45:38          NaN        NaN       NaN   \n4       2021-05-19 16:50:22          NaN        NaN       NaN   \n...                     ...          ...        ...       ...   \n32686   2023-09-01 10:17:25          NaN        NaN       NaN   \n32687   2023-09-01 10:19:02          NaN        NaN       NaN   \n32688   2023-09-01 10:20:36          NaN        NaN       NaN   \n32689   2023-09-01 10:43:44          NaN        NaN       NaN   \n32690   2023-09-01 11:16:07          NaN        NaN       NaN   \n\n      MRO:START_SUB_SPACECRAFT_LATITUDE MRO:STOP_SUB_SPACECRAFT_LATITUDE  \\\n0                                   NaN                              NaN   \n1                                   NaN                              NaN   \n2                                   NaN                              NaN   \n3                                   NaN                              NaN   \n4                                   NaN                              NaN   \n...                                 ...                              ...   \n32686                               NaN                              NaN   \n32687                               NaN                              NaN   \n32688                               NaN                              NaN   \n32689                               NaN                              NaN   \n32690                               NaN                              NaN   \n\n      MRO:START_SUB_SPACECRAFT_LONGITUDE MRO:STOP_SUB_SPACECRAFT_LONGITUDE  \n0                                    NaN                               NaN  \n1                                    NaN                               NaN  \n2                                    NaN                               NaN  \n3                                    NaN                               NaN  \n4                                    NaN                               NaN  \n...                                  ...                               ...  \n32686                                NaN                               NaN  \n32687                                NaN                               NaN  \n32688                                NaN                               NaN  \n32689                                NaN                               NaN  \n32690                                NaN                               NaN  \n\n[32691 rows x 12 columns]",
      "text/html": "<div>\n<style scoped>\n    .dataframe tbody tr th:only-of-type {\n        vertical-align: middle;\n    }\n\n    .dataframe tbody tr th {\n        vertical-align: top;\n    }\n\n    .dataframe thead th {\n        text-align: right;\n    }\n</style>\n<table border=\"1\" class=\"dataframe\">\n  <thead>\n    <tr style=\"text-align: right;\">\n      <th></th>\n      <th>VOLUME_ID</th>\n      <th>RGRAM_FILE_SPECIFICATION_NAME</th>\n      <th>GEOM_FILE_SPECIFICATION_NAME</th>\n      <th>PRODUCT_ID</th>\n      <th>PRODUCT_CREATION_TIME</th>\n      <th>ORBIT_NUMBER</th>\n      <th>START_TIME</th>\n      <th>STOP_TIME</th>\n      <th>MRO:START_SUB_SPACECRAFT_LATITUDE</th>\n      <th>MRO:STOP_SUB_SPACECRAFT_LATITUDE</th>\n      <th>MRO:START_SUB_SPACECRAFT_LONGITUDE</th>\n      <th>MRO:STOP_SUB_SPACECRAFT_LONGITUDE</th>\n    </tr>\n  </thead>\n  <tbody>\n    <tr>\n      <th>0</th>\n      <td>MROSH_2101</td>\n      <td>DATA/RGRAM/S_0016XX/S_00168901_RGRAM.LBL</td>\n      <td>DATA/GEOM/S_0016XX/S_00168901_GEOM.LBL</td>\n      <td>S_00168901</td>\n      <td>2021-05-19 16:15:43</td>\n      <td>NaN</td>\n      <td>NaN</td>\n      <td>NaN</td>\n      <td>NaN</td>\n      <td>NaN</td>\n      <td>NaN</td>\n      <td>NaN</td>\n    </tr>\n    <tr>\n      <th>1</th>\n      <td>MROSH_2101</td>\n      <td>DATA/RGRAM/S_0016XX/S_00168902_RGRAM.LBL</td>\n      <td>DATA/GEOM/S_0016XX/S_00168902_GEOM.LBL</td>\n      <td>S_00168902</td>\n      <td>2021-05-19 16:31:58</td>\n      <td>NaN</td>\n      <td>NaN</td>\n      <td>NaN</td>\n      <td>NaN</td>\n      <td>NaN</td>\n      <td>NaN</td>\n      <td>NaN</td>\n    </tr>\n    <tr>\n      <th>2</th>\n      <td>MROSH_2101</td>\n      <td>DATA/RGRAM/S_0016XX/S_00169001_RGRAM.LBL</td>\n      <td>DATA/GEOM/S_0016XX/S_00169001_GEOM.LBL</td>\n      <td>S_00169001</td>\n      <td>2021-05-19 16:42:04</td>\n      <td>NaN</td>\n      <td>NaN</td>\n      <td>NaN</td>\n      <td>NaN</td>\n      <td>NaN</td>\n      <td>NaN</td>\n      <td>NaN</td>\n    </tr>\n    <tr>\n      <th>3</th>\n      <td>MROSH_2101</td>\n      <td>DATA/RGRAM/S_0016XX/S_00169101_RGRAM.LBL</td>\n      <td>DATA/GEOM/S_0016XX/S_00169101_GEOM.LBL</td>\n      <td>S_00169101</td>\n      <td>2021-05-19 16:45:38</td>\n      <td>NaN</td>\n      <td>NaN</td>\n      <td>NaN</td>\n      <td>NaN</td>\n      <td>NaN</td>\n      <td>NaN</td>\n      <td>NaN</td>\n    </tr>\n    <tr>\n      <th>4</th>\n      <td>MROSH_2101</td>\n      <td>DATA/RGRAM/S_0016XX/S_00169102_RGRAM.LBL</td>\n      <td>DATA/GEOM/S_0016XX/S_00169102_GEOM.LBL</td>\n      <td>S_00169102</td>\n      <td>2021-05-19 16:50:22</td>\n      <td>NaN</td>\n      <td>NaN</td>\n      <td>NaN</td>\n      <td>NaN</td>\n      <td>NaN</td>\n      <td>NaN</td>\n      <td>NaN</td>\n    </tr>\n    <tr>\n      <th>...</th>\n      <td>...</td>\n      <td>...</td>\n      <td>...</td>\n      <td>...</td>\n      <td>...</td>\n      <td>...</td>\n      <td>...</td>\n      <td>...</td>\n      <td>...</td>\n      <td>...</td>\n      <td>...</td>\n      <td>...</td>\n    </tr>\n    <tr>\n      <th>32686</th>\n      <td>MROSH_2101</td>\n      <td>DATA/RGRAM/S_0775XX/S_07759101_RGRAM.LBL</td>\n      <td>DATA/GEOM/S_0775XX/S_07759101_GEOM.LBL</td>\n      <td>S_07759101</td>\n      <td>2023-09-01 10:17:25</td>\n      <td>NaN</td>\n      <td>NaN</td>\n      <td>NaN</td>\n      <td>NaN</td>\n      <td>NaN</td>\n      <td>NaN</td>\n      <td>NaN</td>\n    </tr>\n    <tr>\n      <th>32687</th>\n      <td>MROSH_2101</td>\n      <td>DATA/RGRAM/S_0775XX/S_07759301_RGRAM.LBL</td>\n      <td>DATA/GEOM/S_0775XX/S_07759301_GEOM.LBL</td>\n      <td>S_07759301</td>\n      <td>2023-09-01 10:19:02</td>\n      <td>NaN</td>\n      <td>NaN</td>\n      <td>NaN</td>\n      <td>NaN</td>\n      <td>NaN</td>\n      <td>NaN</td>\n      <td>NaN</td>\n    </tr>\n    <tr>\n      <th>32688</th>\n      <td>MROSH_2101</td>\n      <td>DATA/RGRAM/S_0775XX/S_07759401_RGRAM.LBL</td>\n      <td>DATA/GEOM/S_0775XX/S_07759401_GEOM.LBL</td>\n      <td>S_07759401</td>\n      <td>2023-09-01 10:20:36</td>\n      <td>NaN</td>\n      <td>NaN</td>\n      <td>NaN</td>\n      <td>NaN</td>\n      <td>NaN</td>\n      <td>NaN</td>\n      <td>NaN</td>\n    </tr>\n    <tr>\n      <th>32689</th>\n      <td>MROSH_2101</td>\n      <td>DATA/RGRAM/S_0775XX/S_07759701_RGRAM.LBL</td>\n      <td>DATA/GEOM/S_0775XX/S_07759701_GEOM.LBL</td>\n      <td>S_07759701</td>\n      <td>2023-09-01 10:43:44</td>\n      <td>NaN</td>\n      <td>NaN</td>\n      <td>NaN</td>\n      <td>NaN</td>\n      <td>NaN</td>\n      <td>NaN</td>\n      <td>NaN</td>\n    </tr>\n    <tr>\n      <th>32690</th>\n      <td>MROSH_2101</td>\n      <td>DATA/RGRAM/S_0775XX/S_07759901_RGRAM.LBL</td>\n      <td>DATA/GEOM/S_0775XX/S_07759901_GEOM.LBL</td>\n      <td>S_07759901</td>\n      <td>2023-09-01 11:16:07</td>\n      <td>NaN</td>\n      <td>NaN</td>\n      <td>NaN</td>\n      <td>NaN</td>\n      <td>NaN</td>\n      <td>NaN</td>\n      <td>NaN</td>\n    </tr>\n  </tbody>\n</table>\n<p>32691 rows × 12 columns</p>\n</div>"
     },
     "execution_count": 22,
     "metadata": {},
     "output_type": "execute_result"
    }
   ],
   "source": [
    "rdr_index_df[\"PRODUCT_CREATION_TIME\"] = index_tab[\"PRODUCT_CREATION_TIME\"].iloc[::2].values\n",
    "rdr_index_df"
   ],
   "metadata": {
    "collapsed": false,
    "ExecuteTime": {
     "end_time": "2023-10-29T08:55:25.211338700Z",
     "start_time": "2023-10-29T08:55:25.194560500Z"
    }
   },
   "id": "5b29d64fea5f436d"
  },
  {
   "cell_type": "code",
   "execution_count": 23,
   "outputs": [
    {
     "data": {
      "text/plain": "        VOLUME_ID             RGRAM_FILE_SPECIFICATION_NAME  \\\n0      MROSH_2101  DATA/RGRAM/S_0016XX/S_00168901_RGRAM.LBL   \n1      MROSH_2101  DATA/RGRAM/S_0016XX/S_00168902_RGRAM.LBL   \n2      MROSH_2101  DATA/RGRAM/S_0016XX/S_00169001_RGRAM.LBL   \n3      MROSH_2101  DATA/RGRAM/S_0016XX/S_00169101_RGRAM.LBL   \n4      MROSH_2101  DATA/RGRAM/S_0016XX/S_00169102_RGRAM.LBL   \n...           ...                                       ...   \n32686  MROSH_2101  DATA/RGRAM/S_0775XX/S_07759101_RGRAM.LBL   \n32687  MROSH_2101  DATA/RGRAM/S_0775XX/S_07759301_RGRAM.LBL   \n32688  MROSH_2101  DATA/RGRAM/S_0775XX/S_07759401_RGRAM.LBL   \n32689  MROSH_2101  DATA/RGRAM/S_0775XX/S_07759701_RGRAM.LBL   \n32690  MROSH_2101  DATA/RGRAM/S_0775XX/S_07759901_RGRAM.LBL   \n\n                   GEOM_FILE_SPECIFICATION_NAME  PRODUCT_ID  \\\n0      DATA/GEOM/S_0016XX/S_00168901_GEOM.LBL    S_00168901   \n1      DATA/GEOM/S_0016XX/S_00168902_GEOM.LBL    S_00168902   \n2      DATA/GEOM/S_0016XX/S_00169001_GEOM.LBL    S_00169001   \n3      DATA/GEOM/S_0016XX/S_00169101_GEOM.LBL    S_00169101   \n4      DATA/GEOM/S_0016XX/S_00169102_GEOM.LBL    S_00169102   \n...                                         ...         ...   \n32686  DATA/GEOM/S_0775XX/S_07759101_GEOM.LBL    S_07759101   \n32687  DATA/GEOM/S_0775XX/S_07759301_GEOM.LBL    S_07759301   \n32688  DATA/GEOM/S_0775XX/S_07759401_GEOM.LBL    S_07759401   \n32689  DATA/GEOM/S_0775XX/S_07759701_GEOM.LBL    S_07759701   \n32690  DATA/GEOM/S_0775XX/S_07759901_GEOM.LBL    S_07759901   \n\n      PRODUCT_CREATION_TIME  ORBIT_NUMBER START_TIME STOP_TIME  \\\n0       2021-05-19 16:15:43          1689        NaN       NaN   \n1       2021-05-19 16:31:58          1689        NaN       NaN   \n2       2021-05-19 16:42:04          1690        NaN       NaN   \n3       2021-05-19 16:45:38          1691        NaN       NaN   \n4       2021-05-19 16:50:22          1691        NaN       NaN   \n...                     ...           ...        ...       ...   \n32686   2023-09-01 10:17:25         77591        NaN       NaN   \n32687   2023-09-01 10:19:02         77593        NaN       NaN   \n32688   2023-09-01 10:20:36         77594        NaN       NaN   \n32689   2023-09-01 10:43:44         77597        NaN       NaN   \n32690   2023-09-01 11:16:07         77599        NaN       NaN   \n\n      MRO:START_SUB_SPACECRAFT_LATITUDE MRO:STOP_SUB_SPACECRAFT_LATITUDE  \\\n0                                   NaN                              NaN   \n1                                   NaN                              NaN   \n2                                   NaN                              NaN   \n3                                   NaN                              NaN   \n4                                   NaN                              NaN   \n...                                 ...                              ...   \n32686                               NaN                              NaN   \n32687                               NaN                              NaN   \n32688                               NaN                              NaN   \n32689                               NaN                              NaN   \n32690                               NaN                              NaN   \n\n      MRO:START_SUB_SPACECRAFT_LONGITUDE MRO:STOP_SUB_SPACECRAFT_LONGITUDE  \n0                                    NaN                               NaN  \n1                                    NaN                               NaN  \n2                                    NaN                               NaN  \n3                                    NaN                               NaN  \n4                                    NaN                               NaN  \n...                                  ...                               ...  \n32686                                NaN                               NaN  \n32687                                NaN                               NaN  \n32688                                NaN                               NaN  \n32689                                NaN                               NaN  \n32690                                NaN                               NaN  \n\n[32691 rows x 12 columns]",
      "text/html": "<div>\n<style scoped>\n    .dataframe tbody tr th:only-of-type {\n        vertical-align: middle;\n    }\n\n    .dataframe tbody tr th {\n        vertical-align: top;\n    }\n\n    .dataframe thead th {\n        text-align: right;\n    }\n</style>\n<table border=\"1\" class=\"dataframe\">\n  <thead>\n    <tr style=\"text-align: right;\">\n      <th></th>\n      <th>VOLUME_ID</th>\n      <th>RGRAM_FILE_SPECIFICATION_NAME</th>\n      <th>GEOM_FILE_SPECIFICATION_NAME</th>\n      <th>PRODUCT_ID</th>\n      <th>PRODUCT_CREATION_TIME</th>\n      <th>ORBIT_NUMBER</th>\n      <th>START_TIME</th>\n      <th>STOP_TIME</th>\n      <th>MRO:START_SUB_SPACECRAFT_LATITUDE</th>\n      <th>MRO:STOP_SUB_SPACECRAFT_LATITUDE</th>\n      <th>MRO:START_SUB_SPACECRAFT_LONGITUDE</th>\n      <th>MRO:STOP_SUB_SPACECRAFT_LONGITUDE</th>\n    </tr>\n  </thead>\n  <tbody>\n    <tr>\n      <th>0</th>\n      <td>MROSH_2101</td>\n      <td>DATA/RGRAM/S_0016XX/S_00168901_RGRAM.LBL</td>\n      <td>DATA/GEOM/S_0016XX/S_00168901_GEOM.LBL</td>\n      <td>S_00168901</td>\n      <td>2021-05-19 16:15:43</td>\n      <td>1689</td>\n      <td>NaN</td>\n      <td>NaN</td>\n      <td>NaN</td>\n      <td>NaN</td>\n      <td>NaN</td>\n      <td>NaN</td>\n    </tr>\n    <tr>\n      <th>1</th>\n      <td>MROSH_2101</td>\n      <td>DATA/RGRAM/S_0016XX/S_00168902_RGRAM.LBL</td>\n      <td>DATA/GEOM/S_0016XX/S_00168902_GEOM.LBL</td>\n      <td>S_00168902</td>\n      <td>2021-05-19 16:31:58</td>\n      <td>1689</td>\n      <td>NaN</td>\n      <td>NaN</td>\n      <td>NaN</td>\n      <td>NaN</td>\n      <td>NaN</td>\n      <td>NaN</td>\n    </tr>\n    <tr>\n      <th>2</th>\n      <td>MROSH_2101</td>\n      <td>DATA/RGRAM/S_0016XX/S_00169001_RGRAM.LBL</td>\n      <td>DATA/GEOM/S_0016XX/S_00169001_GEOM.LBL</td>\n      <td>S_00169001</td>\n      <td>2021-05-19 16:42:04</td>\n      <td>1690</td>\n      <td>NaN</td>\n      <td>NaN</td>\n      <td>NaN</td>\n      <td>NaN</td>\n      <td>NaN</td>\n      <td>NaN</td>\n    </tr>\n    <tr>\n      <th>3</th>\n      <td>MROSH_2101</td>\n      <td>DATA/RGRAM/S_0016XX/S_00169101_RGRAM.LBL</td>\n      <td>DATA/GEOM/S_0016XX/S_00169101_GEOM.LBL</td>\n      <td>S_00169101</td>\n      <td>2021-05-19 16:45:38</td>\n      <td>1691</td>\n      <td>NaN</td>\n      <td>NaN</td>\n      <td>NaN</td>\n      <td>NaN</td>\n      <td>NaN</td>\n      <td>NaN</td>\n    </tr>\n    <tr>\n      <th>4</th>\n      <td>MROSH_2101</td>\n      <td>DATA/RGRAM/S_0016XX/S_00169102_RGRAM.LBL</td>\n      <td>DATA/GEOM/S_0016XX/S_00169102_GEOM.LBL</td>\n      <td>S_00169102</td>\n      <td>2021-05-19 16:50:22</td>\n      <td>1691</td>\n      <td>NaN</td>\n      <td>NaN</td>\n      <td>NaN</td>\n      <td>NaN</td>\n      <td>NaN</td>\n      <td>NaN</td>\n    </tr>\n    <tr>\n      <th>...</th>\n      <td>...</td>\n      <td>...</td>\n      <td>...</td>\n      <td>...</td>\n      <td>...</td>\n      <td>...</td>\n      <td>...</td>\n      <td>...</td>\n      <td>...</td>\n      <td>...</td>\n      <td>...</td>\n      <td>...</td>\n    </tr>\n    <tr>\n      <th>32686</th>\n      <td>MROSH_2101</td>\n      <td>DATA/RGRAM/S_0775XX/S_07759101_RGRAM.LBL</td>\n      <td>DATA/GEOM/S_0775XX/S_07759101_GEOM.LBL</td>\n      <td>S_07759101</td>\n      <td>2023-09-01 10:17:25</td>\n      <td>77591</td>\n      <td>NaN</td>\n      <td>NaN</td>\n      <td>NaN</td>\n      <td>NaN</td>\n      <td>NaN</td>\n      <td>NaN</td>\n    </tr>\n    <tr>\n      <th>32687</th>\n      <td>MROSH_2101</td>\n      <td>DATA/RGRAM/S_0775XX/S_07759301_RGRAM.LBL</td>\n      <td>DATA/GEOM/S_0775XX/S_07759301_GEOM.LBL</td>\n      <td>S_07759301</td>\n      <td>2023-09-01 10:19:02</td>\n      <td>77593</td>\n      <td>NaN</td>\n      <td>NaN</td>\n      <td>NaN</td>\n      <td>NaN</td>\n      <td>NaN</td>\n      <td>NaN</td>\n    </tr>\n    <tr>\n      <th>32688</th>\n      <td>MROSH_2101</td>\n      <td>DATA/RGRAM/S_0775XX/S_07759401_RGRAM.LBL</td>\n      <td>DATA/GEOM/S_0775XX/S_07759401_GEOM.LBL</td>\n      <td>S_07759401</td>\n      <td>2023-09-01 10:20:36</td>\n      <td>77594</td>\n      <td>NaN</td>\n      <td>NaN</td>\n      <td>NaN</td>\n      <td>NaN</td>\n      <td>NaN</td>\n      <td>NaN</td>\n    </tr>\n    <tr>\n      <th>32689</th>\n      <td>MROSH_2101</td>\n      <td>DATA/RGRAM/S_0775XX/S_07759701_RGRAM.LBL</td>\n      <td>DATA/GEOM/S_0775XX/S_07759701_GEOM.LBL</td>\n      <td>S_07759701</td>\n      <td>2023-09-01 10:43:44</td>\n      <td>77597</td>\n      <td>NaN</td>\n      <td>NaN</td>\n      <td>NaN</td>\n      <td>NaN</td>\n      <td>NaN</td>\n      <td>NaN</td>\n    </tr>\n    <tr>\n      <th>32690</th>\n      <td>MROSH_2101</td>\n      <td>DATA/RGRAM/S_0775XX/S_07759901_RGRAM.LBL</td>\n      <td>DATA/GEOM/S_0775XX/S_07759901_GEOM.LBL</td>\n      <td>S_07759901</td>\n      <td>2023-09-01 11:16:07</td>\n      <td>77599</td>\n      <td>NaN</td>\n      <td>NaN</td>\n      <td>NaN</td>\n      <td>NaN</td>\n      <td>NaN</td>\n      <td>NaN</td>\n    </tr>\n  </tbody>\n</table>\n<p>32691 rows × 12 columns</p>\n</div>"
     },
     "execution_count": 23,
     "metadata": {},
     "output_type": "execute_result"
    }
   ],
   "source": [
    "rdr_index_df[\"ORBIT_NUMBER\"] = index_tab[\"ORBIT_NUMBER\"].iloc[::2].values\n",
    "rdr_index_df"
   ],
   "metadata": {
    "collapsed": false,
    "ExecuteTime": {
     "end_time": "2023-10-29T08:55:25.902203600Z",
     "start_time": "2023-10-29T08:55:25.887200500Z"
    }
   },
   "id": "36d61b65db034c9e"
  },
  {
   "cell_type": "code",
   "execution_count": 24,
   "outputs": [],
   "source": [
    "rdr_index_df[\"START_TIME\"] = index_tab[\"START_TIME\"].iloc[::2].values\n",
    "rdr_index_df[\"STOP_TIME\"] = index_tab[\"STOP_TIME\"].iloc[::2].values"
   ],
   "metadata": {
    "collapsed": false,
    "ExecuteTime": {
     "end_time": "2023-10-29T08:55:26.514919400Z",
     "start_time": "2023-10-29T08:55:26.498916Z"
    }
   },
   "id": "fc1eb92e2e4dd1d2"
  },
  {
   "cell_type": "code",
   "execution_count": 25,
   "outputs": [
    {
     "data": {
      "text/plain": "        VOLUME_ID             RGRAM_FILE_SPECIFICATION_NAME  \\\n0      MROSH_2101  DATA/RGRAM/S_0016XX/S_00168901_RGRAM.LBL   \n1      MROSH_2101  DATA/RGRAM/S_0016XX/S_00168902_RGRAM.LBL   \n2      MROSH_2101  DATA/RGRAM/S_0016XX/S_00169001_RGRAM.LBL   \n3      MROSH_2101  DATA/RGRAM/S_0016XX/S_00169101_RGRAM.LBL   \n4      MROSH_2101  DATA/RGRAM/S_0016XX/S_00169102_RGRAM.LBL   \n...           ...                                       ...   \n32686  MROSH_2101  DATA/RGRAM/S_0775XX/S_07759101_RGRAM.LBL   \n32687  MROSH_2101  DATA/RGRAM/S_0775XX/S_07759301_RGRAM.LBL   \n32688  MROSH_2101  DATA/RGRAM/S_0775XX/S_07759401_RGRAM.LBL   \n32689  MROSH_2101  DATA/RGRAM/S_0775XX/S_07759701_RGRAM.LBL   \n32690  MROSH_2101  DATA/RGRAM/S_0775XX/S_07759901_RGRAM.LBL   \n\n                   GEOM_FILE_SPECIFICATION_NAME  PRODUCT_ID  \\\n0      DATA/GEOM/S_0016XX/S_00168901_GEOM.LBL    S_00168901   \n1      DATA/GEOM/S_0016XX/S_00168902_GEOM.LBL    S_00168902   \n2      DATA/GEOM/S_0016XX/S_00169001_GEOM.LBL    S_00169001   \n3      DATA/GEOM/S_0016XX/S_00169101_GEOM.LBL    S_00169101   \n4      DATA/GEOM/S_0016XX/S_00169102_GEOM.LBL    S_00169102   \n...                                         ...         ...   \n32686  DATA/GEOM/S_0775XX/S_07759101_GEOM.LBL    S_07759101   \n32687  DATA/GEOM/S_0775XX/S_07759301_GEOM.LBL    S_07759301   \n32688  DATA/GEOM/S_0775XX/S_07759401_GEOM.LBL    S_07759401   \n32689  DATA/GEOM/S_0775XX/S_07759701_GEOM.LBL    S_07759701   \n32690  DATA/GEOM/S_0775XX/S_07759901_GEOM.LBL    S_07759901   \n\n      PRODUCT_CREATION_TIME  ORBIT_NUMBER          START_TIME  \\\n0       2021-05-19 16:15:43          1689 2006-12-06 02:08:22   \n1       2021-05-19 16:31:58          1689 2006-12-06 02:18:01   \n2       2021-05-19 16:42:04          1690 2006-12-06 02:51:42   \n3       2021-05-19 16:45:38          1691 2006-12-06 04:44:28   \n4       2021-05-19 16:50:22          1691 2006-12-06 05:42:47   \n...                     ...           ...                 ...   \n32686   2023-09-01 10:17:25         77591 2023-02-14 05:33:14   \n32687   2023-09-01 10:19:02         77593 2023-02-14 08:03:03   \n32688   2023-09-01 10:20:36         77594 2023-02-14 11:20:52   \n32689   2023-09-01 10:43:44         77597 2023-02-14 16:54:41   \n32690   2023-09-01 11:16:07         77599 2023-02-14 19:36:25   \n\n                STOP_TIME  MRO:START_SUB_SPACECRAFT_LATITUDE  \\\n0     2006-12-06 02:09:48                          64.239113   \n1     2006-12-06 02:23:19                          33.739494   \n2     2006-12-06 02:54:57                         -74.827200   \n3     2006-12-06 04:45:34                         -76.866730   \n4     2006-12-06 05:44:17                          83.964035   \n...                   ...                                ...   \n32686 2023-02-14 05:47:33                          74.844500   \n32687 2023-02-14 08:03:48                         -45.199100   \n32688 2023-02-14 11:21:36                          40.369400   \n32689 2023-02-14 17:05:40                          49.673500   \n32690 2023-02-14 19:51:43                         -69.484900   \n\n       MRO:STOP_SUB_SPACECRAFT_LATITUDE  MRO:START_SUB_SPACECRAFT_LONGITUDE  \\\n0                             59.864001                           230.67676   \n1                             16.945915                           224.53175   \n2                            -84.810770                           204.73080   \n3                            -80.227130                           175.83772   \n4                             87.306125                           327.58539   \n...                                 ...                                 ...   \n32686                         29.719900                           271.67000   \n32687                        -47.627100                           222.47700   \n32688                         38.010900                           179.25300   \n32689                         14.801100                            99.00460   \n32690                        -19.964900                           243.75300   \n\n       MRO:STOP_SUB_SPACECRAFT_LONGITUDE  \n0                              229.39072  \n1                              222.27309  \n2                              183.15657  \n3                              171.49601  \n4                              278.40146  \n...                                  ...  \n32686                          259.68500  \n32687                          222.05600  \n32688                          178.89300  \n32689                           93.85090  \n32690                          233.72000  \n\n[32691 rows x 12 columns]",
      "text/html": "<div>\n<style scoped>\n    .dataframe tbody tr th:only-of-type {\n        vertical-align: middle;\n    }\n\n    .dataframe tbody tr th {\n        vertical-align: top;\n    }\n\n    .dataframe thead th {\n        text-align: right;\n    }\n</style>\n<table border=\"1\" class=\"dataframe\">\n  <thead>\n    <tr style=\"text-align: right;\">\n      <th></th>\n      <th>VOLUME_ID</th>\n      <th>RGRAM_FILE_SPECIFICATION_NAME</th>\n      <th>GEOM_FILE_SPECIFICATION_NAME</th>\n      <th>PRODUCT_ID</th>\n      <th>PRODUCT_CREATION_TIME</th>\n      <th>ORBIT_NUMBER</th>\n      <th>START_TIME</th>\n      <th>STOP_TIME</th>\n      <th>MRO:START_SUB_SPACECRAFT_LATITUDE</th>\n      <th>MRO:STOP_SUB_SPACECRAFT_LATITUDE</th>\n      <th>MRO:START_SUB_SPACECRAFT_LONGITUDE</th>\n      <th>MRO:STOP_SUB_SPACECRAFT_LONGITUDE</th>\n    </tr>\n  </thead>\n  <tbody>\n    <tr>\n      <th>0</th>\n      <td>MROSH_2101</td>\n      <td>DATA/RGRAM/S_0016XX/S_00168901_RGRAM.LBL</td>\n      <td>DATA/GEOM/S_0016XX/S_00168901_GEOM.LBL</td>\n      <td>S_00168901</td>\n      <td>2021-05-19 16:15:43</td>\n      <td>1689</td>\n      <td>2006-12-06 02:08:22</td>\n      <td>2006-12-06 02:09:48</td>\n      <td>64.239113</td>\n      <td>59.864001</td>\n      <td>230.67676</td>\n      <td>229.39072</td>\n    </tr>\n    <tr>\n      <th>1</th>\n      <td>MROSH_2101</td>\n      <td>DATA/RGRAM/S_0016XX/S_00168902_RGRAM.LBL</td>\n      <td>DATA/GEOM/S_0016XX/S_00168902_GEOM.LBL</td>\n      <td>S_00168902</td>\n      <td>2021-05-19 16:31:58</td>\n      <td>1689</td>\n      <td>2006-12-06 02:18:01</td>\n      <td>2006-12-06 02:23:19</td>\n      <td>33.739494</td>\n      <td>16.945915</td>\n      <td>224.53175</td>\n      <td>222.27309</td>\n    </tr>\n    <tr>\n      <th>2</th>\n      <td>MROSH_2101</td>\n      <td>DATA/RGRAM/S_0016XX/S_00169001_RGRAM.LBL</td>\n      <td>DATA/GEOM/S_0016XX/S_00169001_GEOM.LBL</td>\n      <td>S_00169001</td>\n      <td>2021-05-19 16:42:04</td>\n      <td>1690</td>\n      <td>2006-12-06 02:51:42</td>\n      <td>2006-12-06 02:54:57</td>\n      <td>-74.827200</td>\n      <td>-84.810770</td>\n      <td>204.73080</td>\n      <td>183.15657</td>\n    </tr>\n    <tr>\n      <th>3</th>\n      <td>MROSH_2101</td>\n      <td>DATA/RGRAM/S_0016XX/S_00169101_RGRAM.LBL</td>\n      <td>DATA/GEOM/S_0016XX/S_00169101_GEOM.LBL</td>\n      <td>S_00169101</td>\n      <td>2021-05-19 16:45:38</td>\n      <td>1691</td>\n      <td>2006-12-06 04:44:28</td>\n      <td>2006-12-06 04:45:34</td>\n      <td>-76.866730</td>\n      <td>-80.227130</td>\n      <td>175.83772</td>\n      <td>171.49601</td>\n    </tr>\n    <tr>\n      <th>4</th>\n      <td>MROSH_2101</td>\n      <td>DATA/RGRAM/S_0016XX/S_00169102_RGRAM.LBL</td>\n      <td>DATA/GEOM/S_0016XX/S_00169102_GEOM.LBL</td>\n      <td>S_00169102</td>\n      <td>2021-05-19 16:50:22</td>\n      <td>1691</td>\n      <td>2006-12-06 05:42:47</td>\n      <td>2006-12-06 05:44:17</td>\n      <td>83.964035</td>\n      <td>87.306125</td>\n      <td>327.58539</td>\n      <td>278.40146</td>\n    </tr>\n    <tr>\n      <th>...</th>\n      <td>...</td>\n      <td>...</td>\n      <td>...</td>\n      <td>...</td>\n      <td>...</td>\n      <td>...</td>\n      <td>...</td>\n      <td>...</td>\n      <td>...</td>\n      <td>...</td>\n      <td>...</td>\n      <td>...</td>\n    </tr>\n    <tr>\n      <th>32686</th>\n      <td>MROSH_2101</td>\n      <td>DATA/RGRAM/S_0775XX/S_07759101_RGRAM.LBL</td>\n      <td>DATA/GEOM/S_0775XX/S_07759101_GEOM.LBL</td>\n      <td>S_07759101</td>\n      <td>2023-09-01 10:17:25</td>\n      <td>77591</td>\n      <td>2023-02-14 05:33:14</td>\n      <td>2023-02-14 05:47:33</td>\n      <td>74.844500</td>\n      <td>29.719900</td>\n      <td>271.67000</td>\n      <td>259.68500</td>\n    </tr>\n    <tr>\n      <th>32687</th>\n      <td>MROSH_2101</td>\n      <td>DATA/RGRAM/S_0775XX/S_07759301_RGRAM.LBL</td>\n      <td>DATA/GEOM/S_0775XX/S_07759301_GEOM.LBL</td>\n      <td>S_07759301</td>\n      <td>2023-09-01 10:19:02</td>\n      <td>77593</td>\n      <td>2023-02-14 08:03:03</td>\n      <td>2023-02-14 08:03:48</td>\n      <td>-45.199100</td>\n      <td>-47.627100</td>\n      <td>222.47700</td>\n      <td>222.05600</td>\n    </tr>\n    <tr>\n      <th>32688</th>\n      <td>MROSH_2101</td>\n      <td>DATA/RGRAM/S_0775XX/S_07759401_RGRAM.LBL</td>\n      <td>DATA/GEOM/S_0775XX/S_07759401_GEOM.LBL</td>\n      <td>S_07759401</td>\n      <td>2023-09-01 10:20:36</td>\n      <td>77594</td>\n      <td>2023-02-14 11:20:52</td>\n      <td>2023-02-14 11:21:36</td>\n      <td>40.369400</td>\n      <td>38.010900</td>\n      <td>179.25300</td>\n      <td>178.89300</td>\n    </tr>\n    <tr>\n      <th>32689</th>\n      <td>MROSH_2101</td>\n      <td>DATA/RGRAM/S_0775XX/S_07759701_RGRAM.LBL</td>\n      <td>DATA/GEOM/S_0775XX/S_07759701_GEOM.LBL</td>\n      <td>S_07759701</td>\n      <td>2023-09-01 10:43:44</td>\n      <td>77597</td>\n      <td>2023-02-14 16:54:41</td>\n      <td>2023-02-14 17:05:40</td>\n      <td>49.673500</td>\n      <td>14.801100</td>\n      <td>99.00460</td>\n      <td>93.85090</td>\n    </tr>\n    <tr>\n      <th>32690</th>\n      <td>MROSH_2101</td>\n      <td>DATA/RGRAM/S_0775XX/S_07759901_RGRAM.LBL</td>\n      <td>DATA/GEOM/S_0775XX/S_07759901_GEOM.LBL</td>\n      <td>S_07759901</td>\n      <td>2023-09-01 11:16:07</td>\n      <td>77599</td>\n      <td>2023-02-14 19:36:25</td>\n      <td>2023-02-14 19:51:43</td>\n      <td>-69.484900</td>\n      <td>-19.964900</td>\n      <td>243.75300</td>\n      <td>233.72000</td>\n    </tr>\n  </tbody>\n</table>\n<p>32691 rows × 12 columns</p>\n</div>"
     },
     "execution_count": 25,
     "metadata": {},
     "output_type": "execute_result"
    }
   ],
   "source": [
    "rdr_index_df[\"MRO:START_SUB_SPACECRAFT_LATITUDE\"] = index_tab[\"MRO:START_SUB_SPACECRAFT_LATITUDE\"].iloc[::2].values\n",
    "rdr_index_df[\"MRO:STOP_SUB_SPACECRAFT_LATITUDE\"] = index_tab[\"MRO:STOP_SUB_SPACECRAFT_LATITUDE\"].iloc[::2].values\n",
    "rdr_index_df[\"MRO:START_SUB_SPACECRAFT_LONGITUDE\"] = index_tab[\"MRO:START_SUB_SPACECRAFT_LONGITUDE\"].iloc[::2].values\n",
    "rdr_index_df[\"MRO:STOP_SUB_SPACECRAFT_LONGITUDE\"] = index_tab[\"MRO:STOP_SUB_SPACECRAFT_LONGITUDE\"].iloc[::2].values\n",
    "rdr_index_df"
   ],
   "metadata": {
    "collapsed": false,
    "ExecuteTime": {
     "end_time": "2023-10-29T08:55:28.873344900Z",
     "start_time": "2023-10-29T08:55:28.856340400Z"
    }
   },
   "id": "2b330ba5e26d6f60"
  },
  {
   "cell_type": "code",
   "execution_count": 26,
   "outputs": [
    {
     "data": {
      "text/plain": "        VOLUME_ID             RGRAM_FILE_SPECIFICATION_NAME  \\\n0      MROSH_2101  DATA/RGRAM/S_0016XX/S_00168901_RGRAM.LBL   \n1      MROSH_2101  DATA/RGRAM/S_0016XX/S_00168902_RGRAM.LBL   \n2      MROSH_2101  DATA/RGRAM/S_0016XX/S_00169001_RGRAM.LBL   \n3      MROSH_2101  DATA/RGRAM/S_0016XX/S_00169101_RGRAM.LBL   \n4      MROSH_2101  DATA/RGRAM/S_0016XX/S_00169102_RGRAM.LBL   \n...           ...                                       ...   \n32686  MROSH_2101  DATA/RGRAM/S_0775XX/S_07759101_RGRAM.LBL   \n32687  MROSH_2101  DATA/RGRAM/S_0775XX/S_07759301_RGRAM.LBL   \n32688  MROSH_2101  DATA/RGRAM/S_0775XX/S_07759401_RGRAM.LBL   \n32689  MROSH_2101  DATA/RGRAM/S_0775XX/S_07759701_RGRAM.LBL   \n32690  MROSH_2101  DATA/RGRAM/S_0775XX/S_07759901_RGRAM.LBL   \n\n                   GEOM_FILE_SPECIFICATION_NAME  PRODUCT_ID  \\\n0      DATA/GEOM/S_0016XX/S_00168901_GEOM.LBL    S_00168901   \n1      DATA/GEOM/S_0016XX/S_00168902_GEOM.LBL    S_00168902   \n2      DATA/GEOM/S_0016XX/S_00169001_GEOM.LBL    S_00169001   \n3      DATA/GEOM/S_0016XX/S_00169101_GEOM.LBL    S_00169101   \n4      DATA/GEOM/S_0016XX/S_00169102_GEOM.LBL    S_00169102   \n...                                         ...         ...   \n32686  DATA/GEOM/S_0775XX/S_07759101_GEOM.LBL    S_07759101   \n32687  DATA/GEOM/S_0775XX/S_07759301_GEOM.LBL    S_07759301   \n32688  DATA/GEOM/S_0775XX/S_07759401_GEOM.LBL    S_07759401   \n32689  DATA/GEOM/S_0775XX/S_07759701_GEOM.LBL    S_07759701   \n32690  DATA/GEOM/S_0775XX/S_07759901_GEOM.LBL    S_07759901   \n\n      PRODUCT_CREATION_TIME  ORBIT_NUMBER          START_TIME  \\\n0       2021-05-19 16:15:43          1689 2006-12-06 02:08:22   \n1       2021-05-19 16:31:58          1689 2006-12-06 02:18:01   \n2       2021-05-19 16:42:04          1690 2006-12-06 02:51:42   \n3       2021-05-19 16:45:38          1691 2006-12-06 04:44:28   \n4       2021-05-19 16:50:22          1691 2006-12-06 05:42:47   \n...                     ...           ...                 ...   \n32686   2023-09-01 10:17:25         77591 2023-02-14 05:33:14   \n32687   2023-09-01 10:19:02         77593 2023-02-14 08:03:03   \n32688   2023-09-01 10:20:36         77594 2023-02-14 11:20:52   \n32689   2023-09-01 10:43:44         77597 2023-02-14 16:54:41   \n32690   2023-09-01 11:16:07         77599 2023-02-14 19:36:25   \n\n                STOP_TIME  MRO:START_SUB_SPACECRAFT_LATITUDE  \\\n0     2006-12-06 02:09:48                          64.239113   \n1     2006-12-06 02:23:19                          33.739494   \n2     2006-12-06 02:54:57                         -74.827200   \n3     2006-12-06 04:45:34                         -76.866730   \n4     2006-12-06 05:44:17                          83.964035   \n...                   ...                                ...   \n32686 2023-02-14 05:47:33                          74.844500   \n32687 2023-02-14 08:03:48                         -45.199100   \n32688 2023-02-14 11:21:36                          40.369400   \n32689 2023-02-14 17:05:40                          49.673500   \n32690 2023-02-14 19:51:43                         -69.484900   \n\n       MRO:STOP_SUB_SPACECRAFT_LATITUDE  MRO:START_SUB_SPACECRAFT_LONGITUDE  \\\n0                             59.864001                          -129.32324   \n1                             16.945915                          -135.46825   \n2                            -84.810770                          -155.26920   \n3                            -80.227130                           175.83772   \n4                             87.306125                           -32.41461   \n...                                 ...                                 ...   \n32686                         29.719900                           -88.33000   \n32687                        -47.627100                          -137.52300   \n32688                         38.010900                           179.25300   \n32689                         14.801100                            99.00460   \n32690                        -19.964900                          -116.24700   \n\n       MRO:STOP_SUB_SPACECRAFT_LONGITUDE  \n0                             -130.60928  \n1                             -137.72691  \n2                             -176.84343  \n3                              171.49601  \n4                              -81.59854  \n...                                  ...  \n32686                         -100.31500  \n32687                         -137.94400  \n32688                          178.89300  \n32689                           93.85090  \n32690                         -126.28000  \n\n[32691 rows x 12 columns]",
      "text/html": "<div>\n<style scoped>\n    .dataframe tbody tr th:only-of-type {\n        vertical-align: middle;\n    }\n\n    .dataframe tbody tr th {\n        vertical-align: top;\n    }\n\n    .dataframe thead th {\n        text-align: right;\n    }\n</style>\n<table border=\"1\" class=\"dataframe\">\n  <thead>\n    <tr style=\"text-align: right;\">\n      <th></th>\n      <th>VOLUME_ID</th>\n      <th>RGRAM_FILE_SPECIFICATION_NAME</th>\n      <th>GEOM_FILE_SPECIFICATION_NAME</th>\n      <th>PRODUCT_ID</th>\n      <th>PRODUCT_CREATION_TIME</th>\n      <th>ORBIT_NUMBER</th>\n      <th>START_TIME</th>\n      <th>STOP_TIME</th>\n      <th>MRO:START_SUB_SPACECRAFT_LATITUDE</th>\n      <th>MRO:STOP_SUB_SPACECRAFT_LATITUDE</th>\n      <th>MRO:START_SUB_SPACECRAFT_LONGITUDE</th>\n      <th>MRO:STOP_SUB_SPACECRAFT_LONGITUDE</th>\n    </tr>\n  </thead>\n  <tbody>\n    <tr>\n      <th>0</th>\n      <td>MROSH_2101</td>\n      <td>DATA/RGRAM/S_0016XX/S_00168901_RGRAM.LBL</td>\n      <td>DATA/GEOM/S_0016XX/S_00168901_GEOM.LBL</td>\n      <td>S_00168901</td>\n      <td>2021-05-19 16:15:43</td>\n      <td>1689</td>\n      <td>2006-12-06 02:08:22</td>\n      <td>2006-12-06 02:09:48</td>\n      <td>64.239113</td>\n      <td>59.864001</td>\n      <td>-129.32324</td>\n      <td>-130.60928</td>\n    </tr>\n    <tr>\n      <th>1</th>\n      <td>MROSH_2101</td>\n      <td>DATA/RGRAM/S_0016XX/S_00168902_RGRAM.LBL</td>\n      <td>DATA/GEOM/S_0016XX/S_00168902_GEOM.LBL</td>\n      <td>S_00168902</td>\n      <td>2021-05-19 16:31:58</td>\n      <td>1689</td>\n      <td>2006-12-06 02:18:01</td>\n      <td>2006-12-06 02:23:19</td>\n      <td>33.739494</td>\n      <td>16.945915</td>\n      <td>-135.46825</td>\n      <td>-137.72691</td>\n    </tr>\n    <tr>\n      <th>2</th>\n      <td>MROSH_2101</td>\n      <td>DATA/RGRAM/S_0016XX/S_00169001_RGRAM.LBL</td>\n      <td>DATA/GEOM/S_0016XX/S_00169001_GEOM.LBL</td>\n      <td>S_00169001</td>\n      <td>2021-05-19 16:42:04</td>\n      <td>1690</td>\n      <td>2006-12-06 02:51:42</td>\n      <td>2006-12-06 02:54:57</td>\n      <td>-74.827200</td>\n      <td>-84.810770</td>\n      <td>-155.26920</td>\n      <td>-176.84343</td>\n    </tr>\n    <tr>\n      <th>3</th>\n      <td>MROSH_2101</td>\n      <td>DATA/RGRAM/S_0016XX/S_00169101_RGRAM.LBL</td>\n      <td>DATA/GEOM/S_0016XX/S_00169101_GEOM.LBL</td>\n      <td>S_00169101</td>\n      <td>2021-05-19 16:45:38</td>\n      <td>1691</td>\n      <td>2006-12-06 04:44:28</td>\n      <td>2006-12-06 04:45:34</td>\n      <td>-76.866730</td>\n      <td>-80.227130</td>\n      <td>175.83772</td>\n      <td>171.49601</td>\n    </tr>\n    <tr>\n      <th>4</th>\n      <td>MROSH_2101</td>\n      <td>DATA/RGRAM/S_0016XX/S_00169102_RGRAM.LBL</td>\n      <td>DATA/GEOM/S_0016XX/S_00169102_GEOM.LBL</td>\n      <td>S_00169102</td>\n      <td>2021-05-19 16:50:22</td>\n      <td>1691</td>\n      <td>2006-12-06 05:42:47</td>\n      <td>2006-12-06 05:44:17</td>\n      <td>83.964035</td>\n      <td>87.306125</td>\n      <td>-32.41461</td>\n      <td>-81.59854</td>\n    </tr>\n    <tr>\n      <th>...</th>\n      <td>...</td>\n      <td>...</td>\n      <td>...</td>\n      <td>...</td>\n      <td>...</td>\n      <td>...</td>\n      <td>...</td>\n      <td>...</td>\n      <td>...</td>\n      <td>...</td>\n      <td>...</td>\n      <td>...</td>\n    </tr>\n    <tr>\n      <th>32686</th>\n      <td>MROSH_2101</td>\n      <td>DATA/RGRAM/S_0775XX/S_07759101_RGRAM.LBL</td>\n      <td>DATA/GEOM/S_0775XX/S_07759101_GEOM.LBL</td>\n      <td>S_07759101</td>\n      <td>2023-09-01 10:17:25</td>\n      <td>77591</td>\n      <td>2023-02-14 05:33:14</td>\n      <td>2023-02-14 05:47:33</td>\n      <td>74.844500</td>\n      <td>29.719900</td>\n      <td>-88.33000</td>\n      <td>-100.31500</td>\n    </tr>\n    <tr>\n      <th>32687</th>\n      <td>MROSH_2101</td>\n      <td>DATA/RGRAM/S_0775XX/S_07759301_RGRAM.LBL</td>\n      <td>DATA/GEOM/S_0775XX/S_07759301_GEOM.LBL</td>\n      <td>S_07759301</td>\n      <td>2023-09-01 10:19:02</td>\n      <td>77593</td>\n      <td>2023-02-14 08:03:03</td>\n      <td>2023-02-14 08:03:48</td>\n      <td>-45.199100</td>\n      <td>-47.627100</td>\n      <td>-137.52300</td>\n      <td>-137.94400</td>\n    </tr>\n    <tr>\n      <th>32688</th>\n      <td>MROSH_2101</td>\n      <td>DATA/RGRAM/S_0775XX/S_07759401_RGRAM.LBL</td>\n      <td>DATA/GEOM/S_0775XX/S_07759401_GEOM.LBL</td>\n      <td>S_07759401</td>\n      <td>2023-09-01 10:20:36</td>\n      <td>77594</td>\n      <td>2023-02-14 11:20:52</td>\n      <td>2023-02-14 11:21:36</td>\n      <td>40.369400</td>\n      <td>38.010900</td>\n      <td>179.25300</td>\n      <td>178.89300</td>\n    </tr>\n    <tr>\n      <th>32689</th>\n      <td>MROSH_2101</td>\n      <td>DATA/RGRAM/S_0775XX/S_07759701_RGRAM.LBL</td>\n      <td>DATA/GEOM/S_0775XX/S_07759701_GEOM.LBL</td>\n      <td>S_07759701</td>\n      <td>2023-09-01 10:43:44</td>\n      <td>77597</td>\n      <td>2023-02-14 16:54:41</td>\n      <td>2023-02-14 17:05:40</td>\n      <td>49.673500</td>\n      <td>14.801100</td>\n      <td>99.00460</td>\n      <td>93.85090</td>\n    </tr>\n    <tr>\n      <th>32690</th>\n      <td>MROSH_2101</td>\n      <td>DATA/RGRAM/S_0775XX/S_07759901_RGRAM.LBL</td>\n      <td>DATA/GEOM/S_0775XX/S_07759901_GEOM.LBL</td>\n      <td>S_07759901</td>\n      <td>2023-09-01 11:16:07</td>\n      <td>77599</td>\n      <td>2023-02-14 19:36:25</td>\n      <td>2023-02-14 19:51:43</td>\n      <td>-69.484900</td>\n      <td>-19.964900</td>\n      <td>-116.24700</td>\n      <td>-126.28000</td>\n    </tr>\n  </tbody>\n</table>\n<p>32691 rows × 12 columns</p>\n</div>"
     },
     "execution_count": 26,
     "metadata": {},
     "output_type": "execute_result"
    }
   ],
   "source": [
    "# 处理经度是的和MOLA一致，即东经为正，西经为负\n",
    "rdr_index_df[\"MRO:START_SUB_SPACECRAFT_LONGITUDE\"] = rdr_index_df[\"MRO:START_SUB_SPACECRAFT_LONGITUDE\"].apply(lambda x: x if x < 180 else x - 360)\n",
    "rdr_index_df[\"MRO:STOP_SUB_SPACECRAFT_LONGITUDE\"] = rdr_index_df[\"MRO:STOP_SUB_SPACECRAFT_LONGITUDE\"].apply(lambda x: x if x < 180 else x - 360)\n",
    "rdr_index_df"
   ],
   "metadata": {
    "collapsed": false,
    "ExecuteTime": {
     "end_time": "2023-10-29T08:55:29.905463800Z",
     "start_time": "2023-10-29T08:55:29.878458600Z"
    }
   },
   "id": "54cc5aa84030e456"
  },
  {
   "cell_type": "code",
   "execution_count": 27,
   "outputs": [
    {
     "data": {
      "text/plain": "['VOLUME_ID',\n 'RGRAM_FILE_SPECIFICATION_NAME',\n 'GEOM_FILE_SPECIFICATION_NAME',\n 'PRODUCT_ID',\n 'PRODUCT_CREATION_TIME',\n 'ORBIT_NUMBER',\n 'START_TIME',\n 'STOP_TIME',\n 'MRO:START_SUB_SPACECRAFT_LATITUDE',\n 'MRO:STOP_SUB_SPACECRAFT_LATITUDE',\n 'MRO:START_SUB_SPACECRAFT_LONGITUDE',\n 'MRO:STOP_SUB_SPACECRAFT_LONGITUDE']"
     },
     "execution_count": 27,
     "metadata": {},
     "output_type": "execute_result"
    }
   ],
   "source": [
    "list(rdr_index_df.columns)"
   ],
   "metadata": {
    "collapsed": false,
    "ExecuteTime": {
     "end_time": "2023-10-29T08:55:31.489894700Z",
     "start_time": "2023-10-29T08:55:31.476349500Z"
    }
   },
   "id": "8798742799fe50e2"
  },
  {
   "cell_type": "code",
   "execution_count": 28,
   "outputs": [
    {
     "data": {
      "text/plain": "True"
     },
     "execution_count": 28,
     "metadata": {},
     "output_type": "execute_result"
    }
   ],
   "source": [
    "# rdr_index_df的PRODUCT_ID和是否是唯一的\n",
    "rdr_index_df[\"PRODUCT_ID\"].is_unique"
   ],
   "metadata": {
    "collapsed": false,
    "ExecuteTime": {
     "end_time": "2023-10-29T09:08:48.984896Z",
     "start_time": "2023-10-29T09:08:48.958892Z"
    }
   },
   "id": "5066521e3bbe94b9"
  },
  {
   "cell_type": "code",
   "execution_count": null,
   "outputs": [],
   "source": [],
   "metadata": {
    "collapsed": false
   },
   "id": "f26e5ba20445b4bb"
  }
 ],
 "metadata": {
  "kernelspec": {
   "display_name": "Python 3",
   "language": "python",
   "name": "python3"
  },
  "language_info": {
   "codemirror_mode": {
    "name": "ipython",
    "version": 2
   },
   "file_extension": ".py",
   "mimetype": "text/x-python",
   "name": "python",
   "nbconvert_exporter": "python",
   "pygments_lexer": "ipython2",
   "version": "2.7.6"
  }
 },
 "nbformat": 4,
 "nbformat_minor": 5
}
