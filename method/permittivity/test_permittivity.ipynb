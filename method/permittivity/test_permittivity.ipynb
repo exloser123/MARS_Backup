{
 "cells": [
  {
   "cell_type": "code",
   "execution_count": 1,
   "id": "initial_id",
   "metadata": {
    "collapsed": true,
    "ExecuteTime": {
     "end_time": "2023-10-28T21:54:40.329445900Z",
     "start_time": "2023-10-28T21:54:40.222421300Z"
    }
   },
   "outputs": [],
   "source": [
    "import numpy as np\n",
    "# 读取数据\n",
    "permittivity_data = np.load(\"data/permittivity.npy\")\n",
    "lon_axis = np.load(\"data/lon_axis.npy\")\n",
    "lat_axis = np.load(\"data/lat_axis.npy\")"
   ]
  },
  {
   "cell_type": "code",
   "execution_count": 2,
   "outputs": [
    {
     "data": {
      "text/plain": "array([[       nan,        nan,        nan, ...,        nan,        nan,\n               nan],\n       [       nan,        nan,        nan, ..., 3.78238342,        nan,\n               nan],\n       [       nan,        nan, 3.65284974, ..., 3.44559585,        nan,\n               nan],\n       ...,\n       [       nan,        nan,        nan, ...,        nan,        nan,\n               nan],\n       [       nan,        nan,        nan, ...,        nan,        nan,\n               nan],\n       [       nan,        nan,        nan, ...,        nan,        nan,\n               nan]])"
     },
     "execution_count": 2,
     "metadata": {},
     "output_type": "execute_result"
    }
   ],
   "source": [
    "permittivity_data"
   ],
   "metadata": {
    "collapsed": false,
    "ExecuteTime": {
     "end_time": "2023-10-28T21:54:41.145151100Z",
     "start_time": "2023-10-28T21:54:41.136149200Z"
    }
   },
   "id": "d8c0e0d631ce1013"
  },
  {
   "cell_type": "code",
   "execution_count": 3,
   "outputs": [],
   "source": [
    "# meshgrid\n",
    "lon, lat = np.meshgrid(lon_axis, lat_axis)"
   ],
   "metadata": {
    "collapsed": false,
    "ExecuteTime": {
     "end_time": "2023-10-28T21:54:44.380437Z",
     "start_time": "2023-10-28T21:54:44.367434100Z"
    }
   },
   "id": "f3aff581bf01f399"
  },
  {
   "cell_type": "code",
   "execution_count": 4,
   "outputs": [
    {
     "data": {
      "text/plain": "array([[None, 'lApc', 'lApc', ..., 'lApc', 'lApc', None],\n       [None, 'lApc', 'lApc', ..., 'lApc', 'lApc', None],\n       [None, 'lApc', 'lApc', ..., 'lApc', 'lApc', None],\n       ...,\n       [None, 'Apu', 'Apu', ..., 'Apu', 'Apu', None],\n       [None, 'Apu', 'Apu', ..., 'Apu', 'Apu', None],\n       [None, 'Apu', 'Apu', ..., 'Apu', 'Apu', None]], dtype=object)"
     },
     "execution_count": 4,
     "metadata": {},
     "output_type": "execute_result"
    }
   ],
   "source": [
    "from method.geological_units.get_geological_units import get_units\n",
    "units = get_units(lon, lat)\n",
    "units"
   ],
   "metadata": {
    "collapsed": false,
    "ExecuteTime": {
     "end_time": "2023-10-28T21:54:46.508041900Z",
     "start_time": "2023-10-28T21:54:45.223231900Z"
    }
   },
   "id": "bdad7fb5c40fe289"
  },
  {
   "cell_type": "code",
   "execution_count": null,
   "outputs": [],
   "source": [],
   "metadata": {
    "collapsed": false
   },
   "id": "cfe6ddc562abd9a0"
  }
 ],
 "metadata": {
  "kernelspec": {
   "display_name": "Python 3",
   "language": "python",
   "name": "python3"
  },
  "language_info": {
   "codemirror_mode": {
    "name": "ipython",
    "version": 2
   },
   "file_extension": ".py",
   "mimetype": "text/x-python",
   "name": "python",
   "nbconvert_exporter": "python",
   "pygments_lexer": "ipython2",
   "version": "2.7.6"
  }
 },
 "nbformat": 4,
 "nbformat_minor": 5
}
